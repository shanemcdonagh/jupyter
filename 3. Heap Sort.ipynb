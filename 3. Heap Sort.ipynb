{
 "cells": [
  {
   "cell_type": "markdown",
   "id": "aec306ce",
   "metadata": {},
   "source": [
    "# Heap Sort\n",
    "***"
   ]
  },
  {
   "cell_type": "markdown",
   "id": "82d69f36",
   "metadata": {},
   "source": [
    "## Lists in Python\n",
    "***"
   ]
  },
  {
   "cell_type": "code",
   "execution_count": 1,
   "id": "765337c1",
   "metadata": {},
   "outputs": [],
   "source": [
    "# Lists in Python can be created with square brackets\n",
    "L = [1,2,3,\"Hello, world!\", None, True]"
   ]
  },
  {
   "cell_type": "code",
   "execution_count": 2,
   "id": "c5d0fb4e",
   "metadata": {},
   "outputs": [
    {
     "data": {
      "text/plain": [
       "'Hello, world!'"
      ]
     },
     "execution_count": 2,
     "metadata": {},
     "output_type": "execute_result"
    }
   ],
   "source": [
    "# They are zero indexed (as usual)\n",
    "L[3]"
   ]
  },
  {
   "cell_type": "code",
   "execution_count": 3,
   "id": "22fafb7e",
   "metadata": {},
   "outputs": [
    {
     "data": {
      "text/plain": [
       "True"
      ]
     },
     "execution_count": 3,
     "metadata": {},
     "output_type": "execute_result"
    }
   ],
   "source": [
    "L[5]"
   ]
  },
  {
   "cell_type": "code",
   "execution_count": 4,
   "id": "2bff6123",
   "metadata": {},
   "outputs": [
    {
     "data": {
      "text/plain": [
       "[1, 2, 3]"
      ]
     },
     "execution_count": 4,
     "metadata": {},
     "output_type": "execute_result"
    }
   ],
   "source": [
    "# Create lists with the list() function\n",
    "# Set - Only unique values\n",
    "list({1,2,3,3})"
   ]
  },
  {
   "cell_type": "code",
   "execution_count": 5,
   "id": "d1ba39bd",
   "metadata": {},
   "outputs": [
    {
     "data": {
      "text/plain": [
       "True"
      ]
     },
     "execution_count": 5,
     "metadata": {},
     "output_type": "execute_result"
    }
   ],
   "source": [
    "# Can use negative indexes on lists.\n",
    "L[-1]"
   ]
  },
  {
   "cell_type": "code",
   "execution_count": 6,
   "id": "e0b8a1a6",
   "metadata": {},
   "outputs": [
    {
     "data": {
      "text/plain": [
       "'Hello, world!'"
      ]
     },
     "execution_count": 6,
     "metadata": {},
     "output_type": "execute_result"
    }
   ],
   "source": [
    "# Third-last element\n",
    "L[-3]"
   ]
  },
  {
   "cell_type": "code",
   "execution_count": 7,
   "id": "7f117045",
   "metadata": {},
   "outputs": [
    {
     "data": {
      "text/plain": [
       "[0, 2, 4, 6, 8, 10, 12, 14, 16, 18]"
      ]
     },
     "execution_count": 7,
     "metadata": {},
     "output_type": "execute_result"
    }
   ],
   "source": [
    "# In-built functions for creating iterables\n",
    "list(range(0,20,2))"
   ]
  },
  {
   "cell_type": "code",
   "execution_count": 8,
   "id": "e9b64775",
   "metadata": {},
   "outputs": [
    {
     "data": {
      "text/plain": [
       "[0, 1, 2, 3, 4, 5, 6, 7, 8, 9, 10, 11, 12, 13, 14, 15, 16, 17, 18, 19]"
      ]
     },
     "execution_count": 8,
     "metadata": {},
     "output_type": "execute_result"
    }
   ],
   "source": [
    "L = list(range(20))\n",
    "L"
   ]
  },
  {
   "cell_type": "code",
   "execution_count": 9,
   "id": "9e777a7a",
   "metadata": {},
   "outputs": [
    {
     "data": {
      "text/plain": [
       "[1, 3, 5, 7, 9]"
      ]
     },
     "execution_count": 9,
     "metadata": {},
     "output_type": "execute_result"
    }
   ],
   "source": [
    "# Lists can be sliced \n",
    "#(1 = first index, 10 = last (not including) index, 2 = number in which to skip by)\n",
    "L[1:10:2]"
   ]
  },
  {
   "cell_type": "code",
   "execution_count": 10,
   "id": "82c2eece",
   "metadata": {},
   "outputs": [
    {
     "data": {
      "text/plain": [
       "[5, 6, 7, 8, 9]"
      ]
     },
     "execution_count": 10,
     "metadata": {},
     "output_type": "execute_result"
    }
   ],
   "source": [
    "L[5:10]"
   ]
  },
  {
   "cell_type": "code",
   "execution_count": 11,
   "id": "a2fc4b09",
   "metadata": {},
   "outputs": [
    {
     "data": {
      "text/plain": [
       "[5, 6, 7, 8, 9, 10, 11, 12, 13, 14, 15, 16, 17, 18, 19]"
      ]
     },
     "execution_count": 11,
     "metadata": {},
     "output_type": "execute_result"
    }
   ],
   "source": [
    "L[5:]"
   ]
  },
  {
   "cell_type": "code",
   "execution_count": 12,
   "id": "4c4d1715",
   "metadata": {},
   "outputs": [
    {
     "data": {
      "text/plain": [
       "[0, 1, 2, 3, 4]"
      ]
     },
     "execution_count": 12,
     "metadata": {},
     "output_type": "execute_result"
    }
   ],
   "source": [
    "L[:5]"
   ]
  },
  {
   "cell_type": "code",
   "execution_count": 13,
   "id": "89bf9c01",
   "metadata": {},
   "outputs": [
    {
     "data": {
      "text/plain": [
       "[5, 6, 7, 8, 9, 10, 11, 12, 13, 14, 15, 16, 17, 18, 19, 0, 1, 2, 3, 4]"
      ]
     },
     "execution_count": 13,
     "metadata": {},
     "output_type": "execute_result"
    }
   ],
   "source": [
    "# Quick way to cycle the list to the left\n",
    "i = 5\n",
    "L[i:] + L[:i]"
   ]
  },
  {
   "cell_type": "code",
   "execution_count": 14,
   "id": "72626812",
   "metadata": {},
   "outputs": [],
   "source": [
    "# Tuples (Like list, but immutable)\n",
    "T = (1,2,3,4)"
   ]
  },
  {
   "cell_type": "code",
   "execution_count": 15,
   "id": "445d2fd6",
   "metadata": {},
   "outputs": [
    {
     "data": {
      "text/plain": [
       "1"
      ]
     },
     "execution_count": 15,
     "metadata": {},
     "output_type": "execute_result"
    }
   ],
   "source": [
    "# Can select element...\n",
    "T[0]"
   ]
  },
  {
   "cell_type": "code",
   "execution_count": 16,
   "id": "d1f0235b",
   "metadata": {},
   "outputs": [
    {
     "data": {
      "text/plain": [
       "(4,)"
      ]
     },
     "execution_count": 16,
     "metadata": {},
     "output_type": "execute_result"
    }
   ],
   "source": [
    "# Can slice\n",
    "T[3:]"
   ]
  },
  {
   "cell_type": "code",
   "execution_count": 17,
   "id": "017c33a6",
   "metadata": {},
   "outputs": [],
   "source": [
    "# Can't assign - would give an error\n",
    "# T[2] = 100"
   ]
  },
  {
   "cell_type": "code",
   "execution_count": 18,
   "id": "cef8d4b9",
   "metadata": {},
   "outputs": [
    {
     "data": {
      "text/plain": [
       "(1, 2, 3, 4)"
      ]
     },
     "execution_count": 18,
     "metadata": {},
     "output_type": "execute_result"
    }
   ],
   "source": [
    "# Tuples are created with commas, as opposed to round brackets\n",
    "T = 1,2,3,4\n",
    "T"
   ]
  },
  {
   "cell_type": "code",
   "execution_count": 19,
   "id": "b88f07a4",
   "metadata": {},
   "outputs": [],
   "source": [
    "# You can use tuples for assignment"
   ]
  },
  {
   "cell_type": "code",
   "execution_count": 20,
   "id": "cd949b1a",
   "metadata": {},
   "outputs": [],
   "source": [
    "a, b = 3, 4"
   ]
  },
  {
   "cell_type": "code",
   "execution_count": 21,
   "id": "f5d2018c",
   "metadata": {},
   "outputs": [
    {
     "data": {
      "text/plain": [
       "3"
      ]
     },
     "execution_count": 21,
     "metadata": {},
     "output_type": "execute_result"
    }
   ],
   "source": [
    "a"
   ]
  },
  {
   "cell_type": "code",
   "execution_count": 22,
   "id": "48fa0c09",
   "metadata": {},
   "outputs": [
    {
     "data": {
      "text/plain": [
       "4"
      ]
     },
     "execution_count": 22,
     "metadata": {},
     "output_type": "execute_result"
    }
   ],
   "source": [
    "b"
   ]
  },
  {
   "cell_type": "code",
   "execution_count": 23,
   "id": "c45dd032",
   "metadata": {},
   "outputs": [],
   "source": [
    "# Nice trick for swapping two values\n",
    "a, b = b, a"
   ]
  },
  {
   "cell_type": "code",
   "execution_count": 24,
   "id": "071a9e12",
   "metadata": {},
   "outputs": [
    {
     "data": {
      "text/plain": [
       "4"
      ]
     },
     "execution_count": 24,
     "metadata": {},
     "output_type": "execute_result"
    }
   ],
   "source": [
    "a"
   ]
  },
  {
   "cell_type": "code",
   "execution_count": 25,
   "id": "20b31383",
   "metadata": {},
   "outputs": [
    {
     "data": {
      "text/plain": [
       "3"
      ]
     },
     "execution_count": 25,
     "metadata": {},
     "output_type": "execute_result"
    }
   ],
   "source": [
    "b"
   ]
  },
  {
   "cell_type": "code",
   "execution_count": 26,
   "id": "75751f24",
   "metadata": {},
   "outputs": [
    {
     "data": {
      "text/plain": [
       "[0, 1, 2, 3, 4, 5, 6, 7, 8, 9]"
      ]
     },
     "execution_count": 26,
     "metadata": {},
     "output_type": "execute_result"
    }
   ],
   "source": [
    "# List of integers\n",
    "L = list(range(10))\n",
    "L"
   ]
  },
  {
   "cell_type": "code",
   "execution_count": 27,
   "id": "990d2b69",
   "metadata": {},
   "outputs": [
    {
     "data": {
      "text/plain": [
       "[0, 1, 8, 27, 64, 125, 216, 343, 512, 729]"
      ]
     },
     "execution_count": 27,
     "metadata": {},
     "output_type": "execute_result"
    }
   ],
   "source": [
    "# List comprehension\n",
    "[i**3 for i in L]"
   ]
  },
  {
   "cell_type": "code",
   "execution_count": 28,
   "id": "94131341",
   "metadata": {},
   "outputs": [
    {
     "data": {
      "text/plain": [
       "[9, 8, 7, 6, 5, 4, 3, 2, 1, 0]"
      ]
     },
     "execution_count": 28,
     "metadata": {},
     "output_type": "execute_result"
    }
   ],
   "source": [
    "# Curve ball (Reverse the list)\n",
    "L[::-1]"
   ]
  },
  {
   "cell_type": "markdown",
   "id": "db682871",
   "metadata": {},
   "source": [
    "## Bubble Sort\n",
    "***"
   ]
  },
  {
   "cell_type": "code",
   "execution_count": 29,
   "id": "200a5e3a",
   "metadata": {},
   "outputs": [],
   "source": [
    "# Importing module from standard library.\n",
    "import random"
   ]
  },
  {
   "cell_type": "code",
   "execution_count": 30,
   "id": "0b20bd1e",
   "metadata": {},
   "outputs": [
    {
     "data": {
      "text/plain": [
       "[1, 2, 3, 4, 5, 6, 7, 8, 9, 10]"
      ]
     },
     "execution_count": 30,
     "metadata": {},
     "output_type": "execute_result"
    }
   ],
   "source": [
    "# Create a list of integers\n",
    "L = list(range(1,11))\n",
    "L"
   ]
  },
  {
   "cell_type": "code",
   "execution_count": 31,
   "id": "ec3610d7",
   "metadata": {},
   "outputs": [],
   "source": [
    "# Shuffle the list\n",
    "random.shuffle(L)"
   ]
  },
  {
   "cell_type": "code",
   "execution_count": 32,
   "id": "373653f6",
   "metadata": {},
   "outputs": [
    {
     "data": {
      "text/plain": [
       "[5, 9, 7, 1, 4, 10, 2, 8, 6, 3]"
      ]
     },
     "execution_count": 32,
     "metadata": {},
     "output_type": "execute_result"
    }
   ],
   "source": [
    "# The list is shuffled\n",
    "L"
   ]
  },
  {
   "cell_type": "code",
   "execution_count": 33,
   "id": "355aeb82",
   "metadata": {},
   "outputs": [],
   "source": [
    "# Bubble sort\n",
    "\n",
    "# Keep track of no. of comparisons\n",
    "no_comparisons = 0\n",
    "\n",
    "# Bubble every (biggest) element up\n",
    "for j in range(len(L)-1):\n",
    "    # Keep track of any swaps\n",
    "    swapped = False\n",
    "    \n",
    "    # Compare all elements side by side\n",
    "    for i in range(len(L)-1):\n",
    "        # Compare the ith element with the (i+1)th\n",
    "        if L[i] > L [i + 1]:\n",
    "            # Swap the elements\n",
    "            L[i], L[i+1] = L[i+1], L[i]    \n",
    "            # Keep track of swap\n",
    "            swapped = True\n",
    "            \n",
    "        # Increment list\n",
    "        no_comparisons = no_comparisons + 1\n",
    "        \n",
    "    # Quit if there were no swaps\n",
    "    if not swapped:\n",
    "        break"
   ]
  },
  {
   "cell_type": "code",
   "execution_count": 34,
   "id": "862e614b",
   "metadata": {},
   "outputs": [
    {
     "data": {
      "text/plain": [
       "[1, 2, 3, 4, 5, 6, 7, 8, 9, 10]"
      ]
     },
     "execution_count": 34,
     "metadata": {},
     "output_type": "execute_result"
    }
   ],
   "source": [
    "L"
   ]
  },
  {
   "cell_type": "code",
   "execution_count": 35,
   "id": "244bd329",
   "metadata": {},
   "outputs": [
    {
     "data": {
      "text/plain": [
       "72"
      ]
     },
     "execution_count": 35,
     "metadata": {},
     "output_type": "execute_result"
    }
   ],
   "source": [
    "no_comparisons"
   ]
  },
  {
   "cell_type": "code",
   "execution_count": 36,
   "id": "a441c750",
   "metadata": {},
   "outputs": [],
   "source": [
    "# Bubble sort (function)\n",
    "def bubble_sort(L):\n",
    "    # Keep track of no. of comparisons\n",
    "    no_comparisons = 0\n",
    "\n",
    "    # Bubble every (biggest) element up\n",
    "    for j in range(len(L)-1):\n",
    "        # Keep track of any swaps\n",
    "        swapped = False\n",
    "\n",
    "        # Compare all elements side by side\n",
    "        for i in range(len(L)-1 - j):\n",
    "            # Compare the ith element with the (i+1)th\n",
    "            if L[i] > L [i + 1]:\n",
    "                # Swap the elements\n",
    "                L[i], L[i+1] = L[i+1], L[i]    \n",
    "                # Keep track of swap\n",
    "                swapped = True\n",
    "\n",
    "            # Increment list\n",
    "            no_comparisons = no_comparisons + 1\n",
    "\n",
    "        # Quit if there were no swaps\n",
    "        if not swapped:\n",
    "            break\n",
    "    return no_comparisons"
   ]
  },
  {
   "cell_type": "code",
   "execution_count": 37,
   "id": "6e4e7417",
   "metadata": {},
   "outputs": [
    {
     "data": {
      "text/plain": [
       "[5, 10, 8, 6, 1, 9, 4, 3, 2, 7]"
      ]
     },
     "execution_count": 37,
     "metadata": {},
     "output_type": "execute_result"
    }
   ],
   "source": [
    "# Create a list\n",
    "L = list(range(1,11))\n",
    "\n",
    "# Shuffle it\n",
    "random.shuffle(L)\n",
    "\n",
    "# Look at it\n",
    "L"
   ]
  },
  {
   "cell_type": "code",
   "execution_count": 38,
   "id": "d91c56fa",
   "metadata": {},
   "outputs": [
    {
     "data": {
      "text/plain": [
       "44"
      ]
     },
     "execution_count": 38,
     "metadata": {},
     "output_type": "execute_result"
    }
   ],
   "source": [
    "bubble_sort(L)"
   ]
  },
  {
   "cell_type": "code",
   "execution_count": 39,
   "id": "56fdee48",
   "metadata": {},
   "outputs": [
    {
     "data": {
      "text/plain": [
       "[1, 2, 3, 4, 5, 6, 7, 8, 9, 10]"
      ]
     },
     "execution_count": 39,
     "metadata": {},
     "output_type": "execute_result"
    }
   ],
   "source": [
    "L"
   ]
  },
  {
   "cell_type": "code",
   "execution_count": 40,
   "id": "3fcce4d5",
   "metadata": {},
   "outputs": [
    {
     "data": {
      "text/plain": [
       "9"
      ]
     },
     "execution_count": 40,
     "metadata": {},
     "output_type": "execute_result"
    }
   ],
   "source": [
    "# Once the list is sorted, bubble sort is O(n)\n",
    "bubble_sort(L)"
   ]
  },
  {
   "cell_type": "code",
   "execution_count": 41,
   "id": "45e74e77",
   "metadata": {},
   "outputs": [
    {
     "data": {
      "text/plain": [
       "[10, 9, 8, 7, 6, 5, 4, 3, 2, 1]"
      ]
     },
     "execution_count": 41,
     "metadata": {},
     "output_type": "execute_result"
    }
   ],
   "source": [
    "# The worst case for bubble sort (reverse list)\n",
    "L[::-1]"
   ]
  },
  {
   "cell_type": "code",
   "execution_count": 42,
   "id": "9e723aa6",
   "metadata": {},
   "outputs": [
    {
     "data": {
      "text/plain": [
       "45"
      ]
     },
     "execution_count": 42,
     "metadata": {},
     "output_type": "execute_result"
    }
   ],
   "source": [
    "# Still O(n^2)\n",
    "bubble_sort(L[::-1])"
   ]
  },
  {
   "cell_type": "markdown",
   "id": "e2cc6f89",
   "metadata": {},
   "source": [
    "\n",
    "\n",
    "\n",
    "## Heap Sort\n",
    "***\n",
    "\n"
   ]
  },
  {
   "cell_type": "markdown",
   "id": "7ae2358d",
   "metadata": {},
   "source": [
    "#### Taken from Wikipedia\n",
    "https://en.wikipedia.org/wiki/Heapsort#Pseudocode"
   ]
  },
  {
   "cell_type": "code",
   "execution_count": 43,
   "id": "1ee5a4d5",
   "metadata": {},
   "outputs": [],
   "source": [
    "# Put the elements of array 'a', in heap order (in-place)\n",
    "def heapify(a,count):\n",
    "    # Assigned to the last parent node\n",
    "    start = (count - 2) // 2  #iParent(count -1)\n",
    "    \n",
    "    while start >= 0:\n",
    "        # Sift down node at index[start] to it's proper place\n",
    "        # Done so all nodes bellow start index are in heap order\n",
    "        siftDown(a,start,count-1)\n",
    "        \n",
    "        # Move to the next parent node\n",
    "        start = start -1 \n",
    "        \n",
    "    "
   ]
  },
  {
   "cell_type": "code",
   "execution_count": 44,
   "id": "9a279c8e",
   "metadata": {},
   "outputs": [],
   "source": [
    "# Repair heap whose root element is index \"start\"\n",
    "# Assumes the heaps rooted at its children are valid\n",
    "def siftDown(a,start,end):\n",
    "    root = start\n",
    "    \n",
    "    # While the root has atleast one child\n",
    "    while(2 * root + 1) <= end:\n",
    "        child = (2 * root + 1)\n",
    "        \n",
    "        # Used to keep track of the child to swap with\n",
    "        swap = root\n",
    "        \n",
    "        # If: The right child (if present) is greater, swap them\n",
    "        if a[swap] < a[child]:\n",
    "            swap = child\n",
    "        if child + 1 <= end and a[swap] < a[child + 1]:\n",
    "            swap = child + 1\n",
    "        if swap == root:\n",
    "            return\n",
    "        else:\n",
    "            a[root], a[swap] = a[swap],a[root]\n",
    "            root = swap\n",
    "            \n",
    "        # Repeats to continue sifting the child"
   ]
  },
  {
   "cell_type": "code",
   "execution_count": 45,
   "id": "196fb57d",
   "metadata": {},
   "outputs": [],
   "source": [
    "def heapsort(a):\n",
    "    # Input: Sorts unordered array a of length count\n",
    "    count = len(a)\n",
    "    \n",
    "    # Build heap in array a so largest value is at the root\n",
    "    heapify(a, count)\n",
    "    \n",
    "    # End of the list\n",
    "    end = count - 1\n",
    "    \n",
    "    # While there are elements in the heap\n",
    "    while end > 0:\n",
    "        # Swap largest value in front of sorted elements\n",
    "        a[0],a[end]  = a[end], a[0]\n",
    "        \n",
    "        # Reduce heap size\n",
    "        end = end -1\n",
    "        \n",
    "        siftDown(a,0,end)"
   ]
  },
  {
   "cell_type": "code",
   "execution_count": 46,
   "id": "c63d44e1",
   "metadata": {},
   "outputs": [
    {
     "data": {
      "text/plain": [
       "[7, 8, 9]"
      ]
     },
     "execution_count": 46,
     "metadata": {},
     "output_type": "execute_result"
    }
   ],
   "source": [
    "L = [9,8,7]\n",
    "heapsort(L)\n",
    "L"
   ]
  },
  {
   "cell_type": "code",
   "execution_count": 47,
   "id": "19926344",
   "metadata": {},
   "outputs": [
    {
     "name": "stdout",
     "output_type": "stream",
     "text": [
      "(0, 1, 2, 3, 4) -> [0, 1, 2, 3, 4]\n",
      "(0, 1, 2, 4, 3) -> [0, 1, 2, 3, 4]\n",
      "(0, 1, 3, 2, 4) -> [0, 1, 2, 3, 4]\n",
      "(0, 1, 3, 4, 2) -> [0, 1, 2, 3, 4]\n",
      "(0, 1, 4, 2, 3) -> [0, 1, 2, 3, 4]\n",
      "(0, 1, 4, 3, 2) -> [0, 1, 2, 3, 4]\n",
      "(0, 2, 1, 3, 4) -> [0, 1, 2, 3, 4]\n",
      "(0, 2, 1, 4, 3) -> [0, 1, 2, 3, 4]\n",
      "(0, 2, 3, 1, 4) -> [0, 1, 2, 3, 4]\n",
      "(0, 2, 3, 4, 1) -> [0, 1, 2, 3, 4]\n",
      "(0, 2, 4, 1, 3) -> [0, 1, 2, 3, 4]\n",
      "(0, 2, 4, 3, 1) -> [0, 1, 2, 3, 4]\n",
      "(0, 3, 1, 2, 4) -> [0, 1, 2, 3, 4]\n",
      "(0, 3, 1, 4, 2) -> [0, 1, 2, 3, 4]\n",
      "(0, 3, 2, 1, 4) -> [0, 1, 2, 3, 4]\n",
      "(0, 3, 2, 4, 1) -> [0, 1, 2, 3, 4]\n",
      "(0, 3, 4, 1, 2) -> [0, 1, 2, 3, 4]\n",
      "(0, 3, 4, 2, 1) -> [0, 1, 2, 3, 4]\n",
      "(0, 4, 1, 2, 3) -> [0, 1, 2, 3, 4]\n",
      "(0, 4, 1, 3, 2) -> [0, 1, 2, 3, 4]\n",
      "(0, 4, 2, 1, 3) -> [0, 1, 2, 3, 4]\n",
      "(0, 4, 2, 3, 1) -> [0, 1, 2, 3, 4]\n",
      "(0, 4, 3, 1, 2) -> [0, 1, 2, 3, 4]\n",
      "(0, 4, 3, 2, 1) -> [0, 1, 2, 3, 4]\n",
      "(1, 0, 2, 3, 4) -> [0, 1, 2, 3, 4]\n",
      "(1, 0, 2, 4, 3) -> [0, 1, 2, 3, 4]\n",
      "(1, 0, 3, 2, 4) -> [0, 1, 2, 3, 4]\n",
      "(1, 0, 3, 4, 2) -> [0, 1, 2, 3, 4]\n",
      "(1, 0, 4, 2, 3) -> [0, 1, 2, 3, 4]\n",
      "(1, 0, 4, 3, 2) -> [0, 1, 2, 3, 4]\n",
      "(1, 2, 0, 3, 4) -> [0, 1, 2, 3, 4]\n",
      "(1, 2, 0, 4, 3) -> [0, 1, 2, 3, 4]\n",
      "(1, 2, 3, 0, 4) -> [0, 1, 2, 3, 4]\n",
      "(1, 2, 3, 4, 0) -> [0, 1, 2, 3, 4]\n",
      "(1, 2, 4, 0, 3) -> [0, 1, 2, 3, 4]\n",
      "(1, 2, 4, 3, 0) -> [0, 1, 2, 3, 4]\n",
      "(1, 3, 0, 2, 4) -> [0, 1, 2, 3, 4]\n",
      "(1, 3, 0, 4, 2) -> [0, 1, 2, 3, 4]\n",
      "(1, 3, 2, 0, 4) -> [0, 1, 2, 3, 4]\n",
      "(1, 3, 2, 4, 0) -> [0, 1, 2, 3, 4]\n",
      "(1, 3, 4, 0, 2) -> [0, 1, 2, 3, 4]\n",
      "(1, 3, 4, 2, 0) -> [0, 1, 2, 3, 4]\n",
      "(1, 4, 0, 2, 3) -> [0, 1, 2, 3, 4]\n",
      "(1, 4, 0, 3, 2) -> [0, 1, 2, 3, 4]\n",
      "(1, 4, 2, 0, 3) -> [0, 1, 2, 3, 4]\n",
      "(1, 4, 2, 3, 0) -> [0, 1, 2, 3, 4]\n",
      "(1, 4, 3, 0, 2) -> [0, 1, 2, 3, 4]\n",
      "(1, 4, 3, 2, 0) -> [0, 1, 2, 3, 4]\n",
      "(2, 0, 1, 3, 4) -> [0, 1, 2, 3, 4]\n",
      "(2, 0, 1, 4, 3) -> [0, 1, 2, 3, 4]\n",
      "(2, 0, 3, 1, 4) -> [0, 1, 2, 3, 4]\n",
      "(2, 0, 3, 4, 1) -> [0, 1, 2, 3, 4]\n",
      "(2, 0, 4, 1, 3) -> [0, 1, 2, 3, 4]\n",
      "(2, 0, 4, 3, 1) -> [0, 1, 2, 3, 4]\n",
      "(2, 1, 0, 3, 4) -> [0, 1, 2, 3, 4]\n",
      "(2, 1, 0, 4, 3) -> [0, 1, 2, 3, 4]\n",
      "(2, 1, 3, 0, 4) -> [0, 1, 2, 3, 4]\n",
      "(2, 1, 3, 4, 0) -> [0, 1, 2, 3, 4]\n",
      "(2, 1, 4, 0, 3) -> [0, 1, 2, 3, 4]\n",
      "(2, 1, 4, 3, 0) -> [0, 1, 2, 3, 4]\n",
      "(2, 3, 0, 1, 4) -> [0, 1, 2, 3, 4]\n",
      "(2, 3, 0, 4, 1) -> [0, 1, 2, 3, 4]\n",
      "(2, 3, 1, 0, 4) -> [0, 1, 2, 3, 4]\n",
      "(2, 3, 1, 4, 0) -> [0, 1, 2, 3, 4]\n",
      "(2, 3, 4, 0, 1) -> [0, 1, 2, 3, 4]\n",
      "(2, 3, 4, 1, 0) -> [0, 1, 2, 3, 4]\n",
      "(2, 4, 0, 1, 3) -> [0, 1, 2, 3, 4]\n",
      "(2, 4, 0, 3, 1) -> [0, 1, 2, 3, 4]\n",
      "(2, 4, 1, 0, 3) -> [0, 1, 2, 3, 4]\n",
      "(2, 4, 1, 3, 0) -> [0, 1, 2, 3, 4]\n",
      "(2, 4, 3, 0, 1) -> [0, 1, 2, 3, 4]\n",
      "(2, 4, 3, 1, 0) -> [0, 1, 2, 3, 4]\n",
      "(3, 0, 1, 2, 4) -> [0, 1, 2, 3, 4]\n",
      "(3, 0, 1, 4, 2) -> [0, 1, 2, 3, 4]\n",
      "(3, 0, 2, 1, 4) -> [0, 1, 2, 3, 4]\n",
      "(3, 0, 2, 4, 1) -> [0, 1, 2, 3, 4]\n",
      "(3, 0, 4, 1, 2) -> [0, 1, 2, 3, 4]\n",
      "(3, 0, 4, 2, 1) -> [0, 1, 2, 3, 4]\n",
      "(3, 1, 0, 2, 4) -> [0, 1, 2, 3, 4]\n",
      "(3, 1, 0, 4, 2) -> [0, 1, 2, 3, 4]\n",
      "(3, 1, 2, 0, 4) -> [0, 1, 2, 3, 4]\n",
      "(3, 1, 2, 4, 0) -> [0, 1, 2, 3, 4]\n",
      "(3, 1, 4, 0, 2) -> [0, 1, 2, 3, 4]\n",
      "(3, 1, 4, 2, 0) -> [0, 1, 2, 3, 4]\n",
      "(3, 2, 0, 1, 4) -> [0, 1, 2, 3, 4]\n",
      "(3, 2, 0, 4, 1) -> [0, 1, 2, 3, 4]\n",
      "(3, 2, 1, 0, 4) -> [0, 1, 2, 3, 4]\n",
      "(3, 2, 1, 4, 0) -> [0, 1, 2, 3, 4]\n",
      "(3, 2, 4, 0, 1) -> [0, 1, 2, 3, 4]\n",
      "(3, 2, 4, 1, 0) -> [0, 1, 2, 3, 4]\n",
      "(3, 4, 0, 1, 2) -> [0, 1, 2, 3, 4]\n",
      "(3, 4, 0, 2, 1) -> [0, 1, 2, 3, 4]\n",
      "(3, 4, 1, 0, 2) -> [0, 1, 2, 3, 4]\n",
      "(3, 4, 1, 2, 0) -> [0, 1, 2, 3, 4]\n",
      "(3, 4, 2, 0, 1) -> [0, 1, 2, 3, 4]\n",
      "(3, 4, 2, 1, 0) -> [0, 1, 2, 3, 4]\n",
      "(4, 0, 1, 2, 3) -> [0, 1, 2, 3, 4]\n",
      "(4, 0, 1, 3, 2) -> [0, 1, 2, 3, 4]\n",
      "(4, 0, 2, 1, 3) -> [0, 1, 2, 3, 4]\n",
      "(4, 0, 2, 3, 1) -> [0, 1, 2, 3, 4]\n",
      "(4, 0, 3, 1, 2) -> [0, 1, 2, 3, 4]\n",
      "(4, 0, 3, 2, 1) -> [0, 1, 2, 3, 4]\n",
      "(4, 1, 0, 2, 3) -> [0, 1, 2, 3, 4]\n",
      "(4, 1, 0, 3, 2) -> [0, 1, 2, 3, 4]\n",
      "(4, 1, 2, 0, 3) -> [0, 1, 2, 3, 4]\n",
      "(4, 1, 2, 3, 0) -> [0, 1, 2, 3, 4]\n",
      "(4, 1, 3, 0, 2) -> [0, 1, 2, 3, 4]\n",
      "(4, 1, 3, 2, 0) -> [0, 1, 2, 3, 4]\n",
      "(4, 2, 0, 1, 3) -> [0, 1, 2, 3, 4]\n",
      "(4, 2, 0, 3, 1) -> [0, 1, 2, 3, 4]\n",
      "(4, 2, 1, 0, 3) -> [0, 1, 2, 3, 4]\n",
      "(4, 2, 1, 3, 0) -> [0, 1, 2, 3, 4]\n",
      "(4, 2, 3, 0, 1) -> [0, 1, 2, 3, 4]\n",
      "(4, 2, 3, 1, 0) -> [0, 1, 2, 3, 4]\n",
      "(4, 3, 0, 1, 2) -> [0, 1, 2, 3, 4]\n",
      "(4, 3, 0, 2, 1) -> [0, 1, 2, 3, 4]\n",
      "(4, 3, 1, 0, 2) -> [0, 1, 2, 3, 4]\n",
      "(4, 3, 1, 2, 0) -> [0, 1, 2, 3, 4]\n",
      "(4, 3, 2, 0, 1) -> [0, 1, 2, 3, 4]\n",
      "(4, 3, 2, 1, 0) -> [0, 1, 2, 3, 4]\n"
     ]
    }
   ],
   "source": [
    "import itertools\n",
    "\n",
    "# Showcasing that the heapsort algorithm can sort many lists quickly\n",
    "for perm in itertools.permutations(range(5)):\n",
    "    L = list(perm)\n",
    "    heapsort(L)\n",
    "    print(f'{perm} -> {L}')"
   ]
  },
  {
   "cell_type": "markdown",
   "id": "270691d0",
   "metadata": {},
   "source": [
    "***\n",
    "## End of Work"
   ]
  }
 ],
 "metadata": {
  "kernelspec": {
   "display_name": "Python 3 (ipykernel)",
   "language": "python",
   "name": "python3"
  },
  "language_info": {
   "codemirror_mode": {
    "name": "ipython",
    "version": 3
   },
   "file_extension": ".py",
   "mimetype": "text/x-python",
   "name": "python",
   "nbconvert_exporter": "python",
   "pygments_lexer": "ipython3",
   "version": "3.9.7"
  }
 },
 "nbformat": 4,
 "nbformat_minor": 5
}
