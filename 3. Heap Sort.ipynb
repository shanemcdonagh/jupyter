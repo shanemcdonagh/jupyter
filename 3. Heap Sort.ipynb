{
 "cells": [
  {
   "cell_type": "markdown",
   "id": "aec306ce",
   "metadata": {},
   "source": [
    "# Heap Sort\n",
    "***"
   ]
  },
  {
   "cell_type": "markdown",
   "id": "82d69f36",
   "metadata": {},
   "source": [
    "## Lists in Python\n",
    "***"
   ]
  },
  {
   "cell_type": "code",
   "execution_count": 1,
   "id": "765337c1",
   "metadata": {},
   "outputs": [],
   "source": [
    "# Lists in Python can be created with square brackets\n",
    "L = [1,2,3,\"Hello, world!\", None, True]"
   ]
  },
  {
   "cell_type": "code",
   "execution_count": 2,
   "id": "c5d0fb4e",
   "metadata": {},
   "outputs": [
    {
     "data": {
      "text/plain": [
       "'Hello, world!'"
      ]
     },
     "execution_count": 2,
     "metadata": {},
     "output_type": "execute_result"
    }
   ],
   "source": [
    "# They are zero indexed (as usual)\n",
    "L[3]"
   ]
  },
  {
   "cell_type": "code",
   "execution_count": 3,
   "id": "22fafb7e",
   "metadata": {},
   "outputs": [
    {
     "data": {
      "text/plain": [
       "True"
      ]
     },
     "execution_count": 3,
     "metadata": {},
     "output_type": "execute_result"
    }
   ],
   "source": [
    "L[5]"
   ]
  },
  {
   "cell_type": "code",
   "execution_count": 4,
   "id": "2bff6123",
   "metadata": {},
   "outputs": [
    {
     "data": {
      "text/plain": [
       "[1, 2, 3]"
      ]
     },
     "execution_count": 4,
     "metadata": {},
     "output_type": "execute_result"
    }
   ],
   "source": [
    "# Create lists with the list() function\n",
    "# Set - Only unique values\n",
    "list({1,2,3,3})"
   ]
  },
  {
   "cell_type": "code",
   "execution_count": 5,
   "id": "d1ba39bd",
   "metadata": {},
   "outputs": [
    {
     "data": {
      "text/plain": [
       "True"
      ]
     },
     "execution_count": 5,
     "metadata": {},
     "output_type": "execute_result"
    }
   ],
   "source": [
    "# Can use negative indexes on lists.\n",
    "L[-1]"
   ]
  },
  {
   "cell_type": "code",
   "execution_count": 6,
   "id": "e0b8a1a6",
   "metadata": {},
   "outputs": [
    {
     "data": {
      "text/plain": [
       "'Hello, world!'"
      ]
     },
     "execution_count": 6,
     "metadata": {},
     "output_type": "execute_result"
    }
   ],
   "source": [
    "# Third-last element\n",
    "L[-3]"
   ]
  },
  {
   "cell_type": "code",
   "execution_count": 7,
   "id": "7f117045",
   "metadata": {},
   "outputs": [
    {
     "data": {
      "text/plain": [
       "[0, 2, 4, 6, 8, 10, 12, 14, 16, 18]"
      ]
     },
     "execution_count": 7,
     "metadata": {},
     "output_type": "execute_result"
    }
   ],
   "source": [
    "# In-built functions for creating iterables\n",
    "list(range(0,20,2))"
   ]
  },
  {
   "cell_type": "code",
   "execution_count": 8,
   "id": "e9b64775",
   "metadata": {},
   "outputs": [
    {
     "data": {
      "text/plain": [
       "[0, 1, 2, 3, 4, 5, 6, 7, 8, 9, 10, 11, 12, 13, 14, 15, 16, 17, 18, 19]"
      ]
     },
     "execution_count": 8,
     "metadata": {},
     "output_type": "execute_result"
    }
   ],
   "source": [
    "L = list(range(20))\n",
    "L"
   ]
  },
  {
   "cell_type": "code",
   "execution_count": 9,
   "id": "9e777a7a",
   "metadata": {},
   "outputs": [
    {
     "data": {
      "text/plain": [
       "[1, 3, 5, 7, 9]"
      ]
     },
     "execution_count": 9,
     "metadata": {},
     "output_type": "execute_result"
    }
   ],
   "source": [
    "# Lists can be sliced \n",
    "#(1 = first index, 10 = last (not including) index, 2 = number in which to skip by)\n",
    "L[1:10:2]"
   ]
  },
  {
   "cell_type": "code",
   "execution_count": 10,
   "id": "82c2eece",
   "metadata": {},
   "outputs": [
    {
     "data": {
      "text/plain": [
       "[5, 6, 7, 8, 9]"
      ]
     },
     "execution_count": 10,
     "metadata": {},
     "output_type": "execute_result"
    }
   ],
   "source": [
    "L[5:10]"
   ]
  },
  {
   "cell_type": "code",
   "execution_count": 11,
   "id": "a2fc4b09",
   "metadata": {},
   "outputs": [
    {
     "data": {
      "text/plain": [
       "[5, 6, 7, 8, 9, 10, 11, 12, 13, 14, 15, 16, 17, 18, 19]"
      ]
     },
     "execution_count": 11,
     "metadata": {},
     "output_type": "execute_result"
    }
   ],
   "source": [
    "L[5:]"
   ]
  },
  {
   "cell_type": "code",
   "execution_count": 12,
   "id": "4c4d1715",
   "metadata": {},
   "outputs": [
    {
     "data": {
      "text/plain": [
       "[0, 1, 2, 3, 4]"
      ]
     },
     "execution_count": 12,
     "metadata": {},
     "output_type": "execute_result"
    }
   ],
   "source": [
    "L[:5]"
   ]
  },
  {
   "cell_type": "code",
   "execution_count": 13,
   "id": "89bf9c01",
   "metadata": {},
   "outputs": [
    {
     "data": {
      "text/plain": [
       "[5, 6, 7, 8, 9, 10, 11, 12, 13, 14, 15, 16, 17, 18, 19, 0, 1, 2, 3, 4]"
      ]
     },
     "execution_count": 13,
     "metadata": {},
     "output_type": "execute_result"
    }
   ],
   "source": [
    "# Quick way to cycle the list to the left\n",
    "i = 5\n",
    "L[i:] + L[:i]"
   ]
  },
  {
   "cell_type": "code",
   "execution_count": 14,
   "id": "72626812",
   "metadata": {},
   "outputs": [],
   "source": [
    "# Tuples (Like list, but immutable)\n",
    "T = (1,2,3,4)"
   ]
  },
  {
   "cell_type": "code",
   "execution_count": 15,
   "id": "445d2fd6",
   "metadata": {},
   "outputs": [
    {
     "data": {
      "text/plain": [
       "1"
      ]
     },
     "execution_count": 15,
     "metadata": {},
     "output_type": "execute_result"
    }
   ],
   "source": [
    "# Can select element...\n",
    "T[0]"
   ]
  },
  {
   "cell_type": "code",
   "execution_count": 16,
   "id": "d1f0235b",
   "metadata": {},
   "outputs": [
    {
     "data": {
      "text/plain": [
       "(4,)"
      ]
     },
     "execution_count": 16,
     "metadata": {},
     "output_type": "execute_result"
    }
   ],
   "source": [
    "# Can slice\n",
    "T[3:]"
   ]
  },
  {
   "cell_type": "code",
   "execution_count": 17,
   "id": "017c33a6",
   "metadata": {},
   "outputs": [],
   "source": [
    "# Can't assign - would give an error\n",
    "# T[2] = 100"
   ]
  },
  {
   "cell_type": "code",
   "execution_count": 18,
   "id": "cef8d4b9",
   "metadata": {},
   "outputs": [
    {
     "data": {
      "text/plain": [
       "(1, 2, 3, 4)"
      ]
     },
     "execution_count": 18,
     "metadata": {},
     "output_type": "execute_result"
    }
   ],
   "source": [
    "# Tuples are created with commas, as opposed to round brackets\n",
    "T = 1,2,3,4\n",
    "T"
   ]
  },
  {
   "cell_type": "code",
   "execution_count": 19,
   "id": "b88f07a4",
   "metadata": {},
   "outputs": [],
   "source": [
    "# You can use tuples for assignment"
   ]
  },
  {
   "cell_type": "code",
   "execution_count": 20,
   "id": "cd949b1a",
   "metadata": {},
   "outputs": [],
   "source": [
    "a, b = 3, 4"
   ]
  },
  {
   "cell_type": "code",
   "execution_count": 21,
   "id": "f5d2018c",
   "metadata": {},
   "outputs": [
    {
     "data": {
      "text/plain": [
       "3"
      ]
     },
     "execution_count": 21,
     "metadata": {},
     "output_type": "execute_result"
    }
   ],
   "source": [
    "a"
   ]
  },
  {
   "cell_type": "code",
   "execution_count": 22,
   "id": "48fa0c09",
   "metadata": {},
   "outputs": [
    {
     "data": {
      "text/plain": [
       "4"
      ]
     },
     "execution_count": 22,
     "metadata": {},
     "output_type": "execute_result"
    }
   ],
   "source": [
    "b"
   ]
  },
  {
   "cell_type": "code",
   "execution_count": 23,
   "id": "c45dd032",
   "metadata": {},
   "outputs": [],
   "source": [
    "# Nice trick for swapping two values\n",
    "a, b = b, a"
   ]
  },
  {
   "cell_type": "code",
   "execution_count": 24,
   "id": "071a9e12",
   "metadata": {},
   "outputs": [
    {
     "data": {
      "text/plain": [
       "4"
      ]
     },
     "execution_count": 24,
     "metadata": {},
     "output_type": "execute_result"
    }
   ],
   "source": [
    "a"
   ]
  },
  {
   "cell_type": "code",
   "execution_count": 25,
   "id": "20b31383",
   "metadata": {},
   "outputs": [
    {
     "data": {
      "text/plain": [
       "3"
      ]
     },
     "execution_count": 25,
     "metadata": {},
     "output_type": "execute_result"
    }
   ],
   "source": [
    "b"
   ]
  },
  {
   "cell_type": "code",
   "execution_count": 26,
   "id": "75751f24",
   "metadata": {},
   "outputs": [
    {
     "data": {
      "text/plain": [
       "[0, 1, 2, 3, 4, 5, 6, 7, 8, 9]"
      ]
     },
     "execution_count": 26,
     "metadata": {},
     "output_type": "execute_result"
    }
   ],
   "source": [
    "# List of integers\n",
    "L = list(range(10))\n",
    "L"
   ]
  },
  {
   "cell_type": "code",
   "execution_count": 27,
   "id": "990d2b69",
   "metadata": {},
   "outputs": [
    {
     "data": {
      "text/plain": [
       "[0, 1, 8, 27, 64, 125, 216, 343, 512, 729]"
      ]
     },
     "execution_count": 27,
     "metadata": {},
     "output_type": "execute_result"
    }
   ],
   "source": [
    "# List comprehension\n",
    "[i**3 for i in L]"
   ]
  },
  {
   "cell_type": "code",
   "execution_count": 28,
   "id": "94131341",
   "metadata": {},
   "outputs": [
    {
     "data": {
      "text/plain": [
       "[9, 8, 7, 6, 5, 4, 3, 2, 1, 0]"
      ]
     },
     "execution_count": 28,
     "metadata": {},
     "output_type": "execute_result"
    }
   ],
   "source": [
    "# Curve ball (Reverse the list)\n",
    "L[::-1]"
   ]
  },
  {
   "cell_type": "markdown",
   "id": "db682871",
   "metadata": {},
   "source": [
    "## Bubble Sort\n",
    "***"
   ]
  },
  {
   "cell_type": "code",
   "execution_count": 29,
   "id": "200a5e3a",
   "metadata": {},
   "outputs": [],
   "source": [
    "# Importing module from standard library.\n",
    "import random"
   ]
  },
  {
   "cell_type": "code",
   "execution_count": 30,
   "id": "0b20bd1e",
   "metadata": {},
   "outputs": [
    {
     "data": {
      "text/plain": [
       "[1, 2, 3, 4, 5, 6, 7, 8, 9, 10]"
      ]
     },
     "execution_count": 30,
     "metadata": {},
     "output_type": "execute_result"
    }
   ],
   "source": [
    "# Create a list of integers\n",
    "L = list(range(1,11))\n",
    "L"
   ]
  },
  {
   "cell_type": "code",
   "execution_count": 31,
   "id": "ec3610d7",
   "metadata": {},
   "outputs": [],
   "source": [
    "# Shuffle the list\n",
    "random.shuffle(L)"
   ]
  },
  {
   "cell_type": "code",
   "execution_count": 32,
   "id": "373653f6",
   "metadata": {},
   "outputs": [
    {
     "data": {
      "text/plain": [
       "[5, 3, 1, 10, 6, 2, 7, 9, 4, 8]"
      ]
     },
     "execution_count": 32,
     "metadata": {},
     "output_type": "execute_result"
    }
   ],
   "source": [
    "# The list is shuffled\n",
    "L"
   ]
  },
  {
   "cell_type": "code",
   "execution_count": 33,
   "id": "355aeb82",
   "metadata": {},
   "outputs": [],
   "source": [
    "# Bubble sort\n",
    "\n",
    "# Keep track of no. of comparisons\n",
    "no_comparisons = 0\n",
    "\n",
    "# Bubble every (biggest) element up\n",
    "for j in range(len(L)-1):\n",
    "    # Keep track of any swaps\n",
    "    swapped = False\n",
    "    \n",
    "    # Compare all elements side by side\n",
    "    for i in range(len(L)-1):\n",
    "        # Compare the ith element with the (i+1)th\n",
    "        if L[i] > L [i + 1]:\n",
    "            # Swap the elements\n",
    "            L[i], L[i+1] = L[i+1], L[i]    \n",
    "            # Keep track of swap\n",
    "            swapped = True\n",
    "            \n",
    "        # Increment list\n",
    "        no_comparisons = no_comparisons + 1\n",
    "        \n",
    "    # Quit if there were no swaps\n",
    "    if not swapped:\n",
    "        break"
   ]
  },
  {
   "cell_type": "code",
   "execution_count": 34,
   "id": "862e614b",
   "metadata": {},
   "outputs": [
    {
     "data": {
      "text/plain": [
       "[1, 2, 3, 4, 5, 6, 7, 8, 9, 10]"
      ]
     },
     "execution_count": 34,
     "metadata": {},
     "output_type": "execute_result"
    }
   ],
   "source": [
    "L"
   ]
  },
  {
   "cell_type": "code",
   "execution_count": 35,
   "id": "244bd329",
   "metadata": {},
   "outputs": [
    {
     "data": {
      "text/plain": [
       "54"
      ]
     },
     "execution_count": 35,
     "metadata": {},
     "output_type": "execute_result"
    }
   ],
   "source": [
    "no_comparisons"
   ]
  },
  {
   "cell_type": "code",
   "execution_count": 36,
   "id": "a441c750",
   "metadata": {},
   "outputs": [],
   "source": [
    "# Bubble sort (function)\n",
    "def bubble_sort(L):\n",
    "    # Keep track of no. of comparisons\n",
    "    no_comparisons = 0\n",
    "\n",
    "    # Bubble every (biggest) element up\n",
    "    for j in range(len(L)-1):\n",
    "        # Keep track of any swaps\n",
    "        swapped = False\n",
    "\n",
    "        # Compare all elements side by side\n",
    "        for i in range(len(L)-1 - j):\n",
    "            # Compare the ith element with the (i+1)th\n",
    "            if L[i] > L [i + 1]:\n",
    "                # Swap the elements\n",
    "                L[i], L[i+1] = L[i+1], L[i]    \n",
    "                # Keep track of swap\n",
    "                swapped = True\n",
    "\n",
    "            # Increment list\n",
    "            no_comparisons = no_comparisons + 1\n",
    "\n",
    "        # Quit if there were no swaps\n",
    "        if not swapped:\n",
    "            break\n",
    "    return no_comparisons"
   ]
  },
  {
   "cell_type": "code",
   "execution_count": 37,
   "id": "6e4e7417",
   "metadata": {},
   "outputs": [
    {
     "data": {
      "text/plain": [
       "[1, 3, 9, 6, 8, 10, 2, 5, 4, 7]"
      ]
     },
     "execution_count": 37,
     "metadata": {},
     "output_type": "execute_result"
    }
   ],
   "source": [
    "# Create a list\n",
    "L = list(range(1,11))\n",
    "\n",
    "# Shuffle it\n",
    "random.shuffle(L)\n",
    "\n",
    "# Look at it\n",
    "L"
   ]
  },
  {
   "cell_type": "code",
   "execution_count": 38,
   "id": "d91c56fa",
   "metadata": {},
   "outputs": [
    {
     "data": {
      "text/plain": [
       "39"
      ]
     },
     "execution_count": 38,
     "metadata": {},
     "output_type": "execute_result"
    }
   ],
   "source": [
    "bubble_sort(L)"
   ]
  },
  {
   "cell_type": "code",
   "execution_count": 39,
   "id": "56fdee48",
   "metadata": {},
   "outputs": [
    {
     "data": {
      "text/plain": [
       "[1, 2, 3, 4, 5, 6, 7, 8, 9, 10]"
      ]
     },
     "execution_count": 39,
     "metadata": {},
     "output_type": "execute_result"
    }
   ],
   "source": [
    "L"
   ]
  },
  {
   "cell_type": "code",
   "execution_count": 40,
   "id": "3fcce4d5",
   "metadata": {},
   "outputs": [
    {
     "data": {
      "text/plain": [
       "9"
      ]
     },
     "execution_count": 40,
     "metadata": {},
     "output_type": "execute_result"
    }
   ],
   "source": [
    "# Once the list is sorted, bubble sort is O(n)\n",
    "bubble_sort(L)"
   ]
  },
  {
   "cell_type": "code",
   "execution_count": 41,
   "id": "45e74e77",
   "metadata": {},
   "outputs": [
    {
     "data": {
      "text/plain": [
       "[10, 9, 8, 7, 6, 5, 4, 3, 2, 1]"
      ]
     },
     "execution_count": 41,
     "metadata": {},
     "output_type": "execute_result"
    }
   ],
   "source": [
    "# The worst case for bubble sort (reverse list)\n",
    "L[::-1]"
   ]
  },
  {
   "cell_type": "code",
   "execution_count": 42,
   "id": "9e723aa6",
   "metadata": {},
   "outputs": [
    {
     "data": {
      "text/plain": [
       "45"
      ]
     },
     "execution_count": 42,
     "metadata": {},
     "output_type": "execute_result"
    }
   ],
   "source": [
    "# Still O(n^2)\n",
    "bubble_sort(L[::-1])"
   ]
  },
  {
   "cell_type": "markdown",
   "id": "e2cc6f89",
   "metadata": {},
   "source": [
    "\n",
    "\n",
    "\n",
    "## Heap Sort\n",
    "***\n",
    "\n"
   ]
  },
  {
   "cell_type": "markdown",
   "id": "b70217a7",
   "metadata": {},
   "source": [
    "<img src=\"https://upload.wikimedia.org/wikipedia/commons/thumb/c/c4/Max-Heap-new.svg/854px-Max-Heap-new.svg.png\" width = \"300px\"></img>"
   ]
  },
  {
   "cell_type": "markdown",
   "id": "7ae2358d",
   "metadata": {},
   "source": [
    "#### Taken from Wikipedia\n",
    "https://en.wikipedia.org/wiki/Heapsort#Pseudocode"
   ]
  },
  {
   "cell_type": "code",
   "execution_count": 43,
   "id": "9a279c8e",
   "metadata": {},
   "outputs": [],
   "source": [
    "# Repair heap whose root element is index \"start\"\n",
    "# Assumes the heaps rooted at its children are valid\n",
    "def siftDown(L,parent,end):  \n",
    "    \"\"\"L[:end+1] should almost be a max haep.\n",
    "       siftDown repairs it so that it is one\"\"\"\n",
    "    \n",
    "    # Used to log comparisons\n",
    "    no_comparisons = 0\n",
    "    \n",
    "    # While the parent is actually a parent(has atleast a left child)\n",
    "    while(2 * parent + 1) <= end:\n",
    "        # The index of the children of the parent\n",
    "        lchild = (2 * parent + 1)\n",
    "        rchild = (2 * parent + 2)\n",
    "        \n",
    "        # Assume parent is larger than the children (what is swapped with the parent)\n",
    "        swap = parent\n",
    "        \n",
    "        # If: The left child (if present) is greater, swap them\n",
    "        if L[swap] < L[lchild]:\n",
    "            swap = lchild\n",
    "            no_comparisons = no_comparisons + 1\n",
    "        # Check if right child exists and is smaller than L[swap]\n",
    "        if rchild <= end and L[swap] < L[rchild]:\n",
    "            # Then swap is set to index of right child\n",
    "            swap = rchild\n",
    "            no_comparisons = no_comparisons + 1\n",
    "        # If the parent is bigger than the children, then it is a max heap\n",
    "        if swap == parent:\n",
    "            break\n",
    "        else:\n",
    "            # Swap the parent with the bigger child\n",
    "            L[parent], L[swap] = L[swap],L[parent]\n",
    "            # Set parent to bigger childs index\n",
    "            parent = swap\n",
    "            \n",
    "        # Repeats to continue sifting the child\n",
    "        \n",
    "    # Return number of comparisons\n",
    "    return no_comparisons"
   ]
  },
  {
   "cell_type": "code",
   "execution_count": 44,
   "id": "196fb57d",
   "metadata": {},
   "outputs": [],
   "source": [
    "def heapsort(L):\n",
    "    \"\"\"Sorts the list L in-place using Heap Sort.\"\"\"\n",
    "    \n",
    "    # Keep track of comparisons\n",
    "    no_comparisons = 0\n",
    "    \n",
    "    # Turn L into a max heap (a binary tree)\n",
    "    \n",
    "    # Index of last element\n",
    "    last_element = len(L) - 1\n",
    "    \n",
    "    # Find the last parent.\n",
    "    lastParent = (last_element - 1) // 2  #iParent(count -1)\n",
    "    \n",
    "    # Loop backwards through all the parents\n",
    "    for parent in range(lastParent,-1,-1):\n",
    "\n",
    "        # Sift down node at index[start] to it's proper place\n",
    "        # Done so all nodes below start index are in heap order\n",
    "        no_comparisons = no_comparisons + siftDown(L,parent,last_element)\n",
    "        \n",
    "    # Segregate the list L into two parts:\n",
    "    # 1. L[:end] is a max heap\n",
    "    # 2. Each element beyond end is greater than everything before it\n",
    "    # While there are elements in the heap\n",
    "    for end in range(last_element,0,-1):\n",
    "       \n",
    "        # Swap largest value in front of sorted elements\n",
    "        L[0],L[end]  = L[end], L[0]\n",
    "        no_comparisons = no_comparisons + siftDown(L,0,end - 1)\n",
    "        \n",
    "    # Return the number of comparisons\n",
    "    return no_comparisons"
   ]
  },
  {
   "cell_type": "code",
   "execution_count": 45,
   "id": "c63d44e1",
   "metadata": {},
   "outputs": [
    {
     "data": {
      "text/plain": [
       "[19, 100, 36, 25, 3, 17, 7, 1, 2]"
      ]
     },
     "execution_count": 45,
     "metadata": {},
     "output_type": "execute_result"
    }
   ],
   "source": [
    "L = [19,100,36,25,3,17,7,1,2]\n",
    "L"
   ]
  },
  {
   "cell_type": "code",
   "execution_count": 46,
   "id": "b4d74134",
   "metadata": {},
   "outputs": [],
   "source": [
    "end = len(L) - 1"
   ]
  },
  {
   "cell_type": "code",
   "execution_count": 47,
   "id": "8825d81d",
   "metadata": {},
   "outputs": [
    {
     "data": {
      "text/plain": [
       "[19, 100, 36, 25, 3, 17, 7, 1]"
      ]
     },
     "execution_count": 47,
     "metadata": {},
     "output_type": "execute_result"
    }
   ],
   "source": [
    "L[:end]"
   ]
  },
  {
   "cell_type": "code",
   "execution_count": 48,
   "id": "31f36344",
   "metadata": {},
   "outputs": [
    {
     "data": {
      "text/plain": [
       "[19, 100, 36, 25, 3, 17, 7, 1, 2]"
      ]
     },
     "execution_count": 48,
     "metadata": {},
     "output_type": "execute_result"
    }
   ],
   "source": [
    "L = [19,100,36,25,3,17,7,1,2]\n",
    "L"
   ]
  },
  {
   "cell_type": "code",
   "execution_count": 49,
   "id": "975101e8",
   "metadata": {},
   "outputs": [
    {
     "data": {
      "text/plain": [
       "[1, 2, 3, 7, 17, 19, 25, 36, 100]"
      ]
     },
     "execution_count": 49,
     "metadata": {},
     "output_type": "execute_result"
    }
   ],
   "source": [
    "heapsort(L)\n",
    "L"
   ]
  },
  {
   "cell_type": "markdown",
   "id": "5a9711d2",
   "metadata": {},
   "source": [
    "<br>\n",
    "\n",
    "## Comparing Algorithms\n",
    "***"
   ]
  },
  {
   "cell_type": "code",
   "execution_count": 50,
   "id": "a7780287",
   "metadata": {},
   "outputs": [
    {
     "data": {
      "text/plain": [
       "[19, 100, 36, 25, 3, 17, 7, 1, 2]"
      ]
     },
     "execution_count": 50,
     "metadata": {},
     "output_type": "execute_result"
    }
   ],
   "source": [
    "# Example list based on above diagram\n",
    "L = [19,100,36,25,3,17,7,1,2]\n",
    "L"
   ]
  },
  {
   "cell_type": "code",
   "execution_count": 51,
   "id": "77a27e73",
   "metadata": {},
   "outputs": [
    {
     "data": {
      "text/plain": [
       "([1, 2, 3, 7, 17, 19, 25, 36, 100], 12)"
      ]
     },
     "execution_count": 51,
     "metadata": {},
     "output_type": "execute_result"
    }
   ],
   "source": [
    "# Perform heap sort, show number of comparisons\n",
    "no_comparisons = heapsort(L)\n",
    "L, no_comparisons"
   ]
  },
  {
   "cell_type": "code",
   "execution_count": 52,
   "id": "08d7732e",
   "metadata": {},
   "outputs": [
    {
     "data": {
      "text/plain": [
       "([1, 2, 3, 7, 17, 19, 25, 36, 100], 36)"
      ]
     },
     "execution_count": 52,
     "metadata": {},
     "output_type": "execute_result"
    }
   ],
   "source": [
    "# Perform bubble sort, show number of comparisons\n",
    "L = [19,100,36,25,3,17,7,1,2]\n",
    "no_comparisons = bubble_sort(L)\n",
    "L, no_comparisons"
   ]
  },
  {
   "cell_type": "code",
   "execution_count": 53,
   "id": "19926344",
   "metadata": {},
   "outputs": [
    {
     "name": "stdout",
     "output_type": "stream",
     "text": [
      "0, 1, 2, 3, 4\t4\t8\n",
      "0, 1, 2, 4, 3\t7\t9\n",
      "0, 1, 3, 2, 4\t7\t7\n",
      "0, 1, 3, 4, 2\t9\t8\n",
      "0, 1, 4, 2, 3\t7\t8\n",
      "0, 1, 4, 3, 2\t9\t6\n",
      "0, 2, 1, 3, 4\t7\t6\n",
      "0, 2, 1, 4, 3\t7\t7\n",
      "0, 2, 3, 1, 4\t9\t8\n",
      "0, 2, 3, 4, 1\t10\t6\n",
      "0, 2, 4, 1, 3\t9\t6\n",
      "0, 2, 4, 3, 1\t10\t7\n",
      "0, 3, 1, 2, 4\t7\t7\n",
      "0, 3, 1, 4, 2\t9\t5\n",
      "0, 3, 2, 1, 4\t9\t9\n",
      "0, 3, 2, 4, 1\t10\t7\n",
      "0, 3, 4, 1, 2\t9\t5\n",
      "0, 3, 4, 2, 1\t10\t6\n",
      "0, 4, 1, 2, 3\t7\t6\n",
      "0, 4, 1, 3, 2\t9\t4\n",
      "0, 4, 2, 1, 3\t9\t8\n",
      "0, 4, 2, 3, 1\t10\t6\n",
      "0, 4, 3, 1, 2\t9\t7\n",
      "0, 4, 3, 2, 1\t10\t5\n",
      "1, 0, 2, 3, 4\t7\t9\n",
      "1, 0, 2, 4, 3\t7\t7\n",
      "1, 0, 3, 2, 4\t7\t8\n",
      "1, 0, 3, 4, 2\t9\t6\n",
      "1, 0, 4, 2, 3\t7\t7\n",
      "1, 0, 4, 3, 2\t9\t5\n",
      "1, 2, 0, 3, 4\t9\t7\n",
      "1, 2, 0, 4, 3\t9\t8\n",
      "1, 2, 3, 0, 4\t10\t6\n",
      "1, 2, 3, 4, 0\t10\t7\n",
      "1, 2, 4, 0, 3\t10\t5\n",
      "1, 2, 4, 3, 0\t10\t6\n",
      "1, 3, 0, 2, 4\t9\t8\n",
      "1, 3, 0, 4, 2\t9\t6\n",
      "1, 3, 2, 0, 4\t10\t7\n",
      "1, 3, 2, 4, 0\t10\t8\n",
      "1, 3, 4, 0, 2\t10\t4\n",
      "1, 3, 4, 2, 0\t10\t5\n",
      "1, 4, 0, 2, 3\t9\t7\n",
      "1, 4, 0, 3, 2\t9\t5\n",
      "1, 4, 2, 0, 3\t10\t6\n",
      "1, 4, 2, 3, 0\t10\t7\n",
      "1, 4, 3, 0, 2\t10\t5\n",
      "1, 4, 3, 2, 0\t10\t6\n",
      "2, 0, 1, 3, 4\t7\t7\n",
      "2, 0, 1, 4, 3\t7\t5\n",
      "2, 0, 3, 1, 4\t9\t7\n",
      "2, 0, 3, 4, 1\t10\t5\n",
      "2, 0, 4, 1, 3\t9\t9\n",
      "2, 0, 4, 3, 1\t10\t7\n",
      "2, 1, 0, 3, 4\t9\t8\n",
      "2, 1, 0, 4, 3\t9\t6\n",
      "2, 1, 3, 0, 4\t10\t5\n",
      "2, 1, 3, 4, 0\t10\t6\n",
      "2, 1, 4, 0, 3\t10\t7\n",
      "2, 1, 4, 3, 0\t10\t8\n",
      "2, 3, 0, 1, 4\t9\t6\n",
      "2, 3, 0, 4, 1\t10\t7\n",
      "2, 3, 1, 0, 4\t10\t5\n",
      "2, 3, 1, 4, 0\t10\t6\n",
      "2, 3, 4, 0, 1\t10\t6\n",
      "2, 3, 4, 1, 0\t10\t7\n",
      "2, 4, 0, 1, 3\t9\t5\n",
      "2, 4, 0, 3, 1\t10\t6\n",
      "2, 4, 1, 0, 3\t10\t4\n",
      "2, 4, 1, 3, 0\t10\t5\n",
      "2, 4, 3, 0, 1\t10\t4\n",
      "2, 4, 3, 1, 0\t10\t5\n",
      "3, 0, 1, 2, 4\t7\t6\n",
      "3, 0, 1, 4, 2\t9\t4\n",
      "3, 0, 2, 1, 4\t9\t8\n",
      "3, 0, 2, 4, 1\t10\t6\n",
      "3, 0, 4, 1, 2\t9\t7\n",
      "3, 0, 4, 2, 1\t10\t5\n",
      "3, 1, 0, 2, 4\t9\t7\n",
      "3, 1, 0, 4, 2\t9\t5\n",
      "3, 1, 2, 0, 4\t10\t6\n",
      "3, 1, 2, 4, 0\t10\t7\n",
      "3, 1, 4, 0, 2\t10\t5\n",
      "3, 1, 4, 2, 0\t10\t6\n",
      "3, 2, 0, 1, 4\t9\t5\n",
      "3, 2, 0, 4, 1\t10\t6\n",
      "3, 2, 1, 0, 4\t10\t4\n",
      "3, 2, 1, 4, 0\t10\t5\n",
      "3, 2, 4, 0, 1\t10\t4\n",
      "3, 2, 4, 1, 0\t10\t5\n",
      "3, 4, 0, 1, 2\t9\t4\n",
      "3, 4, 0, 2, 1\t10\t5\n",
      "3, 4, 1, 0, 2\t10\t3\n",
      "3, 4, 1, 2, 0\t10\t4\n",
      "3, 4, 2, 0, 1\t10\t5\n",
      "3, 4, 2, 1, 0\t10\t6\n",
      "4, 0, 1, 2, 3\t7\t5\n",
      "4, 0, 1, 3, 2\t9\t3\n",
      "4, 0, 2, 1, 3\t9\t7\n",
      "4, 0, 2, 3, 1\t10\t5\n",
      "4, 0, 3, 1, 2\t9\t6\n",
      "4, 0, 3, 2, 1\t10\t4\n",
      "4, 1, 0, 2, 3\t9\t6\n",
      "4, 1, 0, 3, 2\t9\t4\n",
      "4, 1, 2, 0, 3\t10\t5\n",
      "4, 1, 2, 3, 0\t10\t6\n",
      "4, 1, 3, 0, 2\t10\t4\n",
      "4, 1, 3, 2, 0\t10\t5\n",
      "4, 2, 0, 1, 3\t9\t4\n",
      "4, 2, 0, 3, 1\t10\t5\n",
      "4, 2, 1, 0, 3\t10\t3\n",
      "4, 2, 1, 3, 0\t10\t4\n",
      "4, 2, 3, 0, 1\t10\t3\n",
      "4, 2, 3, 1, 0\t10\t4\n",
      "4, 3, 0, 1, 2\t9\t3\n",
      "4, 3, 0, 2, 1\t10\t4\n",
      "4, 3, 1, 0, 2\t10\t2\n",
      "4, 3, 1, 2, 0\t10\t3\n",
      "4, 3, 2, 0, 1\t10\t4\n",
      "4, 3, 2, 1, 0\t10\t5\n"
     ]
    }
   ],
   "source": [
    "# Module containing combinatorial functions\n",
    "import itertools\n",
    "\n",
    "# Length of example list\n",
    "n = 5\n",
    "\n",
    "# Loop through all permutations of the list of integers from 0 to n\n",
    "for perm in itertools.permutations(range(n)):\n",
    "    L = list(perm)\n",
    "    bubble_comparisons = bubble_sort(L)\n",
    "    L = list(perm)\n",
    "    heap_comparisons = heapsort(L)\n",
    "    print(f'{str(perm)[1:-1]}\\t{bubble_comparisons}\\t{heap_comparisons}')"
   ]
  },
  {
   "cell_type": "code",
   "execution_count": 54,
   "id": "e14481dd",
   "metadata": {},
   "outputs": [],
   "source": [
    "# Like Excel for Python\n",
    "import pandas as pd"
   ]
  },
  {
   "cell_type": "code",
   "execution_count": 55,
   "id": "d4d23a29",
   "metadata": {},
   "outputs": [
    {
     "data": {
      "text/plain": [
       "[['0, 1, 2, 3, 4, 5, 6', 6, 15],\n",
       " ['0, 1, 2, 3, 4, 6, 5', 11, 16],\n",
       " ['0, 1, 2, 3, 5, 4, 6', 11, 15],\n",
       " ['0, 1, 2, 3, 5, 6, 4', 15, 15],\n",
       " ['0, 1, 2, 3, 6, 4, 5', 11, 15],\n",
       " ['0, 1, 2, 3, 6, 5, 4', 15, 12],\n",
       " ['0, 1, 2, 4, 3, 5, 6', 11, 16],\n",
       " ['0, 1, 2, 4, 3, 6, 5', 11, 17],\n",
       " ['0, 1, 2, 4, 5, 3, 6', 15, 14],\n",
       " ['0, 1, 2, 4, 5, 6, 3', 18, 13],\n",
       " ['0, 1, 2, 4, 6, 3, 5', 15, 13],\n",
       " ['0, 1, 2, 4, 6, 5, 3', 18, 11],\n",
       " ['0, 1, 2, 5, 3, 4, 6', 11, 13],\n",
       " ['0, 1, 2, 5, 3, 6, 4', 15, 16],\n",
       " ['0, 1, 2, 5, 4, 3, 6', 15, 15],\n",
       " ['0, 1, 2, 5, 4, 6, 3', 18, 14],\n",
       " ['0, 1, 2, 5, 6, 3, 4', 15, 11],\n",
       " ['0, 1, 2, 5, 6, 4, 3', 18, 12],\n",
       " ['0, 1, 2, 6, 3, 4, 5', 11, 16],\n",
       " ['0, 1, 2, 6, 3, 5, 4', 15, 13],\n",
       " ['0, 1, 2, 6, 4, 3, 5', 15, 14],\n",
       " ['0, 1, 2, 6, 4, 5, 3', 18, 12],\n",
       " ['0, 1, 2, 6, 5, 3, 4', 15, 12],\n",
       " ['0, 1, 2, 6, 5, 4, 3', 18, 13],\n",
       " ['0, 1, 3, 2, 4, 5, 6', 11, 14],\n",
       " ['0, 1, 3, 2, 4, 6, 5', 11, 15],\n",
       " ['0, 1, 3, 2, 5, 4, 6', 11, 14],\n",
       " ['0, 1, 3, 2, 5, 6, 4', 15, 13],\n",
       " ['0, 1, 3, 2, 6, 4, 5', 11, 12],\n",
       " ['0, 1, 3, 2, 6, 5, 4', 15, 10],\n",
       " ['0, 1, 3, 4, 2, 5, 6', 15, 15],\n",
       " ['0, 1, 3, 4, 2, 6, 5', 15, 16],\n",
       " ['0, 1, 3, 4, 5, 2, 6', 18, 13],\n",
       " ['0, 1, 3, 4, 5, 6, 2', 20, 13],\n",
       " ['0, 1, 3, 4, 6, 2, 5', 18, 11],\n",
       " ['0, 1, 3, 4, 6, 5, 2', 20, 12],\n",
       " ['0, 1, 3, 5, 2, 4, 6', 15, 12],\n",
       " ['0, 1, 3, 5, 2, 6, 4', 15, 14],\n",
       " ['0, 1, 3, 5, 4, 2, 6', 18, 14],\n",
       " ['0, 1, 3, 5, 4, 6, 2', 20, 14],\n",
       " ['0, 1, 3, 5, 6, 2, 4', 18, 12],\n",
       " ['0, 1, 3, 5, 6, 4, 2', 20, 10],\n",
       " ['0, 1, 3, 6, 2, 4, 5', 15, 13],\n",
       " ['0, 1, 3, 6, 2, 5, 4', 15, 11],\n",
       " ['0, 1, 3, 6, 4, 2, 5', 18, 12],\n",
       " ['0, 1, 3, 6, 4, 5, 2', 20, 13],\n",
       " ['0, 1, 3, 6, 5, 2, 4', 18, 13],\n",
       " ['0, 1, 3, 6, 5, 4, 2', 20, 11],\n",
       " ['0, 1, 4, 2, 3, 5, 6', 11, 14],\n",
       " ['0, 1, 4, 2, 3, 6, 5', 11, 16],\n",
       " ['0, 1, 4, 2, 5, 3, 6', 15, 13],\n",
       " ['0, 1, 4, 2, 5, 6, 3', 18, 13],\n",
       " ['0, 1, 4, 2, 6, 3, 5', 15, 10],\n",
       " ['0, 1, 4, 2, 6, 5, 3', 18, 11],\n",
       " ['0, 1, 4, 3, 2, 5, 6', 15, 12],\n",
       " ['0, 1, 4, 3, 2, 6, 5', 15, 14],\n",
       " ['0, 1, 4, 3, 5, 2, 6', 18, 15],\n",
       " ['0, 1, 4, 3, 5, 6, 2', 20, 14],\n",
       " ['0, 1, 4, 3, 6, 2, 5', 18, 12],\n",
       " ['0, 1, 4, 3, 6, 5, 2', 20, 14],\n",
       " ['0, 1, 4, 5, 2, 3, 6', 15, 14],\n",
       " ['0, 1, 4, 5, 2, 6, 3', 18, 11],\n",
       " ['0, 1, 4, 5, 3, 2, 6', 18, 16],\n",
       " ['0, 1, 4, 5, 3, 6, 2', 20, 12],\n",
       " ['0, 1, 4, 5, 6, 2, 3', 18, 11],\n",
       " ['0, 1, 4, 5, 6, 3, 2', 20, 9],\n",
       " ['0, 1, 4, 6, 2, 3, 5', 15, 11],\n",
       " ['0, 1, 4, 6, 2, 5, 3', 18, 12],\n",
       " ['0, 1, 4, 6, 3, 2, 5', 18, 13],\n",
       " ['0, 1, 4, 6, 3, 5, 2', 20, 15],\n",
       " ['0, 1, 4, 6, 5, 2, 3', 18, 12],\n",
       " ['0, 1, 4, 6, 5, 3, 2', 20, 10],\n",
       " ['0, 1, 5, 2, 3, 4, 6', 11, 16],\n",
       " ['0, 1, 5, 2, 3, 6, 4', 15, 13],\n",
       " ['0, 1, 5, 2, 4, 3, 6', 15, 15],\n",
       " ['0, 1, 5, 2, 4, 6, 3', 18, 13],\n",
       " ['0, 1, 5, 2, 6, 3, 4', 15, 9],\n",
       " ['0, 1, 5, 2, 6, 4, 3', 18, 10],\n",
       " ['0, 1, 5, 3, 2, 4, 6', 15, 14],\n",
       " ['0, 1, 5, 3, 2, 6, 4', 15, 11],\n",
       " ['0, 1, 5, 3, 4, 2, 6', 18, 16],\n",
       " ['0, 1, 5, 3, 4, 6, 2', 20, 14],\n",
       " ['0, 1, 5, 3, 6, 2, 4', 18, 11],\n",
       " ['0, 1, 5, 3, 6, 4, 2', 20, 13],\n",
       " ['0, 1, 5, 4, 2, 3, 6', 15, 16],\n",
       " ['0, 1, 5, 4, 2, 6, 3', 18, 14],\n",
       " ['0, 1, 5, 4, 3, 2, 6', 18, 17],\n",
       " ['0, 1, 5, 4, 3, 6, 2', 20, 15],\n",
       " ['0, 1, 5, 4, 6, 2, 3', 18, 10],\n",
       " ['0, 1, 5, 4, 6, 3, 2', 20, 11],\n",
       " ['0, 1, 5, 6, 2, 3, 4', 15, 10],\n",
       " ['0, 1, 5, 6, 2, 4, 3', 18, 11],\n",
       " ['0, 1, 5, 6, 3, 2, 4', 18, 12],\n",
       " ['0, 1, 5, 6, 3, 4, 2', 20, 14],\n",
       " ['0, 1, 5, 6, 4, 2, 3', 18, 11],\n",
       " ['0, 1, 5, 6, 4, 3, 2', 20, 12],\n",
       " ['0, 1, 6, 2, 3, 4, 5', 11, 15],\n",
       " ['0, 1, 6, 2, 3, 5, 4', 15, 12],\n",
       " ['0, 1, 6, 2, 4, 3, 5', 15, 14],\n",
       " ['0, 1, 6, 2, 4, 5, 3', 18, 12],\n",
       " ['0, 1, 6, 2, 5, 3, 4', 15, 12],\n",
       " ['0, 1, 6, 2, 5, 4, 3', 18, 12],\n",
       " ['0, 1, 6, 3, 2, 4, 5', 15, 13],\n",
       " ['0, 1, 6, 3, 2, 5, 4', 15, 10],\n",
       " ['0, 1, 6, 3, 4, 2, 5', 18, 15],\n",
       " ['0, 1, 6, 3, 4, 5, 2', 20, 13],\n",
       " ['0, 1, 6, 3, 5, 2, 4', 18, 14],\n",
       " ['0, 1, 6, 3, 5, 4, 2', 20, 13],\n",
       " ['0, 1, 6, 4, 2, 3, 5', 15, 15],\n",
       " ['0, 1, 6, 4, 2, 5, 3', 18, 13],\n",
       " ['0, 1, 6, 4, 3, 2, 5', 18, 16],\n",
       " ['0, 1, 6, 4, 3, 5, 2', 20, 14],\n",
       " ['0, 1, 6, 4, 5, 2, 3', 18, 12],\n",
       " ['0, 1, 6, 4, 5, 3, 2', 20, 12],\n",
       " ['0, 1, 6, 5, 2, 3, 4', 15, 13],\n",
       " ['0, 1, 6, 5, 2, 4, 3', 18, 10],\n",
       " ['0, 1, 6, 5, 3, 2, 4', 18, 15],\n",
       " ['0, 1, 6, 5, 3, 4, 2', 20, 11],\n",
       " ['0, 1, 6, 5, 4, 2, 3', 18, 13],\n",
       " ['0, 1, 6, 5, 4, 3, 2', 20, 13],\n",
       " ['0, 2, 1, 3, 4, 5, 6', 11, 13],\n",
       " ['0, 2, 1, 3, 4, 6, 5', 11, 14],\n",
       " ['0, 2, 1, 3, 5, 4, 6', 11, 14],\n",
       " ['0, 2, 1, 3, 5, 6, 4', 15, 13],\n",
       " ['0, 2, 1, 3, 6, 4, 5', 11, 13],\n",
       " ['0, 2, 1, 3, 6, 5, 4', 15, 10],\n",
       " ['0, 2, 1, 4, 3, 5, 6', 11, 14],\n",
       " ['0, 2, 1, 4, 3, 6, 5', 11, 15],\n",
       " ['0, 2, 1, 4, 5, 3, 6', 15, 16],\n",
       " ['0, 2, 1, 4, 5, 6, 3', 18, 14],\n",
       " ['0, 2, 1, 4, 6, 3, 5', 15, 14],\n",
       " ['0, 2, 1, 4, 6, 5, 3', 18, 12],\n",
       " ['0, 2, 1, 5, 3, 4, 6', 11, 15],\n",
       " ['0, 2, 1, 5, 3, 6, 4', 15, 14],\n",
       " ['0, 2, 1, 5, 4, 3, 6', 15, 14],\n",
       " ['0, 2, 1, 5, 4, 6, 3', 18, 15],\n",
       " ['0, 2, 1, 5, 6, 3, 4', 15, 12],\n",
       " ['0, 2, 1, 5, 6, 4, 3', 18, 10],\n",
       " ['0, 2, 1, 6, 3, 4, 5', 11, 14],\n",
       " ['0, 2, 1, 6, 3, 5, 4', 15, 11],\n",
       " ['0, 2, 1, 6, 4, 3, 5', 15, 15],\n",
       " ['0, 2, 1, 6, 4, 5, 3', 18, 13],\n",
       " ['0, 2, 1, 6, 5, 3, 4', 15, 13],\n",
       " ['0, 2, 1, 6, 5, 4, 3', 18, 11],\n",
       " ['0, 2, 3, 1, 4, 5, 6', 15, 15],\n",
       " ['0, 2, 3, 1, 4, 6, 5', 15, 16],\n",
       " ['0, 2, 3, 1, 5, 4, 6', 15, 12],\n",
       " ['0, 2, 3, 1, 5, 6, 4', 15, 14],\n",
       " ['0, 2, 3, 1, 6, 4, 5', 15, 13],\n",
       " ['0, 2, 3, 1, 6, 5, 4', 15, 11],\n",
       " ['0, 2, 3, 4, 1, 5, 6', 18, 13],\n",
       " ['0, 2, 3, 4, 1, 6, 5', 18, 14],\n",
       " ['0, 2, 3, 4, 5, 1, 6', 20, 14],\n",
       " ['0, 2, 3, 4, 5, 6, 1', 21, 15],\n",
       " ['0, 2, 3, 4, 6, 1, 5', 20, 12],\n",
       " ['0, 2, 3, 4, 6, 5, 1', 21, 13],\n",
       " ['0, 2, 3, 5, 1, 4, 6', 18, 13],\n",
       " ['0, 2, 3, 5, 1, 6, 4', 18, 12],\n",
       " ['0, 2, 3, 5, 4, 1, 6', 20, 15],\n",
       " ['0, 2, 3, 5, 4, 6, 1', 21, 13],\n",
       " ['0, 2, 3, 5, 6, 1, 4', 20, 10],\n",
       " ['0, 2, 3, 5, 6, 4, 1', 21, 11],\n",
       " ['0, 2, 3, 6, 1, 4, 5', 18, 11],\n",
       " ['0, 2, 3, 6, 1, 5, 4', 18, 9],\n",
       " ['0, 2, 3, 6, 4, 1, 5', 20, 13],\n",
       " ['0, 2, 3, 6, 4, 5, 1', 21, 14],\n",
       " ['0, 2, 3, 6, 5, 1, 4', 20, 11],\n",
       " ['0, 2, 3, 6, 5, 4, 1', 21, 12],\n",
       " ['0, 2, 4, 1, 3, 5, 6', 15, 12],\n",
       " ['0, 2, 4, 1, 3, 6, 5', 15, 14],\n",
       " ['0, 2, 4, 1, 5, 3, 6', 15, 14],\n",
       " ['0, 2, 4, 1, 5, 6, 3', 18, 11],\n",
       " ['0, 2, 4, 1, 6, 3, 5', 15, 11],\n",
       " ['0, 2, 4, 1, 6, 5, 3', 18, 12],\n",
       " ['0, 2, 4, 3, 1, 5, 6', 18, 13],\n",
       " ['0, 2, 4, 3, 1, 6, 5', 18, 15],\n",
       " ['0, 2, 4, 3, 5, 1, 6', 20, 13],\n",
       " ['0, 2, 4, 3, 5, 6, 1', 21, 13],\n",
       " ['0, 2, 4, 3, 6, 1, 5', 20, 10],\n",
       " ['0, 2, 4, 3, 6, 5, 1', 21, 12],\n",
       " ['0, 2, 4, 5, 1, 3, 6', 18, 12],\n",
       " ['0, 2, 4, 5, 1, 6, 3', 18, 12],\n",
       " ['0, 2, 4, 5, 3, 1, 6', 20, 14],\n",
       " ['0, 2, 4, 5, 3, 6, 1', 21, 14],\n",
       " ['0, 2, 4, 5, 6, 1, 3', 20, 9],\n",
       " ['0, 2, 4, 5, 6, 3, 1', 21, 10],\n",
       " ['0, 2, 4, 6, 1, 3, 5', 18, 9],\n",
       " ['0, 2, 4, 6, 1, 5, 3', 18, 10],\n",
       " ['0, 2, 4, 6, 3, 1, 5', 20, 11],\n",
       " ['0, 2, 4, 6, 3, 5, 1', 21, 13],\n",
       " ['0, 2, 4, 6, 5, 1, 3', 20, 10],\n",
       " ['0, 2, 4, 6, 5, 3, 1', 21, 11],\n",
       " ['0, 2, 5, 1, 3, 4, 6', 15, 14],\n",
       " ['0, 2, 5, 1, 3, 6, 4', 15, 11],\n",
       " ['0, 2, 5, 1, 4, 3, 6', 15, 16],\n",
       " ['0, 2, 5, 1, 4, 6, 3', 18, 14],\n",
       " ['0, 2, 5, 1, 6, 3, 4', 15, 10],\n",
       " ['0, 2, 5, 1, 6, 4, 3', 18, 11],\n",
       " ['0, 2, 5, 3, 1, 4, 6', 18, 15],\n",
       " ['0, 2, 5, 3, 1, 6, 4', 18, 12],\n",
       " ['0, 2, 5, 3, 4, 1, 6', 20, 14],\n",
       " ['0, 2, 5, 3, 4, 6, 1', 21, 12],\n",
       " ['0, 2, 5, 3, 6, 1, 4', 20, 9],\n",
       " ['0, 2, 5, 3, 6, 4, 1', 21, 11],\n",
       " ['0, 2, 5, 4, 1, 3, 6', 18, 14],\n",
       " ['0, 2, 5, 4, 1, 6, 3', 18, 12],\n",
       " ['0, 2, 5, 4, 3, 1, 6', 20, 15],\n",
       " ['0, 2, 5, 4, 3, 6, 1', 21, 13],\n",
       " ['0, 2, 5, 4, 6, 1, 3', 20, 11],\n",
       " ['0, 2, 5, 4, 6, 3, 1', 21, 12],\n",
       " ['0, 2, 5, 6, 1, 3, 4', 18, 8],\n",
       " ['0, 2, 5, 6, 1, 4, 3', 18, 9],\n",
       " ['0, 2, 5, 6, 3, 1, 4', 20, 10],\n",
       " ['0, 2, 5, 6, 3, 4, 1', 21, 12],\n",
       " ['0, 2, 5, 6, 4, 1, 3', 20, 12],\n",
       " ['0, 2, 5, 6, 4, 3, 1', 21, 13],\n",
       " ['0, 2, 6, 1, 3, 4, 5', 15, 13],\n",
       " ['0, 2, 6, 1, 3, 5, 4', 15, 10],\n",
       " ['0, 2, 6, 1, 4, 3, 5', 15, 15],\n",
       " ['0, 2, 6, 1, 4, 5, 3', 18, 13],\n",
       " ['0, 2, 6, 1, 5, 3, 4', 15, 13],\n",
       " ['0, 2, 6, 1, 5, 4, 3', 18, 10],\n",
       " ['0, 2, 6, 3, 1, 4, 5', 18, 14],\n",
       " ['0, 2, 6, 3, 1, 5, 4', 18, 11],\n",
       " ['0, 2, 6, 3, 4, 1, 5', 20, 13],\n",
       " ['0, 2, 6, 3, 4, 5, 1', 21, 11],\n",
       " ['0, 2, 6, 3, 5, 1, 4', 20, 12],\n",
       " ['0, 2, 6, 3, 5, 4, 1', 21, 12],\n",
       " ['0, 2, 6, 4, 1, 3, 5', 18, 13],\n",
       " ['0, 2, 6, 4, 1, 5, 3', 18, 11],\n",
       " ['0, 2, 6, 4, 3, 1, 5', 20, 14],\n",
       " ['0, 2, 6, 4, 3, 5, 1', 21, 12],\n",
       " ['0, 2, 6, 4, 5, 1, 3', 20, 13],\n",
       " ['0, 2, 6, 4, 5, 3, 1', 21, 14],\n",
       " ['0, 2, 6, 5, 1, 3, 4', 18, 11],\n",
       " ['0, 2, 6, 5, 1, 4, 3', 18, 11],\n",
       " ['0, 2, 6, 5, 3, 1, 4', 20, 13],\n",
       " ['0, 2, 6, 5, 3, 4, 1', 21, 13],\n",
       " ['0, 2, 6, 5, 4, 1, 3', 20, 14],\n",
       " ['0, 2, 6, 5, 4, 3, 1', 21, 12],\n",
       " ['0, 3, 1, 2, 4, 5, 6', 11, 14],\n",
       " ['0, 3, 1, 2, 4, 6, 5', 11, 15],\n",
       " ['0, 3, 1, 2, 5, 4, 6', 11, 15],\n",
       " ['0, 3, 1, 2, 5, 6, 4', 15, 14],\n",
       " ['0, 3, 1, 2, 6, 4, 5', 11, 14],\n",
       " ['0, 3, 1, 2, 6, 5, 4', 15, 11],\n",
       " ['0, 3, 1, 4, 2, 5, 6', 15, 12],\n",
       " ['0, 3, 1, 4, 2, 6, 5', 15, 13],\n",
       " ['0, 3, 1, 4, 5, 2, 6', 18, 17],\n",
       " ['0, 3, 1, 4, 5, 6, 2', 20, 15],\n",
       " ['0, 3, 1, 4, 6, 2, 5', 18, 15],\n",
       " ['0, 3, 1, 4, 6, 5, 2', 20, 13],\n",
       " ['0, 3, 1, 5, 2, 4, 6', 15, 13],\n",
       " ['0, 3, 1, 5, 2, 6, 4', 15, 12],\n",
       " ['0, 3, 1, 5, 4, 2, 6', 18, 15],\n",
       " ['0, 3, 1, 5, 4, 6, 2', 20, 16],\n",
       " ['0, 3, 1, 5, 6, 2, 4', 18, 14],\n",
       " ['0, 3, 1, 5, 6, 4, 2', 20, 11],\n",
       " ['0, 3, 1, 6, 2, 4, 5', 15, 12],\n",
       " ['0, 3, 1, 6, 2, 5, 4', 15, 9],\n",
       " ['0, 3, 1, 6, 4, 2, 5', 18, 16],\n",
       " ['0, 3, 1, 6, 4, 5, 2', 20, 14],\n",
       " ['0, 3, 1, 6, 5, 2, 4', 18, 15],\n",
       " ['0, 3, 1, 6, 5, 4, 2', 20, 12],\n",
       " ['0, 3, 2, 1, 4, 5, 6', 15, 16],\n",
       " ['0, 3, 2, 1, 4, 6, 5', 15, 17],\n",
       " ['0, 3, 2, 1, 5, 4, 6', 15, 13],\n",
       " ['0, 3, 2, 1, 5, 6, 4', 15, 16],\n",
       " ['0, 3, 2, 1, 6, 4, 5', 15, 16],\n",
       " ['0, 3, 2, 1, 6, 5, 4', 15, 13],\n",
       " ['0, 3, 2, 4, 1, 5, 6', 18, 14],\n",
       " ['0, 3, 2, 4, 1, 6, 5', 18, 15],\n",
       " ['0, 3, 2, 4, 5, 1, 6', 20, 15],\n",
       " ['0, 3, 2, 4, 5, 6, 1', 21, 16],\n",
       " ['0, 3, 2, 4, 6, 1, 5', 20, 13],\n",
       " ['0, 3, 2, 4, 6, 5, 1', 21, 14],\n",
       " ['0, 3, 2, 5, 1, 4, 6', 18, 14],\n",
       " ['0, 3, 2, 5, 1, 6, 4', 18, 14],\n",
       " ['0, 3, 2, 5, 4, 1, 6', 20, 16],\n",
       " ['0, 3, 2, 5, 4, 6, 1', 21, 14],\n",
       " ['0, 3, 2, 5, 6, 1, 4', 20, 11],\n",
       " ['0, 3, 2, 5, 6, 4, 1', 21, 13],\n",
       " ['0, 3, 2, 6, 1, 4, 5', 18, 14],\n",
       " ['0, 3, 2, 6, 1, 5, 4', 18, 11],\n",
       " ['0, 3, 2, 6, 4, 1, 5', 20, 14],\n",
       " ['0, 3, 2, 6, 4, 5, 1', 21, 15],\n",
       " ['0, 3, 2, 6, 5, 1, 4', 20, 12],\n",
       " ['0, 3, 2, 6, 5, 4, 1', 21, 14],\n",
       " ['0, 3, 4, 1, 2, 5, 6', 15, 11],\n",
       " ['0, 3, 4, 1, 2, 6, 5', 15, 13],\n",
       " ['0, 3, 4, 1, 5, 2, 6', 18, 16],\n",
       " ['0, 3, 4, 1, 5, 6, 2', 20, 12],\n",
       " ['0, 3, 4, 1, 6, 2, 5', 18, 13],\n",
       " ['0, 3, 4, 1, 6, 5, 2', 20, 15],\n",
       " ['0, 3, 4, 2, 1, 5, 6', 18, 12],\n",
       " ['0, 3, 4, 2, 1, 6, 5', 18, 14],\n",
       " ['0, 3, 4, 2, 5, 1, 6', 20, 14],\n",
       " ['0, 3, 4, 2, 5, 6, 1', 21, 14],\n",
       " ['0, 3, 4, 2, 6, 1, 5', 20, 11],\n",
       " ['0, 3, 4, 2, 6, 5, 1', 21, 13],\n",
       " ['0, 3, 4, 5, 1, 2, 6', 18, 14],\n",
       " ['0, 3, 4, 5, 1, 6, 2', 20, 13],\n",
       " ['0, 3, 4, 5, 2, 1, 6', 20, 12],\n",
       " ['0, 3, 4, 5, 2, 6, 1', 21, 12],\n",
       " ['0, 3, 4, 5, 6, 1, 2', 20, 10],\n",
       " ['0, 3, 4, 5, 6, 2, 1', 21, 12],\n",
       " ['0, 3, 4, 6, 1, 2, 5', 18, 11],\n",
       " ['0, 3, 4, 6, 1, 5, 2', 20, 13],\n",
       " ['0, 3, 4, 6, 2, 1, 5', 20, 9],\n",
       " ['0, 3, 4, 6, 2, 5, 1', 21, 11],\n",
       " ['0, 3, 4, 6, 5, 1, 2', 20, 11],\n",
       " ['0, 3, 4, 6, 5, 2, 1', 21, 13],\n",
       " ['0, 3, 5, 1, 2, 4, 6', 15, 13],\n",
       " ['0, 3, 5, 1, 2, 6, 4', 15, 10],\n",
       " ['0, 3, 5, 1, 4, 2, 6', 18, 17],\n",
       " ['0, 3, 5, 1, 4, 6, 2', 20, 15],\n",
       " ['0, 3, 5, 1, 6, 2, 4', 18, 12],\n",
       " ['0, 3, 5, 1, 6, 4, 2', 20, 14],\n",
       " ['0, 3, 5, 2, 1, 4, 6', 18, 14],\n",
       " ['0, 3, 5, 2, 1, 6, 4', 18, 11],\n",
       " ['0, 3, 5, 2, 4, 1, 6', 20, 15],\n",
       " ['0, 3, 5, 2, 4, 6, 1', 21, 13],\n",
       " ['0, 3, 5, 2, 6, 1, 4', 20, 10],\n",
       " ['0, 3, 5, 2, 6, 4, 1', 21, 12],\n",
       " ['0, 3, 5, 4, 1, 2, 6', 18, 15],\n",
       " ['0, 3, 5, 4, 1, 6, 2', 20, 13],\n",
       " ['0, 3, 5, 4, 2, 1, 6', 20, 13],\n",
       " ['0, 3, 5, 4, 2, 6, 1', 21, 11],\n",
       " ['0, 3, 5, 4, 6, 1, 2', 20, 12],\n",
       " ['0, 3, 5, 4, 6, 2, 1', 21, 13],\n",
       " ['0, 3, 5, 6, 1, 2, 4', 18, 10],\n",
       " ['0, 3, 5, 6, 1, 4, 2', 20, 12],\n",
       " ['0, 3, 5, 6, 2, 1, 4', 20, 8],\n",
       " ['0, 3, 5, 6, 2, 4, 1', 21, 10],\n",
       " ['0, 3, 5, 6, 4, 1, 2', 20, 13],\n",
       " ['0, 3, 5, 6, 4, 2, 1', 21, 14],\n",
       " ['0, 3, 6, 1, 2, 4, 5', 15, 12],\n",
       " ['0, 3, 6, 1, 2, 5, 4', 15, 9],\n",
       " ['0, 3, 6, 1, 4, 2, 5', 18, 16],\n",
       " ['0, 3, 6, 1, 4, 5, 2', 20, 14],\n",
       " ['0, 3, 6, 1, 5, 2, 4', 18, 15],\n",
       " ['0, 3, 6, 1, 5, 4, 2', 20, 11],\n",
       " ['0, 3, 6, 2, 1, 4, 5', 18, 13],\n",
       " ['0, 3, 6, 2, 1, 5, 4', 18, 10],\n",
       " ['0, 3, 6, 2, 4, 1, 5', 20, 14],\n",
       " ['0, 3, 6, 2, 4, 5, 1', 21, 12],\n",
       " ['0, 3, 6, 2, 5, 1, 4', 20, 13],\n",
       " ['0, 3, 6, 2, 5, 4, 1', 21, 13],\n",
       " ['0, 3, 6, 4, 1, 2, 5', 18, 14],\n",
       " ['0, 3, 6, 4, 1, 5, 2', 20, 12],\n",
       " ['0, 3, 6, 4, 2, 1, 5', 20, 12],\n",
       " ['0, 3, 6, 4, 2, 5, 1', 21, 10],\n",
       " ['0, 3, 6, 4, 5, 1, 2', 20, 14],\n",
       " ['0, 3, 6, 4, 5, 2, 1', 21, 15],\n",
       " ['0, 3, 6, 5, 1, 2, 4', 18, 13],\n",
       " ['0, 3, 6, 5, 1, 4, 2', 20, 12],\n",
       " ['0, 3, 6, 5, 2, 1, 4', 20, 11],\n",
       " ['0, 3, 6, 5, 2, 4, 1', 21, 11],\n",
       " ['0, 3, 6, 5, 4, 1, 2', 20, 15],\n",
       " ['0, 3, 6, 5, 4, 2, 1', 21, 13],\n",
       " ['0, 4, 1, 2, 3, 5, 6', 11, 13],\n",
       " ['0, 4, 1, 2, 3, 6, 5', 11, 14],\n",
       " ['0, 4, 1, 2, 5, 3, 6', 15, 14],\n",
       " ['0, 4, 1, 2, 5, 6, 3', 18, 15],\n",
       " ['0, 4, 1, 2, 6, 3, 5', 15, 15],\n",
       " ['0, 4, 1, 2, 6, 5, 3', 18, 13],\n",
       " ['0, 4, 1, 3, 2, 5, 6', 15, 11],\n",
       " ['0, 4, 1, 3, 2, 6, 5', 15, 12],\n",
       " ['0, 4, 1, 3, 5, 2, 6', 18, 15],\n",
       " ['0, 4, 1, 3, 5, 6, 2', 20, 16],\n",
       " ['0, 4, 1, 3, 6, 2, 5', 18, 16],\n",
       " ['0, 4, 1, 3, 6, 5, 2', 20, 14],\n",
       " ['0, 4, 1, 5, 2, 3, 6', 15, 15],\n",
       " ['0, 4, 1, 5, 2, 6, 3', 18, 13],\n",
       " ['0, 4, 1, 5, 3, 2, 6', 18, 16],\n",
       " ['0, 4, 1, 5, 3, 6, 2', 20, 14],\n",
       " ['0, 4, 1, 5, 6, 2, 3', 18, 12],\n",
       " ['0, 4, 1, 5, 6, 3, 2', 20, 12],\n",
       " ['0, 4, 1, 6, 2, 3, 5', 15, 13],\n",
       " ['0, 4, 1, 6, 2, 5, 3', 18, 11],\n",
       " ['0, 4, 1, 6, 3, 2, 5', 18, 14],\n",
       " ['0, 4, 1, 6, 3, 5, 2', 20, 12],\n",
       " ['0, 4, 1, 6, 5, 2, 3', 18, 13],\n",
       " ['0, 4, 1, 6, 5, 3, 2', 20, 13],\n",
       " ['0, 4, 2, 1, 3, 5, 6', 15, 15],\n",
       " ['0, 4, 2, 1, 3, 6, 5', 15, 16],\n",
       " ['0, 4, 2, 1, 5, 3, 6', 15, 15],\n",
       " ['0, 4, 2, 1, 5, 6, 3', 18, 14],\n",
       " ['0, 4, 2, 1, 6, 3, 5', 15, 14],\n",
       " ['0, 4, 2, 1, 6, 5, 3', 18, 12],\n",
       " ['0, 4, 2, 3, 1, 5, 6', 18, 13],\n",
       " ['0, 4, 2, 3, 1, 6, 5', 18, 14],\n",
       " ['0, 4, 2, 3, 5, 1, 6', 20, 16],\n",
       " ['0, 4, 2, 3, 5, 6, 1', 21, 14],\n",
       " ['0, 4, 2, 3, 6, 1, 5', 20, 14],\n",
       " ['0, 4, 2, 3, 6, 5, 1', 21, 15],\n",
       " ['0, 4, 2, 5, 1, 3, 6', 18, 13],\n",
       " ['0, 4, 2, 5, 1, 6, 3', 18, 12],\n",
       " ['0, 4, 2, 5, 3, 1, 6', 20, 14],\n",
       " ['0, 4, 2, 5, 3, 6, 1', 21, 15],\n",
       " ['0, 4, 2, 5, 6, 1, 3', 20, 12],\n",
       " ['0, 4, 2, 5, 6, 3, 1', 21, 11],\n",
       " ['0, 4, 2, 6, 1, 3, 5', 18, 12],\n",
       " ['0, 4, 2, 6, 1, 5, 3', 18, 10],\n",
       " ['0, 4, 2, 6, 3, 1, 5', 20, 12],\n",
       " ['0, 4, 2, 6, 3, 5, 1', 21, 13],\n",
       " ['0, 4, 2, 6, 5, 1, 3', 20, 13],\n",
       " ['0, 4, 2, 6, 5, 3, 1', 21, 12],\n",
       " ['0, 4, 3, 1, 2, 5, 6', 15, 14],\n",
       " ['0, 4, 3, 1, 2, 6, 5', 15, 15],\n",
       " ['0, 4, 3, 1, 5, 2, 6', 18, 14],\n",
       " ['0, 4, 3, 1, 5, 6, 2', 20, 14],\n",
       " ['0, 4, 3, 1, 6, 2, 5', 18, 12],\n",
       " ['0, 4, 3, 1, 6, 5, 2', 20, 13],\n",
       " ['0, 4, 3, 2, 1, 5, 6', 18, 12],\n",
       " ['0, 4, 3, 2, 1, 6, 5', 18, 13],\n",
       " ['0, 4, 3, 2, 5, 1, 6', 20, 15],\n",
       " ['0, 4, 3, 2, 5, 6, 1', 21, 13],\n",
       " ['0, 4, 3, 2, 6, 1, 5', 20, 13],\n",
       " ['0, 4, 3, 2, 6, 5, 1', 21, 14],\n",
       " ['0, 4, 3, 5, 1, 2, 6', 18, 12],\n",
       " ['0, 4, 3, 5, 1, 6, 2', 20, 12],\n",
       " ['0, 4, 3, 5, 2, 1, 6', 20, 13],\n",
       " ['0, 4, 3, 5, 2, 6, 1', 21, 14],\n",
       " ['0, 4, 3, 5, 6, 1, 2', 20, 11],\n",
       " ['0, 4, 3, 5, 6, 2, 1', 21, 10],\n",
       " ['0, 4, 3, 6, 1, 2, 5', 18, 10],\n",
       " ['0, 4, 3, 6, 1, 5, 2', 20, 11],\n",
       " ['0, 4, 3, 6, 2, 1, 5', 20, 11],\n",
       " ['0, 4, 3, 6, 2, 5, 1', 21, 12],\n",
       " ['0, 4, 3, 6, 5, 1, 2', 20, 12],\n",
       " ['0, 4, 3, 6, 5, 2, 1', 21, 11],\n",
       " ['0, 4, 5, 1, 2, 3, 6', 15, 15],\n",
       " ['0, 4, 5, 1, 2, 6, 3', 18, 13],\n",
       " ['0, 4, 5, 1, 3, 2, 6', 18, 16],\n",
       " ['0, 4, 5, 1, 3, 6, 2', 20, 14],\n",
       " ['0, 4, 5, 1, 6, 2, 3', 18, 11],\n",
       " ['0, 4, 5, 1, 6, 3, 2', 20, 12],\n",
       " ['0, 4, 5, 2, 1, 3, 6', 18, 13],\n",
       " ['0, 4, 5, 2, 1, 6, 3', 18, 11],\n",
       " ['0, 4, 5, 2, 3, 1, 6', 20, 14],\n",
       " ['0, 4, 5, 2, 3, 6, 1', 21, 12],\n",
       " ['0, 4, 5, 2, 6, 1, 3', 20, 12],\n",
       " ['0, 4, 5, 2, 6, 3, 1', 21, 13],\n",
       " ['0, 4, 5, 3, 1, 2, 6', 18, 14],\n",
       " ['0, 4, 5, 3, 1, 6, 2', 20, 12],\n",
       " ['0, 4, 5, 3, 2, 1, 6', 20, 12],\n",
       " ['0, 4, 5, 3, 2, 6, 1', 21, 10],\n",
       " ['0, 4, 5, 3, 6, 1, 2', 20, 13],\n",
       " ['0, 4, 5, 3, 6, 2, 1', 21, 14],\n",
       " ['0, 4, 5, 6, 1, 2, 3', 18, 9],\n",
       " ['0, 4, 5, 6, 1, 3, 2', 20, 10],\n",
       " ['0, 4, 5, 6, 2, 1, 3', 20, 10],\n",
       " ['0, 4, 5, 6, 2, 3, 1', 21, 11],\n",
       " ['0, 4, 5, 6, 3, 1, 2', 20, 11],\n",
       " ['0, 4, 5, 6, 3, 2, 1', 21, 12],\n",
       " ['0, 4, 6, 1, 2, 3, 5', 15, 14],\n",
       " ['0, 4, 6, 1, 2, 5, 3', 18, 12],\n",
       " ['0, 4, 6, 1, 3, 2, 5', 18, 15],\n",
       " ['0, 4, 6, 1, 3, 5, 2', 20, 13],\n",
       " ['0, 4, 6, 1, 5, 2, 3', 18, 13],\n",
       " ['0, 4, 6, 1, 5, 3, 2', 20, 13],\n",
       " ['0, 4, 6, 2, 1, 3, 5', 18, 12],\n",
       " ['0, 4, 6, 2, 1, 5, 3', 18, 10],\n",
       " ['0, 4, 6, 2, 3, 1, 5', 20, 13],\n",
       " ['0, 4, 6, 2, 3, 5, 1', 21, 11],\n",
       " ['0, 4, 6, 2, 5, 1, 3', 20, 14],\n",
       " ['0, 4, 6, 2, 5, 3, 1', 21, 12],\n",
       " ['0, 4, 6, 3, 1, 2, 5', 18, 13],\n",
       " ['0, 4, 6, 3, 1, 5, 2', 20, 11],\n",
       " ['0, 4, 6, 3, 2, 1, 5', 20, 11],\n",
       " ['0, 4, 6, 3, 2, 5, 1', 21, 9],\n",
       " ['0, 4, 6, 3, 5, 1, 2', 20, 15],\n",
       " ['0, 4, 6, 3, 5, 2, 1', 21, 13],\n",
       " ['0, 4, 6, 5, 1, 2, 3', 18, 11],\n",
       " ['0, 4, 6, 5, 1, 3, 2', 20, 11],\n",
       " ['0, 4, 6, 5, 2, 1, 3', 20, 12],\n",
       " ['0, 4, 6, 5, 2, 3, 1', 21, 13],\n",
       " ['0, 4, 6, 5, 3, 1, 2', 20, 13],\n",
       " ['0, 4, 6, 5, 3, 2, 1', 21, 14],\n",
       " ['0, 5, 1, 2, 3, 4, 6', 11, 14],\n",
       " ['0, 5, 1, 2, 3, 6, 4', 15, 13],\n",
       " ['0, 5, 1, 2, 4, 3, 6', 15, 13],\n",
       " ['0, 5, 1, 2, 4, 6, 3', 18, 14],\n",
       " ['0, 5, 1, 2, 6, 3, 4', 15, 13],\n",
       " ['0, 5, 1, 2, 6, 4, 3', 18, 11],\n",
       " ['0, 5, 1, 3, 2, 4, 6', 15, 12],\n",
       " ['0, 5, 1, 3, 2, 6, 4', 15, 11],\n",
       " ['0, 5, 1, 3, 4, 2, 6', 18, 14],\n",
       " ['0, 5, 1, 3, 4, 6, 2', 20, 15],\n",
       " ['0, 5, 1, 3, 6, 2, 4', 18, 15],\n",
       " ['0, 5, 1, 3, 6, 4, 2', 20, 12],\n",
       " ['0, 5, 1, 4, 2, 3, 6', 15, 14],\n",
       " ['0, 5, 1, 4, 2, 6, 3', 18, 12],\n",
       " ['0, 5, 1, 4, 3, 2, 6', 18, 15],\n",
       " ['0, 5, 1, 4, 3, 6, 2', 20, 13],\n",
       " ['0, 5, 1, 4, 6, 2, 3', 18, 13],\n",
       " ['0, 5, 1, 4, 6, 3, 2', 20, 13],\n",
       " ['0, 5, 1, 6, 2, 3, 4', 15, 11],\n",
       " ['0, 5, 1, 6, 2, 4, 3', 18, 9],\n",
       " ['0, 5, 1, 6, 3, 2, 4', 18, 13],\n",
       " ['0, 5, 1, 6, 3, 4, 2', 20, 10],\n",
       " ['0, 5, 1, 6, 4, 2, 3', 18, 11],\n",
       " ['0, 5, 1, 6, 4, 3, 2', 20, 11],\n",
       " ['0, 5, 2, 1, 3, 4, 6', 15, 12],\n",
       " ['0, 5, 2, 1, 3, 6, 4', 15, 15],\n",
       " ['0, 5, 2, 1, 4, 3, 6', 15, 14],\n",
       " ['0, 5, 2, 1, 4, 6, 3', 18, 13],\n",
       " ['0, 5, 2, 1, 6, 3, 4', 15, 12],\n",
       " ['0, 5, 2, 1, 6, 4, 3', 18, 13],\n",
       " ['0, 5, 2, 3, 1, 4, 6', 18, 13],\n",
       " ['0, 5, 2, 3, 1, 6, 4', 18, 13],\n",
       " ['0, 5, 2, 3, 4, 1, 6', 20, 15],\n",
       " ['0, 5, 2, 3, 4, 6, 1', 21, 13],\n",
       " ['0, 5, 2, 3, 6, 1, 4', 20, 12],\n",
       " ['0, 5, 2, 3, 6, 4, 1', 21, 14],\n",
       " ['0, 5, 2, 4, 1, 3, 6', 18, 12],\n",
       " ['0, 5, 2, 4, 1, 6, 3', 18, 11],\n",
       " ['0, 5, 2, 4, 3, 1, 6', 20, 13],\n",
       " ['0, 5, 2, 4, 3, 6, 1', 21, 14],\n",
       " ['0, 5, 2, 4, 6, 1, 3', 20, 13],\n",
       " ['0, 5, 2, 4, 6, 3, 1', 21, 12],\n",
       " ['0, 5, 2, 6, 1, 3, 4', 18, 10],\n",
       " ['0, 5, 2, 6, 1, 4, 3', 18, 11],\n",
       " ['0, 5, 2, 6, 3, 1, 4', 20, 10],\n",
       " ['0, 5, 2, 6, 3, 4, 1', 21, 12],\n",
       " ['0, 5, 2, 6, 4, 1, 3', 20, 11],\n",
       " ['0, 5, 2, 6, 4, 3, 1', 21, 10],\n",
       " ['0, 5, 3, 1, 2, 4, 6', 15, 11],\n",
       " ['0, 5, 3, 1, 2, 6, 4', 15, 13],\n",
       " ['0, 5, 3, 1, 4, 2, 6', 18, 13],\n",
       " ['0, 5, 3, 1, 4, 6, 2', 20, 13],\n",
       " ['0, 5, 3, 1, 6, 2, 4', 18, 13],\n",
       " ['0, 5, 3, 1, 6, 4, 2', 20, 11],\n",
       " ['0, 5, 3, 2, 1, 4, 6', 18, 12],\n",
       " ['0, 5, 3, 2, 1, 6, 4', 18, 11],\n",
       " ['0, 5, 3, 2, 4, 1, 6', 20, 14],\n",
       " ['0, 5, 3, 2, 4, 6, 1', 21, 12],\n",
       " ['0, 5, 3, 2, 6, 1, 4', 20, 11],\n",
       " ['0, 5, 3, 2, 6, 4, 1', 21, 12],\n",
       " ['0, 5, 3, 4, 1, 2, 6', 18, 11],\n",
       " ['0, 5, 3, 4, 1, 6, 2', 20, 11],\n",
       " ['0, 5, 3, 4, 2, 1, 6', 20, 12],\n",
       " ['0, 5, 3, 4, 2, 6, 1', 21, 13],\n",
       " ['0, 5, 3, 4, 6, 1, 2', 20, 12],\n",
       " ['0, 5, 3, 4, 6, 2, 1', 21, 11],\n",
       " ['0, 5, 3, 6, 1, 2, 4', 18, 11],\n",
       " ['0, 5, 3, 6, 1, 4, 2', 20, 9],\n",
       " ['0, 5, 3, 6, 2, 1, 4', 20, 9],\n",
       " ['0, 5, 3, 6, 2, 4, 1', 21, 10],\n",
       " ['0, 5, 3, 6, 4, 1, 2', 20, 10],\n",
       " ['0, 5, 3, 6, 4, 2, 1', 21, 9],\n",
       " ['0, 5, 4, 1, 2, 3, 6', 15, 13],\n",
       " ['0, 5, 4, 1, 2, 6, 3', 18, 10],\n",
       " ['0, 5, 4, 1, 3, 2, 6', 18, 15],\n",
       " ['0, 5, 4, 1, 3, 6, 2', 20, 11],\n",
       " ['0, 5, 4, 1, 6, 2, 3', 18, 12],\n",
       " ['0, 5, 4, 1, 6, 3, 2', 20, 10],\n",
       " ['0, 5, 4, 2, 1, 3, 6', 18, 11],\n",
       " ['0, 5, 4, 2, 1, 6, 3', 18, 11],\n",
       " ['0, 5, 4, 2, 3, 1, 6', 20, 13],\n",
       " ['0, 5, 4, 2, 3, 6, 1', 21, 13],\n",
       " ['0, 5, 4, 2, 6, 1, 3', 20, 10],\n",
       " ['0, 5, 4, 2, 6, 3, 1', 21, 11],\n",
       " ['0, 5, 4, 3, 1, 2, 6', 18, 13],\n",
       " ['0, 5, 4, 3, 1, 6, 2', 20, 12],\n",
       " ['0, 5, 4, 3, 2, 1, 6', 20, 11],\n",
       " ['0, 5, 4, 3, 2, 6, 1', 21, 11],\n",
       " ['0, 5, 4, 3, 6, 1, 2', 20, 11],\n",
       " ['0, 5, 4, 3, 6, 2, 1', 21, 13],\n",
       " ['0, 5, 4, 6, 1, 2, 3', 18, 10],\n",
       " ['0, 5, 4, 6, 1, 3, 2', 20, 8],\n",
       " ['0, 5, 4, 6, 2, 1, 3', 20, 8],\n",
       " ['0, 5, 4, 6, 2, 3, 1', 21, 9],\n",
       " ['0, 5, 4, 6, 3, 1, 2', 20, 9],\n",
       " ['0, 5, 4, 6, 3, 2, 1', 21, 11],\n",
       " ['0, 5, 6, 1, 2, 3, 4', 15, 12],\n",
       " ['0, 5, 6, 1, 2, 4, 3', 18, 9],\n",
       " ['0, 5, 6, 1, 3, 2, 4', 18, 14],\n",
       " ['0, 5, 6, 1, 3, 4, 2', 20, 10],\n",
       " ['0, 5, 6, 1, 4, 2, 3', 18, 12],\n",
       " ['0, 5, 6, 1, 4, 3, 2', 20, 12],\n",
       " ['0, 5, 6, 2, 1, 3, 4', 18, 10],\n",
       " ['0, 5, 6, 2, 1, 4, 3', 18, 10],\n",
       " ['0, 5, 6, 2, 3, 1, 4', 20, 12],\n",
       " ['0, 5, 6, 2, 3, 4, 1', 21, 12],\n",
       " ['0, 5, 6, 2, 4, 1, 3', 20, 13],\n",
       " ['0, 5, 6, 2, 4, 3, 1', 21, 11],\n",
       " ['0, 5, 6, 3, 1, 2, 4', 18, 12],\n",
       " ['0, 5, 6, 3, 1, 4, 2', 20, 11],\n",
       " ['0, 5, 6, 3, 2, 1, 4', 20, 10],\n",
       " ['0, 5, 6, 3, 2, 4, 1', 21, 10],\n",
       " ['0, 5, 6, 3, 4, 1, 2', 20, 14],\n",
       " ['0, 5, 6, 3, 4, 2, 1', 21, 12],\n",
       " ['0, 5, 6, 4, 1, 2, 3', 18, 10],\n",
       " ['0, 5, 6, 4, 1, 3, 2', 20, 10],\n",
       " ['0, 5, 6, 4, 2, 1, 3', 20, 11],\n",
       " ['0, 5, 6, 4, 2, 3, 1', 21, 12],\n",
       " ['0, 5, 6, 4, 3, 1, 2', 20, 12],\n",
       " ['0, 5, 6, 4, 3, 2, 1', 21, 13],\n",
       " ['0, 6, 1, 2, 3, 4, 5', 11, 13],\n",
       " ['0, 6, 1, 2, 3, 5, 4', 15, 10],\n",
       " ['0, 6, 1, 2, 4, 3, 5', 15, 14],\n",
       " ['0, 6, 1, 2, 4, 5, 3', 18, 12],\n",
       " ['0, 6, 1, 2, 5, 3, 4', 15, 12],\n",
       " ['0, 6, 1, 2, 5, 4, 3', 18, 10],\n",
       " ['0, 6, 1, 3, 2, 4, 5', 15, 11],\n",
       " ['0, 6, 1, 3, 2, 5, 4', 15, 8],\n",
       " ['0, 6, 1, 3, 4, 2, 5', 18, 15],\n",
       " ['0, 6, 1, 3, 4, 5, 2', 20, 13],\n",
       " ['0, 6, 1, 3, 5, 2, 4', 18, 14],\n",
       " ['0, 6, 1, 3, 5, 4, 2', 20, 11],\n",
       " ['0, 6, 1, 4, 2, 3, 5', 15, 12],\n",
       " ['0, 6, 1, 4, 2, 5, 3', 18, 10],\n",
       " ['0, 6, 1, 4, 3, 2, 5', 18, 13],\n",
       " ['0, 6, 1, 4, 3, 5, 2', 20, 11],\n",
       " ['0, 6, 1, 4, 5, 2, 3', 18, 12],\n",
       " ['0, 6, 1, 4, 5, 3, 2', 20, 12],\n",
       " ['0, 6, 1, 5, 2, 3, 4', 15, 10],\n",
       " ['0, 6, 1, 5, 2, 4, 3', 18, 8],\n",
       " ['0, 6, 1, 5, 3, 2, 4', 18, 12],\n",
       " ['0, 6, 1, 5, 3, 4, 2', 20, 9],\n",
       " ['0, 6, 1, 5, 4, 2, 3', 18, 10],\n",
       " ['0, 6, 1, 5, 4, 3, 2', 20, 10],\n",
       " ['0, 6, 2, 1, 3, 4, 5', 15, 15],\n",
       " ['0, 6, 2, 1, 3, 5, 4', 15, 12],\n",
       " ['0, 6, 2, 1, 4, 3, 5', 15, 13],\n",
       " ['0, 6, 2, 1, 4, 5, 3', 18, 11],\n",
       " ['0, 6, 2, 1, 5, 3, 4', 15, 11],\n",
       " ['0, 6, 2, 1, 5, 4, 3', 18, 12],\n",
       " ['0, 6, 2, 3, 1, 4, 5', 18, 13],\n",
       " ['0, 6, 2, 3, 1, 5, 4', 18, 10],\n",
       " ['0, 6, 2, 3, 4, 1, 5', 20, 13],\n",
       " ['0, 6, 2, 3, 4, 5, 1', 21, 14],\n",
       " ['0, 6, 2, 3, 5, 1, 4', 20, 11],\n",
       " ['0, 6, 2, 3, 5, 4, 1', 21, 13],\n",
       " ['0, 6, 2, 4, 1, 3, 5', 18, 11],\n",
       " ['0, 6, 2, 4, 1, 5, 3', 18, 9],\n",
       " ['0, 6, 2, 4, 3, 1, 5', 20, 11],\n",
       " ['0, 6, 2, 4, 3, 5, 1', 21, 12],\n",
       " ['0, 6, 2, 4, 5, 1, 3', 20, 12],\n",
       " ['0, 6, 2, 4, 5, 3, 1', 21, 11],\n",
       " ['0, 6, 2, 5, 1, 3, 4', 18, 9],\n",
       " ['0, 6, 2, 5, 1, 4, 3', 18, 10],\n",
       " ['0, 6, 2, 5, 3, 1, 4', 20, 9],\n",
       " ['0, 6, 2, 5, 3, 4, 1', 21, 11],\n",
       " ['0, 6, 2, 5, 4, 1, 3', 20, 10],\n",
       " ['0, 6, 2, 5, 4, 3, 1', 21, 9],\n",
       " ['0, 6, 3, 1, 2, 4, 5', 15, 12],\n",
       " ['0, 6, 3, 1, 2, 5, 4', 15, 10],\n",
       " ['0, 6, 3, 1, 4, 2, 5', 18, 11],\n",
       " ['0, 6, 3, 1, 4, 5, 2', 20, 12],\n",
       " ['0, 6, 3, 1, 5, 2, 4', 18, 12],\n",
       " ['0, 6, 3, 1, 5, 4, 2', 20, 10],\n",
       " ['0, 6, 3, 2, 1, 4, 5', 18, 10],\n",
       " ['0, 6, 3, 2, 1, 5, 4', 18, 8],\n",
       " ['0, 6, 3, 2, 4, 1, 5', 20, 12],\n",
       " ['0, 6, 3, 2, 4, 5, 1', 21, 13],\n",
       " ['0, 6, 3, 2, 5, 1, 4', 20, 10],\n",
       " ['0, 6, 3, 2, 5, 4, 1', 21, 11],\n",
       " ['0, 6, 3, 4, 1, 2, 5', 18, 9],\n",
       " ['0, 6, 3, 4, 1, 5, 2', 20, 10],\n",
       " ['0, 6, 3, 4, 2, 1, 5', 20, 10],\n",
       " ['0, 6, 3, 4, 2, 5, 1', 21, 11],\n",
       " ['0, 6, 3, 4, 5, 1, 2', 20, 11],\n",
       " ['0, 6, 3, 4, 5, 2, 1', 21, 10],\n",
       " ['0, 6, 3, 5, 1, 2, 4', 18, 10],\n",
       " ['0, 6, 3, 5, 1, 4, 2', 20, 8],\n",
       " ['0, 6, 3, 5, 2, 1, 4', 20, 8],\n",
       " ['0, 6, 3, 5, 2, 4, 1', 21, 9],\n",
       " ['0, 6, 3, 5, 4, 1, 2', 20, 9],\n",
       " ['0, 6, 3, 5, 4, 2, 1', 21, 8],\n",
       " ['0, 6, 4, 1, 2, 3, 5', 15, 10],\n",
       " ['0, 6, 4, 1, 2, 5, 3', 18, 11],\n",
       " ['0, 6, 4, 1, 3, 2, 5', 18, 12],\n",
       " ['0, 6, 4, 1, 3, 5, 2', 20, 14],\n",
       " ['0, 6, 4, 1, 5, 2, 3', 18, 11],\n",
       " ['0, 6, 4, 1, 5, 3, 2', 20, 9],\n",
       " ['0, 6, 4, 2, 1, 3, 5', 18, 8],\n",
       " ['0, 6, 4, 2, 1, 5, 3', 18, 9],\n",
       " ['0, 6, 4, 2, 3, 1, 5', 20, 10],\n",
       " ['0, 6, 4, 2, 3, 5, 1', 21, 12],\n",
       " ['0, 6, 4, 2, 5, 1, 3', 20, 9],\n",
       " ['0, 6, 4, 2, 5, 3, 1', 21, 10],\n",
       " ['0, 6, 4, 3, 1, 2, 5', 18, 10],\n",
       " ['0, 6, 4, 3, 1, 5, 2', 20, 12],\n",
       " ['0, 6, 4, 3, 2, 1, 5', 20, 8],\n",
       " ['0, 6, 4, 3, 2, 5, 1', 21, 10],\n",
       " ['0, 6, 4, 3, 5, 1, 2', 20, 10],\n",
       " ['0, 6, 4, 3, 5, 2, 1', 21, 12],\n",
       " ['0, 6, 4, 5, 1, 2, 3', 18, 9],\n",
       " ['0, 6, 4, 5, 1, 3, 2', 20, 7],\n",
       " ['0, 6, 4, 5, 2, 1, 3', 20, 7],\n",
       " ['0, 6, 4, 5, 2, 3, 1', 21, 8],\n",
       " ['0, 6, 4, 5, 3, 1, 2', 20, 8],\n",
       " ['0, 6, 4, 5, 3, 2, 1', 21, 10],\n",
       " ['0, 6, 5, 1, 2, 3, 4', 15, 9],\n",
       " ['0, 6, 5, 1, 2, 4, 3', 18, 10],\n",
       " ['0, 6, 5, 1, 3, 2, 4', 18, 11],\n",
       " ['0, 6, 5, 1, 3, 4, 2', 20, 13],\n",
       " ['0, 6, 5, 1, 4, 2, 3', 18, 10],\n",
       " ['0, 6, 5, 1, 4, 3, 2', 20, 11],\n",
       " ['0, 6, 5, 2, 1, 3, 4', 18, 7],\n",
       " ['0, 6, 5, 2, 1, 4, 3', 18, 8],\n",
       " ['0, 6, 5, 2, 3, 1, 4', 20, 9],\n",
       " ['0, 6, 5, 2, 3, 4, 1', 21, 11],\n",
       " ['0, 6, 5, 2, 4, 1, 3', 20, 11],\n",
       " ['0, 6, 5, 2, 4, 3, 1', 21, 12],\n",
       " ['0, 6, 5, 3, 1, 2, 4', 18, 9],\n",
       " ['0, 6, 5, 3, 1, 4, 2', 20, 11],\n",
       " ['0, 6, 5, 3, 2, 1, 4', 20, 7],\n",
       " ['0, 6, 5, 3, 2, 4, 1', 21, 9],\n",
       " ['0, 6, 5, 3, 4, 1, 2', 20, 12],\n",
       " ['0, 6, 5, 3, 4, 2, 1', 21, 13],\n",
       " ['0, 6, 5, 4, 1, 2, 3', 18, 8],\n",
       " ['0, 6, 5, 4, 1, 3, 2', 20, 9],\n",
       " ['0, 6, 5, 4, 2, 1, 3', 20, 9],\n",
       " ['0, 6, 5, 4, 2, 3, 1', 21, 10],\n",
       " ['0, 6, 5, 4, 3, 1, 2', 20, 10],\n",
       " ['0, 6, 5, 4, 3, 2, 1', 21, 11],\n",
       " ['1, 0, 2, 3, 4, 5, 6', 11, 16],\n",
       " ['1, 0, 2, 3, 4, 6, 5', 11, 17],\n",
       " ['1, 0, 2, 3, 5, 4, 6', 11, 14],\n",
       " ['1, 0, 2, 3, 5, 6, 4', 15, 16],\n",
       " ['1, 0, 2, 3, 6, 4, 5', 11, 16],\n",
       " ['1, 0, 2, 3, 6, 5, 4', 15, 13],\n",
       " ['1, 0, 2, 4, 3, 5, 6', 11, 14],\n",
       " ['1, 0, 2, 4, 3, 6, 5', 11, 15],\n",
       " ['1, 0, 2, 4, 5, 3, 6', 15, 15],\n",
       " ['1, 0, 2, 4, 5, 6, 3', 18, 14],\n",
       " ['1, 0, 2, 4, 6, 3, 5', 15, 14],\n",
       " ['1, 0, 2, 4, 6, 5, 3', 18, 12],\n",
       " ['1, 0, 2, 5, 3, 4, 6', 11, 12],\n",
       " ['1, 0, 2, 5, 3, 6, 4', 15, 14],\n",
       " ['1, 0, 2, 5, 4, 3, 6', 15, 13],\n",
       " ['1, 0, 2, 5, 4, 6, 3', 18, 12],\n",
       " ['1, 0, 2, 5, 6, 3, 4', 15, 12],\n",
       " ['1, 0, 2, 5, 6, 4, 3', 18, 13],\n",
       " ['1, 0, 2, 6, 3, 4, 5', 11, 14],\n",
       " ['1, 0, 2, 6, 3, 5, 4', 15, 11],\n",
       " ['1, 0, 2, 6, 4, 3, 5', 15, 12],\n",
       " ['1, 0, 2, 6, 4, 5, 3', 18, 10],\n",
       " ['1, 0, 2, 6, 5, 3, 4', 15, 10],\n",
       " ['1, 0, 2, 6, 5, 4, 3', 18, 11],\n",
       " ['1, 0, 3, 2, 4, 5, 6', 11, 15],\n",
       " ['1, 0, 3, 2, 4, 6, 5', 11, 16],\n",
       " ['1, 0, 3, 2, 5, 4, 6', 11, 13],\n",
       " ['1, 0, 3, 2, 5, 6, 4', 15, 14],\n",
       " ['1, 0, 3, 2, 6, 4, 5', 11, 13],\n",
       " ['1, 0, 3, 2, 6, 5, 4', 15, 11],\n",
       " ['1, 0, 3, 4, 2, 5, 6', 15, 13],\n",
       " ['1, 0, 3, 4, 2, 6, 5', 15, 14],\n",
       " ['1, 0, 3, 4, 5, 2, 6', 18, 14],\n",
       " ['1, 0, 3, 4, 5, 6, 2', 20, 14],\n",
       " ['1, 0, 3, 4, 6, 2, 5', 18, 12],\n",
       " ['1, 0, 3, 4, 6, 5, 2', 20, 13],\n",
       " ['1, 0, 3, 5, 2, 4, 6', 15, 11],\n",
       " ['1, 0, 3, 5, 2, 6, 4', 15, 12],\n",
       " ['1, 0, 3, 5, 4, 2, 6', 18, 12],\n",
       " ['1, 0, 3, 5, 4, 6, 2', 20, 12],\n",
       " ['1, 0, 3, 5, 6, 2, 4', 18, 13],\n",
       " ['1, 0, 3, 5, 6, 4, 2', 20, 11],\n",
       " ['1, 0, 3, 6, 2, 4, 5', 15, 11],\n",
       " ['1, 0, 3, 6, 2, 5, 4', 15, 9],\n",
       " ['1, 0, 3, 6, 4, 2, 5', 18, 10],\n",
       " ['1, 0, 3, 6, 4, 5, 2', 20, 11],\n",
       " ['1, 0, 3, 6, 5, 2, 4', 18, 11],\n",
       " ['1, 0, 3, 6, 5, 4, 2', 20, 9],\n",
       " ['1, 0, 4, 2, 3, 5, 6', 11, 13],\n",
       " ['1, 0, 4, 2, 3, 6, 5', 11, 15],\n",
       " ['1, 0, 4, 2, 5, 3, 6', 15, 14],\n",
       " ['1, 0, 4, 2, 5, 6, 3', 18, 12],\n",
       " ['1, 0, 4, 2, 6, 3, 5', 15, 11],\n",
       " ['1, 0, 4, 2, 6, 5, 3', 18, 12],\n",
       " ['1, 0, 4, 3, 2, 5, 6', 15, 11],\n",
       " ['1, 0, 4, 3, 2, 6, 5', 15, 13],\n",
       " ['1, 0, 4, 3, 5, 2, 6', 18, 16],\n",
       " ['1, 0, 4, 3, 5, 6, 2', 20, 13],\n",
       " ['1, 0, 4, 3, 6, 2, 5', 18, 13],\n",
       " ['1, 0, 4, 3, 6, 5, 2', 20, 15],\n",
       " ['1, 0, 4, 5, 2, 3, 6', 15, 12],\n",
       " ['1, 0, 4, 5, 2, 6, 3', 18, 10],\n",
       " ['1, 0, 4, 5, 3, 2, 6', 18, 14],\n",
       " ['1, 0, 4, 5, 3, 6, 2', 20, 11],\n",
       " ['1, 0, 4, 5, 6, 2, 3', 18, 12],\n",
       " ['1, 0, 4, 5, 6, 3, 2', 20, 10],\n",
       " ['1, 0, 4, 6, 2, 3, 5', 15, 9],\n",
       " ['1, 0, 4, 6, 2, 5, 3', 18, 10],\n",
       " ['1, 0, 4, 6, 3, 2, 5', 18, 11],\n",
       " ['1, 0, 4, 6, 3, 5, 2', 20, 13],\n",
       " ['1, 0, 4, 6, 5, 2, 3', 18, 10],\n",
       " ['1, 0, 4, 6, 5, 3, 2', 20, 8],\n",
       " ['1, 0, 5, 2, 3, 4, 6', 11, 15],\n",
       " ['1, 0, 5, 2, 3, 6, 4', 15, 12],\n",
       " ['1, 0, 5, 2, 4, 3, 6', 15, 16],\n",
       " ['1, 0, 5, 2, 4, 6, 3', 18, 14],\n",
       " ['1, 0, 5, 2, 6, 3, 4', 15, 10],\n",
       " ['1, 0, 5, 2, 6, 4, 3', 18, 11],\n",
       " ['1, 0, 5, 3, 2, 4, 6', 15, 13],\n",
       " ['1, 0, 5, 3, 2, 6, 4', 15, 10],\n",
       " ['1, 0, 5, 3, 4, 2, 6', 18, 17],\n",
       " ['1, 0, 5, 3, 4, 6, 2', 20, 15],\n",
       " ['1, 0, 5, 3, 6, 2, 4', 18, 12],\n",
       " ['1, 0, 5, 3, 6, 4, 2', 20, 14],\n",
       " ['1, 0, 5, 4, 2, 3, 6', 15, 14],\n",
       " ['1, 0, 5, 4, 2, 6, 3', 18, 12],\n",
       " ['1, 0, 5, 4, 3, 2, 6', 18, 15],\n",
       " ['1, 0, 5, 4, 3, 6, 2', 20, 13],\n",
       " ['1, 0, 5, 4, 6, 2, 3', 18, 11],\n",
       " ['1, 0, 5, 4, 6, 3, 2', 20, 12],\n",
       " ['1, 0, 5, 6, 2, 3, 4', 15, 8],\n",
       " ['1, 0, 5, 6, 2, 4, 3', 18, 9],\n",
       " ['1, 0, 5, 6, 3, 2, 4', 18, 10],\n",
       " ['1, 0, 5, 6, 3, 4, 2', 20, 12],\n",
       " ['1, 0, 5, 6, 4, 2, 3', 18, 9],\n",
       " ['1, 0, 5, 6, 4, 3, 2', 20, 10],\n",
       " ['1, 0, 6, 2, 3, 4, 5', 11, 14],\n",
       " ['1, 0, 6, 2, 3, 5, 4', 15, 11],\n",
       " ['1, 0, 6, 2, 4, 3, 5', 15, 15],\n",
       " ['1, 0, 6, 2, 4, 5, 3', 18, 13],\n",
       " ['1, 0, 6, 2, 5, 3, 4', 15, 13],\n",
       " ['1, 0, 6, 2, 5, 4, 3', 18, 11],\n",
       " ['1, 0, 6, 3, 2, 4, 5', 15, 12],\n",
       " ['1, 0, 6, 3, 2, 5, 4', 15, 9],\n",
       " ['1, 0, 6, 3, 4, 2, 5', 18, 16],\n",
       " ['1, 0, 6, 3, 4, 5, 2', 20, 14],\n",
       " ['1, 0, 6, 3, 5, 2, 4', 18, 15],\n",
       " ['1, 0, 6, 3, 5, 4, 2', 20, 12],\n",
       " ['1, 0, 6, 4, 2, 3, 5', 15, 13],\n",
       " ['1, 0, 6, 4, 2, 5, 3', 18, 11],\n",
       " ['1, 0, 6, 4, 3, 2, 5', 18, 14],\n",
       " ['1, 0, 6, 4, 3, 5, 2', 20, 12],\n",
       " ['1, 0, 6, 4, 5, 2, 3', 18, 13],\n",
       " ['1, 0, 6, 4, 5, 3, 2', 20, 13],\n",
       " ['1, 0, 6, 5, 2, 3, 4', 15, 11],\n",
       " ['1, 0, 6, 5, 2, 4, 3', 18, 9],\n",
       " ['1, 0, 6, 5, 3, 2, 4', 18, 13],\n",
       " ['1, 0, 6, 5, 3, 4, 2', 20, 10],\n",
       " ['1, 0, 6, 5, 4, 2, 3', 18, 11],\n",
       " ['1, 0, 6, 5, 4, 3, 2', 20, 11],\n",
       " ['1, 2, 0, 3, 4, 5, 6', 15, 14],\n",
       " ['1, 2, 0, 3, 4, 6, 5', 15, 12],\n",
       " ['1, 2, 0, 3, 5, 4, 6', 15, 13],\n",
       " ['1, 2, 0, 3, 5, 6, 4', 15, 13],\n",
       " ['1, 2, 0, 3, 6, 4, 5', 15, 14],\n",
       " ['1, 2, 0, 3, 6, 5, 4', 15, 11],\n",
       " ['1, 2, 0, 4, 3, 5, 6', 15, 15],\n",
       " ['1, 2, 0, 4, 3, 6, 5', 15, 13],\n",
       " ['1, 2, 0, 4, 5, 3, 6', 15, 14],\n",
       " ['1, 2, 0, 4, 5, 6, 3', 18, 15],\n",
       " ['1, 2, 0, 4, 6, 3, 5', 15, 16],\n",
       " ['1, 2, 0, 4, 6, 5, 3', 18, 14],\n",
       " ['1, 2, 0, 5, 3, 4, 6', 15, 14],\n",
       " ['1, 2, 0, 5, 3, 6, 4', 15, 14],\n",
       " ['1, 2, 0, 5, 4, 3, 6', 15, 15],\n",
       " ['1, 2, 0, 5, 4, 6, 3', 18, 13],\n",
       " ['1, 2, 0, 5, 6, 3, 4', 15, 14],\n",
       " ['1, 2, 0, 5, 6, 4, 3', 18, 11],\n",
       " ['1, 2, 0, 6, 3, 4, 5', 15, 15],\n",
       " ['1, 2, 0, 6, 3, 5, 4', 15, 12],\n",
       " ['1, 2, 0, 6, 4, 3, 5', 15, 14],\n",
       " ['1, 2, 0, 6, 4, 5, 3', 18, 12],\n",
       " ['1, 2, 0, 6, 5, 3, 4', 15, 12],\n",
       " ['1, 2, 0, 6, 5, 4, 3', 18, 12],\n",
       " ['1, 2, 3, 0, 4, 5, 6', 18, 13],\n",
       " ['1, 2, 3, 0, 4, 6, 5', 18, 14],\n",
       " ['1, 2, 3, 0, 5, 4, 6', 18, 11],\n",
       " ['1, 2, 3, 0, 5, 6, 4', 18, 12],\n",
       " ['1, 2, 3, 0, 6, 4, 5', 18, 11],\n",
       " ['1, 2, 3, 0, 6, 5, 4', 18, 9],\n",
       " ['1, 2, 3, 4, 0, 5, 6', 20, 14],\n",
       " ['1, 2, 3, 4, 0, 6, 5', 20, 15],\n",
       " ['1, 2, 3, 4, 5, 0, 6', 21, 15],\n",
       " ['1, 2, 3, 4, 5, 6, 0', 21, 13],\n",
       " ['1, 2, 3, 4, 6, 0, 5', 21, 14],\n",
       " ['1, 2, 3, 4, 6, 5, 0', 21, 15],\n",
       " ['1, 2, 3, 5, 0, 4, 6', 20, 12],\n",
       " ['1, 2, 3, 5, 0, 6, 4', 20, 13],\n",
       " ['1, 2, 3, 5, 4, 0, 6', 21, 13],\n",
       " ['1, 2, 3, 5, 4, 6, 0', 21, 14],\n",
       " ['1, 2, 3, 5, 6, 0, 4', 21, 11],\n",
       " ['1, 2, 3, 5, 6, 4, 0', 21, 13],\n",
       " ['1, 2, 3, 6, 0, 4, 5', 20, 12],\n",
       " ['1, 2, 3, 6, 0, 5, 4', 20, 10],\n",
       " ['1, 2, 3, 6, 4, 0, 5', 21, 12],\n",
       " ['1, 2, 3, 6, 4, 5, 0', 21, 13],\n",
       " ['1, 2, 3, 6, 5, 0, 4', 21, 12],\n",
       " ['1, 2, 3, 6, 5, 4, 0', 21, 11],\n",
       " ['1, 2, 4, 0, 3, 5, 6', 18, 11],\n",
       " ['1, 2, 4, 0, 3, 6, 5', 18, 13],\n",
       " ['1, 2, 4, 0, 5, 3, 6', 18, 12],\n",
       " ['1, 2, 4, 0, 5, 6, 3', 18, 10],\n",
       " ['1, 2, 4, 0, 6, 3, 5', 18, 9],\n",
       " ['1, 2, 4, 0, 6, 5, 3', 18, 10],\n",
       " ['1, 2, 4, 3, 0, 5, 6', 20, 12],\n",
       " ['1, 2, 4, 3, 0, 6, 5', 20, 14],\n",
       " ['1, 2, 4, 3, 5, 0, 6', 21, 13],\n",
       " ['1, 2, 4, 3, 5, 6, 0', 21, 12],\n",
       " ['1, 2, 4, 3, 6, 0, 5', 21, 11],\n",
       " ['1, 2, 4, 3, 6, 5, 0', 21, 13],\n",
       " ['1, 2, 4, 5, 0, 3, 6', 20, 13],\n",
       " ['1, 2, 4, 5, 0, 6, 3', 20, 11],\n",
       " ['1, 2, 4, 5, 3, 0, 6', 21, 14],\n",
       " ['1, 2, 4, 5, 3, 6, 0', 21, 13],\n",
       " ['1, 2, 4, 5, 6, 0, 3', 21, 10],\n",
       " ['1, 2, 4, 5, 6, 3, 0', 21, 12],\n",
       " ['1, 2, 4, 6, 0, 3, 5', 20, 10],\n",
       " ['1, 2, 4, 6, 0, 5, 3', 20, 11],\n",
       " ['1, 2, 4, 6, 3, 0, 5', 21, 12],\n",
       " ['1, 2, 4, 6, 3, 5, 0', 21, 14],\n",
       " ['1, 2, 4, 6, 5, 0, 3', 21, 11],\n",
       " ['1, 2, 4, 6, 5, 3, 0', 21, 10],\n",
       " ['1, 2, 5, 0, 3, 4, 6', 18, 13],\n",
       " ['1, 2, 5, 0, 3, 6, 4', 18, 10],\n",
       " ['1, 2, 5, 0, 4, 3, 6', 18, 14],\n",
       " ['1, 2, 5, 0, 4, 6, 3', 18, 12],\n",
       " ['1, 2, 5, 0, 6, 3, 4', 18, 8],\n",
       " ['1, 2, 5, 0, 6, 4, 3', 18, 9],\n",
       " ['1, 2, 5, 3, 0, 4, 6', 20, 14],\n",
       " ['1, 2, 5, 3, 0, 6, 4', 20, 11],\n",
       " ['1, 2, 5, 3, 4, 0, 6', 21, 12],\n",
       " ['1, 2, 5, 3, 4, 6, 0', 21, 13],\n",
       " ['1, 2, 5, 3, 6, 0, 4', 21, 10],\n",
       " ['1, 2, 5, 3, 6, 4, 0', 21, 12],\n",
       " ['1, 2, 5, 4, 0, 3, 6', 20, 15],\n",
       " ['1, 2, 5, 4, 0, 6, 3', 20, 13],\n",
       " ['1, 2, 5, 4, 3, 0, 6', 21, 13],\n",
       " ['1, 2, 5, 4, 3, 6, 0', 21, 14],\n",
       " ['1, 2, 5, 4, 6, 0, 3', 21, 13],\n",
       " ['1, 2, 5, 4, 6, 3, 0', 21, 14],\n",
       " ['1, 2, 5, 6, 0, 3, 4', 20, 9],\n",
       " ['1, 2, 5, 6, 0, 4, 3', 20, 10],\n",
       " ['1, 2, 5, 6, 3, 0, 4', 21, 11],\n",
       " ['1, 2, 5, 6, 3, 4, 0', 21, 13],\n",
       " ['1, 2, 5, 6, 4, 0, 3', 21, 11],\n",
       " ['1, 2, 5, 6, 4, 3, 0', 21, 12],\n",
       " ['1, 2, 6, 0, 3, 4, 5', 18, 12],\n",
       " ['1, 2, 6, 0, 3, 5, 4', 18, 9],\n",
       " ['1, 2, 6, 0, 4, 3, 5', 18, 13],\n",
       " ['1, 2, 6, 0, 4, 5, 3', 18, 11],\n",
       " ['1, 2, 6, 0, 5, 3, 4', 18, 11],\n",
       " ['1, 2, 6, 0, 5, 4, 3', 18, 9],\n",
       " ['1, 2, 6, 3, 0, 4, 5', 20, 13],\n",
       " ['1, 2, 6, 3, 0, 5, 4', 20, 10],\n",
       " ['1, 2, 6, 3, 4, 0, 5', 21, 11],\n",
       " ['1, 2, 6, 3, 4, 5, 0', 21, 12],\n",
       " ['1, 2, 6, 3, 5, 0, 4', 21, 12],\n",
       " ['1, 2, 6, 3, 5, 4, 0', 21, 11],\n",
       " ['1, 2, 6, 4, 0, 3, 5', 20, 14],\n",
       " ['1, 2, 6, 4, 0, 5, 3', 20, 12],\n",
       " ['1, 2, 6, 4, 3, 0, 5', 21, 12],\n",
       " ['1, 2, 6, 4, 3, 5, 0', 21, 13],\n",
       " ['1, 2, 6, 4, 5, 0, 3', 21, 14],\n",
       " ['1, 2, 6, 4, 5, 3, 0', 21, 12],\n",
       " ['1, 2, 6, 5, 0, 3, 4', 20, 12],\n",
       " ['1, 2, 6, 5, 0, 4, 3', 20, 10],\n",
       " ['1, 2, 6, 5, 3, 0, 4', 21, 13],\n",
       " ['1, 2, 6, 5, 3, 4, 0', 21, 12],\n",
       " ['1, 2, 6, 5, 4, 0, 3', 21, 12],\n",
       " ['1, 2, 6, 5, 4, 3, 0', 21, 13],\n",
       " ['1, 3, 0, 2, 4, 5, 6', 15, 15],\n",
       " ['1, 3, 0, 2, 4, 6, 5', 15, 13],\n",
       " ['1, 3, 0, 2, 5, 4, 6', 15, 14],\n",
       " ['1, 3, 0, 2, 5, 6, 4', 15, 14],\n",
       " ['1, 3, 0, 2, 6, 4, 5', 15, 15],\n",
       " ['1, 3, 0, 2, 6, 5, 4', 15, 12],\n",
       " ['1, 3, 0, 4, 2, 5, 6', 15, 13],\n",
       " ['1, 3, 0, 4, 2, 6, 5', 15, 11],\n",
       " ['1, 3, 0, 4, 5, 2, 6', 18, 15],\n",
       " ['1, 3, 0, 4, 5, 6, 2', 20, 16],\n",
       " ['1, 3, 0, 4, 6, 2, 5', 18, 17],\n",
       " ['1, 3, 0, 4, 6, 5, 2', 20, 15],\n",
       " ['1, 3, 0, 5, 2, 4, 6', 15, 12],\n",
       " ['1, 3, 0, 5, 2, 6, 4', 15, 12],\n",
       " ['1, 3, 0, 5, 4, 2, 6', 18, 16],\n",
       " ['1, 3, 0, 5, 4, 6, 2', 20, 14],\n",
       " ['1, 3, 0, 5, 6, 2, 4', 18, 16],\n",
       " ['1, 3, 0, 5, 6, 4, 2', 20, 12],\n",
       " ['1, 3, 0, 6, 2, 4, 5', 15, 13],\n",
       " ['1, 3, 0, 6, 2, 5, 4', 15, 10],\n",
       " ['1, 3, 0, 6, 4, 2, 5', 18, 15],\n",
       " ['1, 3, 0, 6, 4, 5, 2', 20, 13],\n",
       " ['1, 3, 0, 6, 5, 2, 4', 18, 14],\n",
       " ['1, 3, 0, 6, 5, 4, 2', 20, 13],\n",
       " ['1, 3, 2, 0, 4, 5, 6', 18, 14],\n",
       " ['1, 3, 2, 0, 4, 6, 5', 18, 15],\n",
       " ['1, 3, 2, 0, 5, 4, 6', 18, 12],\n",
       " ['1, 3, 2, 0, 5, 6, 4', 18, 14],\n",
       " ['1, 3, 2, 0, 6, 4, 5', 18, 14],\n",
       " ['1, 3, 2, 0, 6, 5, 4', 18, 11],\n",
       " ['1, 3, 2, 4, 0, 5, 6', 20, 15],\n",
       " ['1, 3, 2, 4, 0, 6, 5', 20, 16],\n",
       " ['1, 3, 2, 4, 5, 0, 6', 21, 16],\n",
       " ['1, 3, 2, 4, 5, 6, 0', 21, 14],\n",
       " ['1, 3, 2, 4, 6, 0, 5', 21, 15],\n",
       " ['1, 3, 2, 4, 6, 5, 0', 21, 16],\n",
       " ['1, 3, 2, 5, 0, 4, 6', 20, 13],\n",
       " ['1, 3, 2, 5, 0, 6, 4', 20, 15],\n",
       " ['1, 3, 2, 5, 4, 0, 6', 21, 14],\n",
       " ['1, 3, 2, 5, 4, 6, 0', 21, 15],\n",
       " ...]"
      ]
     },
     "execution_count": 55,
     "metadata": {},
     "output_type": "execute_result"
    }
   ],
   "source": [
    "# Length of example list\n",
    "n = 7\n",
    "\n",
    "results=[[str(perm)[1:-1], bubble_sort(list(perm)), heapsort(list(perm))] for perm in itertools.permutations(range(n))]\n",
    "\n",
    "# Peak at results\n",
    "results"
   ]
  },
  {
   "cell_type": "code",
   "execution_count": 56,
   "id": "8d52fe55",
   "metadata": {},
   "outputs": [
    {
     "data": {
      "text/html": [
       "<div>\n",
       "<style scoped>\n",
       "    .dataframe tbody tr th:only-of-type {\n",
       "        vertical-align: middle;\n",
       "    }\n",
       "\n",
       "    .dataframe tbody tr th {\n",
       "        vertical-align: top;\n",
       "    }\n",
       "\n",
       "    .dataframe thead th {\n",
       "        text-align: right;\n",
       "    }\n",
       "</style>\n",
       "<table border=\"1\" class=\"dataframe\">\n",
       "  <thead>\n",
       "    <tr style=\"text-align: right;\">\n",
       "      <th></th>\n",
       "      <th>list</th>\n",
       "      <th>bubble</th>\n",
       "      <th>heap</th>\n",
       "    </tr>\n",
       "  </thead>\n",
       "  <tbody>\n",
       "    <tr>\n",
       "      <th>0</th>\n",
       "      <td>0, 1, 2, 3, 4, 5, 6</td>\n",
       "      <td>6</td>\n",
       "      <td>15</td>\n",
       "    </tr>\n",
       "    <tr>\n",
       "      <th>1</th>\n",
       "      <td>0, 1, 2, 3, 4, 6, 5</td>\n",
       "      <td>11</td>\n",
       "      <td>16</td>\n",
       "    </tr>\n",
       "    <tr>\n",
       "      <th>2</th>\n",
       "      <td>0, 1, 2, 3, 5, 4, 6</td>\n",
       "      <td>11</td>\n",
       "      <td>15</td>\n",
       "    </tr>\n",
       "    <tr>\n",
       "      <th>3</th>\n",
       "      <td>0, 1, 2, 3, 5, 6, 4</td>\n",
       "      <td>15</td>\n",
       "      <td>15</td>\n",
       "    </tr>\n",
       "    <tr>\n",
       "      <th>4</th>\n",
       "      <td>0, 1, 2, 3, 6, 4, 5</td>\n",
       "      <td>11</td>\n",
       "      <td>15</td>\n",
       "    </tr>\n",
       "  </tbody>\n",
       "</table>\n",
       "</div>"
      ],
      "text/plain": [
       "                  list  bubble  heap\n",
       "0  0, 1, 2, 3, 4, 5, 6       6    15\n",
       "1  0, 1, 2, 3, 4, 6, 5      11    16\n",
       "2  0, 1, 2, 3, 5, 4, 6      11    15\n",
       "3  0, 1, 2, 3, 5, 6, 4      15    15\n",
       "4  0, 1, 2, 3, 6, 4, 5      11    15"
      ]
     },
     "execution_count": 56,
     "metadata": {},
     "output_type": "execute_result"
    }
   ],
   "source": [
    "df = pd.DataFrame(results, columns=['list','bubble','heap'])\n",
    "df.head()"
   ]
  },
  {
   "cell_type": "code",
   "execution_count": 57,
   "id": "4edbdb6a",
   "metadata": {},
   "outputs": [
    {
     "data": {
      "text/html": [
       "<div>\n",
       "<style scoped>\n",
       "    .dataframe tbody tr th:only-of-type {\n",
       "        vertical-align: middle;\n",
       "    }\n",
       "\n",
       "    .dataframe tbody tr th {\n",
       "        vertical-align: top;\n",
       "    }\n",
       "\n",
       "    .dataframe thead th {\n",
       "        text-align: right;\n",
       "    }\n",
       "</style>\n",
       "<table border=\"1\" class=\"dataframe\">\n",
       "  <thead>\n",
       "    <tr style=\"text-align: right;\">\n",
       "      <th></th>\n",
       "      <th>bubble</th>\n",
       "      <th>heap</th>\n",
       "    </tr>\n",
       "  </thead>\n",
       "  <tbody>\n",
       "    <tr>\n",
       "      <th>count</th>\n",
       "      <td>5040.000000</td>\n",
       "      <td>5040.000000</td>\n",
       "    </tr>\n",
       "    <tr>\n",
       "      <th>mean</th>\n",
       "      <td>19.454167</td>\n",
       "      <td>11.184524</td>\n",
       "    </tr>\n",
       "    <tr>\n",
       "      <th>std</th>\n",
       "      <td>2.021290</td>\n",
       "      <td>2.065527</td>\n",
       "    </tr>\n",
       "    <tr>\n",
       "      <th>min</th>\n",
       "      <td>6.000000</td>\n",
       "      <td>5.000000</td>\n",
       "    </tr>\n",
       "    <tr>\n",
       "      <th>25%</th>\n",
       "      <td>18.000000</td>\n",
       "      <td>10.000000</td>\n",
       "    </tr>\n",
       "    <tr>\n",
       "      <th>50%</th>\n",
       "      <td>20.000000</td>\n",
       "      <td>11.000000</td>\n",
       "    </tr>\n",
       "    <tr>\n",
       "      <th>75%</th>\n",
       "      <td>21.000000</td>\n",
       "      <td>13.000000</td>\n",
       "    </tr>\n",
       "    <tr>\n",
       "      <th>max</th>\n",
       "      <td>21.000000</td>\n",
       "      <td>17.000000</td>\n",
       "    </tr>\n",
       "  </tbody>\n",
       "</table>\n",
       "</div>"
      ],
      "text/plain": [
       "            bubble         heap\n",
       "count  5040.000000  5040.000000\n",
       "mean     19.454167    11.184524\n",
       "std       2.021290     2.065527\n",
       "min       6.000000     5.000000\n",
       "25%      18.000000    10.000000\n",
       "50%      20.000000    11.000000\n",
       "75%      21.000000    13.000000\n",
       "max      21.000000    17.000000"
      ]
     },
     "execution_count": 57,
     "metadata": {},
     "output_type": "execute_result"
    }
   ],
   "source": [
    "df.describe()"
   ]
  },
  {
   "cell_type": "markdown",
   "id": "60ce9cd9",
   "metadata": {},
   "source": [
    "<br>\n",
    "<h1>Visualization</h1>\n",
    "<hr>"
   ]
  },
  {
   "cell_type": "code",
   "execution_count": 58,
   "id": "f0da8284",
   "metadata": {},
   "outputs": [],
   "source": [
    "# Plots\n",
    "import matplotlib.pyplot as plt"
   ]
  },
  {
   "cell_type": "code",
   "execution_count": 59,
   "id": "71a3a529",
   "metadata": {},
   "outputs": [],
   "source": [
    "# Change default plot size\n",
    "plt.rcParams[\"figure.figsize\"] = (20,10)"
   ]
  },
  {
   "cell_type": "code",
   "execution_count": 60,
   "id": "c2d808b5",
   "metadata": {},
   "outputs": [],
   "source": [
    "# Graphs\n",
    "import networkx as nx"
   ]
  },
  {
   "cell_type": "code",
   "execution_count": 61,
   "id": "cde49933",
   "metadata": {},
   "outputs": [],
   "source": [
    "# Math function\n",
    "import math"
   ]
  },
  {
   "cell_type": "code",
   "execution_count": 62,
   "id": "5b6fd12a",
   "metadata": {},
   "outputs": [],
   "source": [
    "# Numerical and random\n",
    "import numpy as np"
   ]
  },
  {
   "cell_type": "code",
   "execution_count": 63,
   "id": "834b27f6",
   "metadata": {},
   "outputs": [],
   "source": [
    "# Set up the random number generator - setting seed meands we get the same random sequence each\n",
    "rng = np.random.default_rng(seed=0)"
   ]
  },
  {
   "cell_type": "code",
   "execution_count": 108,
   "id": "60216ea1",
   "metadata": {},
   "outputs": [
    {
     "data": {
      "text/plain": [
       "[2, 9, 3, 6, 0, 4, 8, 7, 5, 1]"
      ]
     },
     "execution_count": 108,
     "metadata": {},
     "output_type": "execute_result"
    }
   ],
   "source": [
    "# Shuffle a list of integers\n",
    "L = list(rng.permutation(10))\n",
    "L"
   ]
  },
  {
   "cell_type": "code",
   "execution_count": 65,
   "id": "bfd920e4",
   "metadata": {},
   "outputs": [],
   "source": [
    "def drawtree(L, highlight=None):\n",
    "  # Create a fully balanced binary tree.\n",
    "  T = nx.balanced_tree(2, math.floor(math.log(len(L), 2)))\n",
    "  # Remove nodes beyond the length of L.\n",
    "  T.remove_nodes_from(list(T.nodes)[len(L):])\n",
    "  # Relabel the nodes with elements of L.\n",
    "  T = nx.relabel_nodes(T, dict(zip(T.nodes, L)), copy=True)\n",
    "  # Get nice positions for the nodes in the picture.\n",
    "  pos = nx.drawing.nx_pydot.graphviz_layout(T, prog=\"dot\")\n",
    "  # Draw the graph.\n",
    "  nx.draw(T, pos, with_labels=True, node_color='lightgrey', node_size=1600, font_size=32)\n",
    "  # Highlight nodes if needed.\n",
    "  if highlight:\n",
    "    nx.draw_networkx(T.subgraph([i for i in T.nodes if i in highlight]), pos=pos, node_color='pink', node_size=1600, font_size=32)\n"
   ]
  },
  {
   "cell_type": "code",
   "execution_count": 95,
   "id": "b487f82e",
   "metadata": {},
   "outputs": [],
   "source": [
    "S = []\n",
    "S = [L[0]] + S"
   ]
  },
  {
   "cell_type": "code",
   "execution_count": 96,
   "id": "fc34e516",
   "metadata": {},
   "outputs": [
    {
     "data": {
      "text/plain": [
       "[9]"
      ]
     },
     "execution_count": 96,
     "metadata": {},
     "output_type": "execute_result"
    }
   ],
   "source": [
    "S"
   ]
  },
  {
   "cell_type": "code",
   "execution_count": 109,
   "id": "8d51ce60",
   "metadata": {},
   "outputs": [],
   "source": [
    "L[0], L[-1] = L[-1],L[0]"
   ]
  },
  {
   "cell_type": "code",
   "execution_count": 110,
   "id": "1433fc86",
   "metadata": {},
   "outputs": [],
   "source": [
    "L = L[:-1]"
   ]
  },
  {
   "cell_type": "code",
   "execution_count": 111,
   "id": "4394c67c",
   "metadata": {},
   "outputs": [
    {
     "data": {
      "text/plain": [
       "([1, 9, 3, 6, 0, 4, 8, 7, 5], [9])"
      ]
     },
     "execution_count": 111,
     "metadata": {},
     "output_type": "execute_result"
    }
   ],
   "source": [
    "L, S"
   ]
  },
  {
   "cell_type": "code",
   "execution_count": 114,
   "id": "888736a8",
   "metadata": {},
   "outputs": [
    {
     "data": {
      "text/plain": [
       "[1, 9, 3, 6, 0, 4, 8, 7, 5]"
      ]
     },
     "execution_count": 114,
     "metadata": {},
     "output_type": "execute_result"
    },
    {
     "data": {
      "image/png": "[encoded data removed]",
      "text/plain": [
       "<Figure size 1440x720 with 1 Axes>"
      ]
     },
     "metadata": {},
     "output_type": "display_data"
    }
   ],
   "source": [
    "# Unsorted\n",
    "drawtree(L)\n",
    "L"
   ]
  },
  {
   "cell_type": "code",
   "execution_count": 113,
   "id": "f3b742e3",
   "metadata": {},
   "outputs": [
    {
     "data": {
      "text/plain": [
       "[9, 8, 5, 7, 3, 4, 2, 0, 6, 1]"
      ]
     },
     "execution_count": 113,
     "metadata": {},
     "output_type": "execute_result"
    },
    {
     "data": {
      "image/png": "[encoded data removed]",
      "text/plain": [
       "<Figure size 1440x720 with 1 Axes>"
      ]
     },
     "metadata": {},
     "output_type": "display_data"
    }
   ],
   "source": [
    "# Sorted\n",
    "M = [9, 8, 5, 7, 3, 4, 2, 0, 6, 1]\n",
    "drawtree(M)\n",
    "M"
   ]
  },
  {
   "cell_type": "markdown",
   "id": "44081825",
   "metadata": {},
   "source": [
    "<h1>Exponents and Logs ($\\log_b n $)</h1>\n",
    "<hr>"
   ]
  },
  {
   "cell_type": "markdown",
   "id": "7bcba4fe",
   "metadata": {},
   "source": [
    "$ 2 ^ 4 = 2 \\times 2 \\times 2 \\times 2 = 16$\n",
    "\n",
    "$ 2 ^ -4 = \\frac{1}{2^4}$\n",
    "\n",
    "$  2 ^ 4 \\times 2 ^ -4 = 2 ^ {4 + (-4)} = 2 ^ 0 = {1} $\n",
    "\n",
    "$ 2 ^ {0.5} = \\sqrt{2} $\n",
    "\n"
   ]
  },
  {
   "cell_type": "code",
   "execution_count": 116,
   "id": "02808393",
   "metadata": {},
   "outputs": [
    {
     "data": {
      "text/plain": [
       "16"
      ]
     },
     "execution_count": 116,
     "metadata": {},
     "output_type": "execute_result"
    }
   ],
   "source": [
    "2**4"
   ]
  },
  {
   "cell_type": "code",
   "execution_count": 117,
   "id": "3d2347c6",
   "metadata": {},
   "outputs": [
    {
     "data": {
      "text/plain": [
       "0.0625"
      ]
     },
     "execution_count": 117,
     "metadata": {},
     "output_type": "execute_result"
    }
   ],
   "source": [
    "2**(-4)"
   ]
  },
  {
   "cell_type": "code",
   "execution_count": 119,
   "id": "7d58590e",
   "metadata": {},
   "outputs": [
    {
     "data": {
      "text/plain": [
       "1.4142135623730951"
      ]
     },
     "execution_count": 119,
     "metadata": {},
     "output_type": "execute_result"
    }
   ],
   "source": [
    "2**(0.5)"
   ]
  },
  {
   "cell_type": "markdown",
   "id": "bc364368",
   "metadata": {},
   "source": [
    "<br>\n",
    "\n",
    "$ b^a = n \\Leftrightarrow \\log_b n = a $\n",
    "\n",
    "$ 2^4 = 16 \\Leftrightarrow \\log_2 16 = 4 $"
   ]
  },
  {
   "cell_type": "code",
   "execution_count": 120,
   "id": "fdc8e474",
   "metadata": {},
   "outputs": [],
   "source": [
    "import math"
   ]
  },
  {
   "cell_type": "code",
   "execution_count": 122,
   "id": "51e9e6cb",
   "metadata": {},
   "outputs": [
    {
     "data": {
      "text/plain": [
       "-1.0"
      ]
     },
     "execution_count": 122,
     "metadata": {},
     "output_type": "execute_result"
    }
   ],
   "source": [
    "math.log(0.5,2)"
   ]
  },
  {
   "cell_type": "markdown",
   "id": "41e80884",
   "metadata": {},
   "source": [
    "<h1>Height of a tree</h1>\n",
    "</hr>"
   ]
  },
  {
   "cell_type": "code",
   "execution_count": 141,
   "id": "8e2c0f69",
   "metadata": {},
   "outputs": [
    {
     "name": "stdout",
     "output_type": "stream",
     "text": [
      "[0, 1, 2, 3, 4, 5, 6, 7, 8, 9, 10, 11, 12, 13, 14, 15, 16, 17, 18, 19, 20, 21, 22, 23, 24, 25, 26, 27, 28, 29, 30]\n"
     ]
    },
    {
     "data": {
      "image/png": "[encoded data removed]",
      "text/plain": [
       "<Figure size 1440x720 with 1 Axes>"
      ]
     },
     "metadata": {},
     "output_type": "display_data"
    }
   ],
   "source": [
    "# Length of the list\n",
    "n = 31\n",
    "\n",
    "# Create a list of length n\n",
    "L = list(range(n))\n",
    "\n",
    "# Show the list\n",
    "print(L)\n",
    "\n",
    "# Draw the tree from L\n",
    "drawtree(L)"
   ]
  },
  {
   "cell_type": "code",
   "execution_count": 144,
   "id": "f82bff5b",
   "metadata": {},
   "outputs": [
    {
     "data": {
      "text/plain": [
       "31"
      ]
     },
     "execution_count": 144,
     "metadata": {},
     "output_type": "execute_result"
    }
   ],
   "source": [
    "# Can determine the amount of nodes in a heap based on the height of a tree\n",
    "2**0 + 2 **1 + 2 ** 2 + 2**3 + 2**4"
   ]
  },
  {
   "cell_type": "markdown",
   "id": "38167cd0",
   "metadata": {},
   "source": [
    "$ 2 ^ {h+1} - 1 =  \\sum_{i=0}^h 2^i$"
   ]
  },
  {
   "cell_type": "code",
   "execution_count": 145,
   "id": "ab6a799a",
   "metadata": {},
   "outputs": [],
   "source": [
    "def max_list_length(height):\n",
    "    total_nodes = 0\n",
    "    for i in range(height + 1):\n",
    "        total_nodes = total_nodes + 2 ** i\n",
    "    return total_nodes\n",
    "    "
   ]
  },
  {
   "cell_type": "code",
   "execution_count": 157,
   "id": "8aab5307",
   "metadata": {},
   "outputs": [
    {
     "data": {
      "text/plain": [
       "31"
      ]
     },
     "execution_count": 157,
     "metadata": {},
     "output_type": "execute_result"
    }
   ],
   "source": [
    "max_list_length(4)"
   ]
  },
  {
   "cell_type": "code",
   "execution_count": 156,
   "id": "636fbf4f",
   "metadata": {},
   "outputs": [
    {
     "data": {
      "text/plain": [
       "32"
      ]
     },
     "execution_count": 156,
     "metadata": {},
     "output_type": "execute_result"
    }
   ],
   "source": [
    "2**5"
   ]
  },
  {
   "cell_type": "code",
   "execution_count": 155,
   "id": "4e93a41c",
   "metadata": {
    "scrolled": true
   },
   "outputs": [
    {
     "data": {
      "text/plain": [
       "2047"
      ]
     },
     "execution_count": 155,
     "metadata": {},
     "output_type": "execute_result"
    }
   ],
   "source": [
    "max_list_length(10)"
   ]
  },
  {
   "cell_type": "code",
   "execution_count": 154,
   "id": "02ee316c",
   "metadata": {},
   "outputs": [
    {
     "data": {
      "text/plain": [
       "2048"
      ]
     },
     "execution_count": 154,
     "metadata": {},
     "output_type": "execute_result"
    }
   ],
   "source": [
    "2**11"
   ]
  },
  {
   "cell_type": "code",
   "execution_count": 163,
   "id": "a4987d12",
   "metadata": {},
   "outputs": [
    {
     "data": {
      "text/plain": [
       "255"
      ]
     },
     "execution_count": 163,
     "metadata": {},
     "output_type": "execute_result"
    }
   ],
   "source": [
    "# Binary\n",
    "0b11111111"
   ]
  },
  {
   "cell_type": "code",
   "execution_count": 164,
   "id": "4a05e5e6",
   "metadata": {},
   "outputs": [
    {
     "data": {
      "text/plain": [
       "255"
      ]
     },
     "execution_count": 164,
     "metadata": {},
     "output_type": "execute_result"
    }
   ],
   "source": [
    "(1 * 2 ** 7) + ( 1* 2 **6) + ( 1* 2 **5) + ( 1* 2 **4) + ( 1* 2 **3) + ( 1* 2 **2) + ( 1* 2 **1) + ( 1* 2 **0)"
   ]
  },
  {
   "cell_type": "code",
   "execution_count": 167,
   "id": "09067bce",
   "metadata": {},
   "outputs": [
    {
     "data": {
      "text/plain": [
       "255"
      ]
     },
     "execution_count": 167,
     "metadata": {},
     "output_type": "execute_result"
    }
   ],
   "source": [
    "0b100000000 - 0b1"
   ]
  },
  {
   "cell_type": "code",
   "execution_count": 170,
   "id": "e02ace8a",
   "metadata": {},
   "outputs": [
    {
     "name": "stdout",
     "output_type": "stream",
     "text": [
      "32\t5.0\n",
      "31\t4.95\n",
      "30\t4.91\n",
      "29\t4.86\n",
      "28\t4.81\n",
      "27\t4.75\n",
      "26\t4.7\n",
      "25\t4.64\n",
      "24\t4.58\n",
      "23\t4.52\n",
      "22\t4.46\n",
      "21\t4.39\n",
      "20\t4.32\n",
      "19\t4.25\n",
      "18\t4.17\n",
      "17\t4.09\n",
      "16\t4.0\n",
      "15\t3.91\n",
      "14\t3.81\n",
      "13\t3.7\n",
      "12\t3.58\n",
      "11\t3.46\n",
      "10\t3.32\n",
      " 9\t3.17\n",
      " 8\t3.0\n",
      " 7\t2.81\n",
      " 6\t2.58\n",
      " 5\t2.32\n",
      " 4\t2.0\n",
      " 3\t1.58\n",
      " 2\t1.0\n",
      " 1\t0.0\n"
     ]
    }
   ],
   "source": [
    "# To determine what L (a list) height will be in a heap before brought to a tree\n",
    "for length in range(32, 0, -1):\n",
    "    print(f'{length:2}\\t{math.log(length,2):2.3}')\n",
    "    \n",
    "# Length of a list (log to the base 2 of list length determines the height of a tree)\n",
    "# The fraction isn't necessarily important hereb\n"
   ]
  },
  {
   "cell_type": "markdown",
   "id": "10b391f0",
   "metadata": {},
   "source": [
    "<h1>Big O</h1>\n",
    "<hr>"
   ]
  },
  {
   "cell_type": "code",
   "execution_count": 179,
   "id": "ef7f2be2",
   "metadata": {},
   "outputs": [],
   "source": [
    "n = np.arange(0.1,100.0,0.1)\n",
    "\n",
    "y1 = n**2\n",
    "\n",
    "y2 = x * np.log(n)"
   ]
  },
  {
   "cell_type": "code",
   "execution_count": 180,
   "id": "13b86305",
   "metadata": {},
   "outputs": [
    {
     "data": {
      "text/plain": [
       "<matplotlib.legend.Legend at 0x2138015be80>"
      ]
     },
     "execution_count": 180,
     "metadata": {},
     "output_type": "execute_result"
    },
    {
     "data": {
      "image/png": "[encoded data removed]",
      "text/plain": [
       "<Figure size 1440x720 with 1 Axes>"
      ]
     },
     "metadata": {
      "needs_background": "light"
     },
     "output_type": "display_data"
    }
   ],
   "source": [
    "plt.plot(x,y1, label='$n^2$')\n",
    "plt.plot(x,y2, label='$n \\log(n)$')\n",
    "\n",
    "plt.legend()"
   ]
  },
  {
   "cell_type": "markdown",
   "id": "d4f8fe86",
   "metadata": {},
   "source": [
    "** Quick definition **\n",
    "\n",
    "$ f(n) = n^2 $ is $ 0(g(n))$ where $g(n) = n^3$\n",
    "\n",
    "because\n",
    "\n",
    "$ f(n) \\leq 1 \\times g(n)  $ for all $ n \\geq n_0 $\n",
    "\n",
    "where\n",
    "\n",
    "$n_0 = 1$ in this case."
   ]
  },
  {
   "cell_type": "code",
   "execution_count": 186,
   "id": "7f577fdb",
   "metadata": {},
   "outputs": [
    {
     "data": {
      "text/plain": [
       "<matplotlib.legend.Legend at 0x213ff4af9a0>"
      ]
     },
     "execution_count": 186,
     "metadata": {},
     "output_type": "execute_result"
    },
    {
     "data": {
      "image/png": "[encoded data removed]",
      "text/plain": [
       "<Figure size 1440x720 with 1 Axes>"
      ]
     },
     "metadata": {
      "needs_background": "light"
     },
     "output_type": "display_data"
    }
   ],
   "source": [
    "n = np.arange(0.0,2.1,0.01)\n",
    "\n",
    "plt.plot(n,n**2, label='$n^2$')\n",
    "plt.plot(n,n**3, label='$n^3$')\n",
    "\n",
    "plt.legend()"
   ]
  },
  {
   "cell_type": "markdown",
   "id": "86ced700",
   "metadata": {},
   "source": [
    "Technically, $2n^2$ is $O(n^2)$, even though..."
   ]
  },
  {
   "cell_type": "code",
   "execution_count": 190,
   "id": "87b73a4d",
   "metadata": {},
   "outputs": [
    {
     "data": {
      "text/plain": [
       "<matplotlib.legend.Legend at 0x21380389250>"
      ]
     },
     "execution_count": 190,
     "metadata": {},
     "output_type": "execute_result"
    },
    {
     "data": {
      "image/png": "[encoded data removed]",
      "text/plain": [
       "<Figure size 1440x720 with 1 Axes>"
      ]
     },
     "metadata": {
      "needs_background": "light"
     },
     "output_type": "display_data"
    }
   ],
   "source": [
    "n = np.arange(0.0,2.1,0.01)\n",
    "\n",
    "plt.plot(n,2.0 *(n**2), label='$2n^2$')\n",
    "plt.plot(n,n**2, label='$n^2$')\n",
    "\n",
    "plt.legend()"
   ]
  },
  {
   "cell_type": "markdown",
   "id": "e0973aa7",
   "metadata": {},
   "source": [
    "$ n  \\times \\log(n) $ + $n \\times \\log(n) = 2 n \\log(n)$\n",
    "\n",
    "$2 n \\log(n)$ is $O(n \\log(n))$"
   ]
  },
  {
   "cell_type": "markdown",
   "id": "792fcf5c",
   "metadata": {},
   "source": [
    "## Extras\n",
    "***"
   ]
  },
  {
   "cell_type": "code",
   "execution_count": 67,
   "id": "22ab1712",
   "metadata": {},
   "outputs": [
    {
     "name": "stdout",
     "output_type": "stream",
     "text": [
      "1\n"
     ]
    }
   ],
   "source": [
    "# Ints are passed by value (copy of variable made)(most primitives as well are)\n",
    "\n",
    "a = 1\n",
    "\n",
    "# Function: b is a value\n",
    "def change(b):\n",
    "    b = 2\n",
    "\n",
    "# a is passed by value\n",
    "change(a)\n",
    "\n",
    "# a has not changed\n",
    "print(a)"
   ]
  },
  {
   "cell_type": "code",
   "execution_count": 68,
   "id": "a6c290ca",
   "metadata": {},
   "outputs": [
    {
     "name": "stdout",
     "output_type": "stream",
     "text": [
      "[1, 2, 100, 4]\n"
     ]
    }
   ],
   "source": [
    "# Lists are passed by reference (pointer to location in memory)\n",
    "\n",
    "# List\n",
    "a = [1,2,3,4]\n",
    "\n",
    "# Function: a is a reference\n",
    "def change(b):\n",
    "    # Change an element\n",
    "    b[2] = 100\n",
    "    \n",
    "# Pass list to change\n",
    "change(a)\n",
    "\n",
    "# a has changed\n",
    "print(a)"
   ]
  },
  {
   "cell_type": "markdown",
   "id": "270691d0",
   "metadata": {},
   "source": [
    "***\n",
    "## End of Work"
   ]
  }
 ],
 "metadata": {
  "kernelspec": {
   "display_name": "Python 3 (ipykernel)",
   "language": "python",
   "name": "python3"
  },
  "language_info": {
   "codemirror_mode": {
    "name": "ipython",
    "version": 3
   },
   "file_extension": ".py",
   "mimetype": "text/x-python",
   "name": "python",
   "nbconvert_exporter": "python",
   "pygments_lexer": "ipython3",
   "version": "3.9.7"
  }
 },
 "nbformat": 4,
 "nbformat_minor": 5
}
