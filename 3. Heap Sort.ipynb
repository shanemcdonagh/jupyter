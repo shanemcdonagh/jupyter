{
 "cells": [
  {
   "cell_type": "markdown",
   "id": "aec306ce",
   "metadata": {},
   "source": [
    "# Heap Sort\n",
    "***"
   ]
  },
  {
   "cell_type": "markdown",
   "id": "82d69f36",
   "metadata": {},
   "source": [
    "## Lists in Python\n",
    "***"
   ]
  },
  {
   "cell_type": "code",
   "execution_count": 1,
   "id": "765337c1",
   "metadata": {},
   "outputs": [],
   "source": [
    "# Lists in Python can be created with square brackets\n",
    "L = [1,2,3,\"Hello, world!\", None, True]"
   ]
  },
  {
   "cell_type": "code",
   "execution_count": 2,
   "id": "c5d0fb4e",
   "metadata": {},
   "outputs": [
    {
     "data": {
      "text/plain": [
       "'Hello, world!'"
      ]
     },
     "execution_count": 2,
     "metadata": {},
     "output_type": "execute_result"
    }
   ],
   "source": [
    "# They are zero indexed (as usual)\n",
    "L[3]"
   ]
  },
  {
   "cell_type": "code",
   "execution_count": 3,
   "id": "22fafb7e",
   "metadata": {},
   "outputs": [
    {
     "data": {
      "text/plain": [
       "True"
      ]
     },
     "execution_count": 3,
     "metadata": {},
     "output_type": "execute_result"
    }
   ],
   "source": [
    "L[5]"
   ]
  },
  {
   "cell_type": "code",
   "execution_count": 4,
   "id": "2bff6123",
   "metadata": {},
   "outputs": [
    {
     "data": {
      "text/plain": [
       "[1, 2, 3]"
      ]
     },
     "execution_count": 4,
     "metadata": {},
     "output_type": "execute_result"
    }
   ],
   "source": [
    "# Create lists with the list() function\n",
    "# Set - Only unique values\n",
    "list({1,2,3,3})"
   ]
  },
  {
   "cell_type": "code",
   "execution_count": 5,
   "id": "d1ba39bd",
   "metadata": {},
   "outputs": [
    {
     "data": {
      "text/plain": [
       "True"
      ]
     },
     "execution_count": 5,
     "metadata": {},
     "output_type": "execute_result"
    }
   ],
   "source": [
    "# Can use negative indexes on lists.\n",
    "L[-1]"
   ]
  },
  {
   "cell_type": "code",
   "execution_count": 6,
   "id": "e0b8a1a6",
   "metadata": {},
   "outputs": [
    {
     "data": {
      "text/plain": [
       "'Hello, world!'"
      ]
     },
     "execution_count": 6,
     "metadata": {},
     "output_type": "execute_result"
    }
   ],
   "source": [
    "# Third-last element\n",
    "L[-3]"
   ]
  },
  {
   "cell_type": "code",
   "execution_count": 7,
   "id": "7f117045",
   "metadata": {},
   "outputs": [
    {
     "data": {
      "text/plain": [
       "[0, 2, 4, 6, 8, 10, 12, 14, 16, 18]"
      ]
     },
     "execution_count": 7,
     "metadata": {},
     "output_type": "execute_result"
    }
   ],
   "source": [
    "# In-built functions for creating iterables\n",
    "list(range(0,20,2))"
   ]
  },
  {
   "cell_type": "code",
   "execution_count": 8,
   "id": "e9b64775",
   "metadata": {},
   "outputs": [
    {
     "data": {
      "text/plain": [
       "[0, 1, 2, 3, 4, 5, 6, 7, 8, 9, 10, 11, 12, 13, 14, 15, 16, 17, 18, 19]"
      ]
     },
     "execution_count": 8,
     "metadata": {},
     "output_type": "execute_result"
    }
   ],
   "source": [
    "L = list(range(20))\n",
    "L"
   ]
  },
  {
   "cell_type": "code",
   "execution_count": 9,
   "id": "9e777a7a",
   "metadata": {},
   "outputs": [
    {
     "data": {
      "text/plain": [
       "[1, 3, 5, 7, 9]"
      ]
     },
     "execution_count": 9,
     "metadata": {},
     "output_type": "execute_result"
    }
   ],
   "source": [
    "# Lists can be sliced \n",
    "#(1 = first index, 10 = last (not including) index, 2 = number in which to skip by)\n",
    "L[1:10:2]"
   ]
  },
  {
   "cell_type": "code",
   "execution_count": 10,
   "id": "82c2eece",
   "metadata": {},
   "outputs": [
    {
     "data": {
      "text/plain": [
       "[5, 6, 7, 8, 9]"
      ]
     },
     "execution_count": 10,
     "metadata": {},
     "output_type": "execute_result"
    }
   ],
   "source": [
    "L[5:10]"
   ]
  },
  {
   "cell_type": "code",
   "execution_count": 11,
   "id": "a2fc4b09",
   "metadata": {},
   "outputs": [
    {
     "data": {
      "text/plain": [
       "[5, 6, 7, 8, 9, 10, 11, 12, 13, 14, 15, 16, 17, 18, 19]"
      ]
     },
     "execution_count": 11,
     "metadata": {},
     "output_type": "execute_result"
    }
   ],
   "source": [
    "L[5:]"
   ]
  },
  {
   "cell_type": "code",
   "execution_count": 12,
   "id": "4c4d1715",
   "metadata": {},
   "outputs": [
    {
     "data": {
      "text/plain": [
       "[0, 1, 2, 3, 4]"
      ]
     },
     "execution_count": 12,
     "metadata": {},
     "output_type": "execute_result"
    }
   ],
   "source": [
    "L[:5]"
   ]
  },
  {
   "cell_type": "code",
   "execution_count": 13,
   "id": "89bf9c01",
   "metadata": {},
   "outputs": [
    {
     "data": {
      "text/plain": [
       "[5, 6, 7, 8, 9, 10, 11, 12, 13, 14, 15, 16, 17, 18, 19, 0, 1, 2, 3, 4]"
      ]
     },
     "execution_count": 13,
     "metadata": {},
     "output_type": "execute_result"
    }
   ],
   "source": [
    "# Quick way to cycle the list to the left\n",
    "i = 5\n",
    "L[i:] + L[:i]"
   ]
  },
  {
   "cell_type": "code",
   "execution_count": 14,
   "id": "72626812",
   "metadata": {},
   "outputs": [],
   "source": [
    "# Tuples (Like list, but immutable)\n",
    "T = (1,2,3,4)"
   ]
  },
  {
   "cell_type": "code",
   "execution_count": 15,
   "id": "445d2fd6",
   "metadata": {},
   "outputs": [
    {
     "data": {
      "text/plain": [
       "1"
      ]
     },
     "execution_count": 15,
     "metadata": {},
     "output_type": "execute_result"
    }
   ],
   "source": [
    "# Can select element...\n",
    "T[0]"
   ]
  },
  {
   "cell_type": "code",
   "execution_count": 16,
   "id": "d1f0235b",
   "metadata": {},
   "outputs": [
    {
     "data": {
      "text/plain": [
       "(4,)"
      ]
     },
     "execution_count": 16,
     "metadata": {},
     "output_type": "execute_result"
    }
   ],
   "source": [
    "# Can slice\n",
    "T[3:]"
   ]
  },
  {
   "cell_type": "code",
   "execution_count": 17,
   "id": "017c33a6",
   "metadata": {},
   "outputs": [],
   "source": [
    "# Can't assign - would give an error\n",
    "# T[2] = 100"
   ]
  },
  {
   "cell_type": "code",
   "execution_count": 18,
   "id": "cef8d4b9",
   "metadata": {},
   "outputs": [
    {
     "data": {
      "text/plain": [
       "(1, 2, 3, 4)"
      ]
     },
     "execution_count": 18,
     "metadata": {},
     "output_type": "execute_result"
    }
   ],
   "source": [
    "# Tuples are created with commas, as opposed to round brackets\n",
    "T = 1,2,3,4\n",
    "T"
   ]
  },
  {
   "cell_type": "code",
   "execution_count": 19,
   "id": "b88f07a4",
   "metadata": {},
   "outputs": [],
   "source": [
    "# You can use tuples for assignment"
   ]
  },
  {
   "cell_type": "code",
   "execution_count": 20,
   "id": "cd949b1a",
   "metadata": {},
   "outputs": [],
   "source": [
    "a, b = 3, 4"
   ]
  },
  {
   "cell_type": "code",
   "execution_count": 21,
   "id": "f5d2018c",
   "metadata": {},
   "outputs": [
    {
     "data": {
      "text/plain": [
       "3"
      ]
     },
     "execution_count": 21,
     "metadata": {},
     "output_type": "execute_result"
    }
   ],
   "source": [
    "a"
   ]
  },
  {
   "cell_type": "code",
   "execution_count": 22,
   "id": "48fa0c09",
   "metadata": {},
   "outputs": [
    {
     "data": {
      "text/plain": [
       "4"
      ]
     },
     "execution_count": 22,
     "metadata": {},
     "output_type": "execute_result"
    }
   ],
   "source": [
    "b"
   ]
  },
  {
   "cell_type": "code",
   "execution_count": 23,
   "id": "c45dd032",
   "metadata": {},
   "outputs": [],
   "source": [
    "# Nice trick for swapping two values\n",
    "a, b = b, a"
   ]
  },
  {
   "cell_type": "code",
   "execution_count": 24,
   "id": "071a9e12",
   "metadata": {},
   "outputs": [
    {
     "data": {
      "text/plain": [
       "4"
      ]
     },
     "execution_count": 24,
     "metadata": {},
     "output_type": "execute_result"
    }
   ],
   "source": [
    "a"
   ]
  },
  {
   "cell_type": "code",
   "execution_count": 25,
   "id": "20b31383",
   "metadata": {},
   "outputs": [
    {
     "data": {
      "text/plain": [
       "3"
      ]
     },
     "execution_count": 25,
     "metadata": {},
     "output_type": "execute_result"
    }
   ],
   "source": [
    "b"
   ]
  },
  {
   "cell_type": "code",
   "execution_count": 26,
   "id": "75751f24",
   "metadata": {},
   "outputs": [
    {
     "data": {
      "text/plain": [
       "[0, 1, 2, 3, 4, 5, 6, 7, 8, 9]"
      ]
     },
     "execution_count": 26,
     "metadata": {},
     "output_type": "execute_result"
    }
   ],
   "source": [
    "# List of integers\n",
    "L = list(range(10))\n",
    "L"
   ]
  },
  {
   "cell_type": "code",
   "execution_count": 27,
   "id": "990d2b69",
   "metadata": {},
   "outputs": [
    {
     "data": {
      "text/plain": [
       "[0, 1, 8, 27, 64, 125, 216, 343, 512, 729]"
      ]
     },
     "execution_count": 27,
     "metadata": {},
     "output_type": "execute_result"
    }
   ],
   "source": [
    "# List comprehension\n",
    "[i**3 for i in L]"
   ]
  },
  {
   "cell_type": "code",
   "execution_count": 28,
   "id": "94131341",
   "metadata": {},
   "outputs": [
    {
     "data": {
      "text/plain": [
       "[9, 8, 7, 6, 5, 4, 3, 2, 1, 0]"
      ]
     },
     "execution_count": 28,
     "metadata": {},
     "output_type": "execute_result"
    }
   ],
   "source": [
    "# Curve ball (Reverse the list)\n",
    "L[::-1]"
   ]
  },
  {
   "cell_type": "markdown",
   "id": "db682871",
   "metadata": {},
   "source": [
    "## Bubble Sort\n",
    "***"
   ]
  },
  {
   "cell_type": "code",
   "execution_count": 29,
   "id": "200a5e3a",
   "metadata": {},
   "outputs": [],
   "source": [
    "# Importing module from standard library.\n",
    "import random"
   ]
  },
  {
   "cell_type": "code",
   "execution_count": 30,
   "id": "0b20bd1e",
   "metadata": {},
   "outputs": [
    {
     "data": {
      "text/plain": [
       "[1, 2, 3, 4, 5, 6, 7, 8, 9, 10]"
      ]
     },
     "execution_count": 30,
     "metadata": {},
     "output_type": "execute_result"
    }
   ],
   "source": [
    "# Create a list of integers\n",
    "L = list(range(1,11))\n",
    "L"
   ]
  },
  {
   "cell_type": "code",
   "execution_count": 31,
   "id": "ec3610d7",
   "metadata": {},
   "outputs": [],
   "source": [
    "# Shuffle the list\n",
    "random.shuffle(L)"
   ]
  },
  {
   "cell_type": "code",
   "execution_count": 32,
   "id": "373653f6",
   "metadata": {},
   "outputs": [
    {
     "data": {
      "text/plain": [
       "[5, 1, 3, 6, 2, 7, 9, 10, 4, 8]"
      ]
     },
     "execution_count": 32,
     "metadata": {},
     "output_type": "execute_result"
    }
   ],
   "source": [
    "# The list is shuffled\n",
    "L"
   ]
  },
  {
   "cell_type": "code",
   "execution_count": 33,
   "id": "355aeb82",
   "metadata": {},
   "outputs": [],
   "source": [
    "# Bubble sort\n",
    "\n",
    "# Keep track of no. of comparisons\n",
    "no_comparisons = 0\n",
    "\n",
    "# Bubble every (biggest) element up\n",
    "for j in range(len(L)-1):\n",
    "    # Keep track of any swaps\n",
    "    swapped = False\n",
    "    \n",
    "    # Compare all elements side by side\n",
    "    for i in range(len(L)-1):\n",
    "        # Compare the ith element with the (i+1)th\n",
    "        if L[i] > L [i + 1]:\n",
    "            # Swap the elements\n",
    "            L[i], L[i+1] = L[i+1], L[i]    \n",
    "            # Keep track of swap\n",
    "            swapped = True\n",
    "            \n",
    "        # Increment list\n",
    "        no_comparisons = no_comparisons + 1\n",
    "        \n",
    "    # Quit if there were no swaps\n",
    "    if not swapped:\n",
    "        break"
   ]
  },
  {
   "cell_type": "code",
   "execution_count": 34,
   "id": "862e614b",
   "metadata": {},
   "outputs": [
    {
     "data": {
      "text/plain": [
       "[1, 2, 3, 4, 5, 6, 7, 8, 9, 10]"
      ]
     },
     "execution_count": 34,
     "metadata": {},
     "output_type": "execute_result"
    }
   ],
   "source": [
    "L"
   ]
  },
  {
   "cell_type": "code",
   "execution_count": 35,
   "id": "244bd329",
   "metadata": {},
   "outputs": [
    {
     "data": {
      "text/plain": [
       "54"
      ]
     },
     "execution_count": 35,
     "metadata": {},
     "output_type": "execute_result"
    }
   ],
   "source": [
    "no_comparisons"
   ]
  },
  {
   "cell_type": "code",
   "execution_count": 36,
   "id": "a441c750",
   "metadata": {},
   "outputs": [],
   "source": [
    "# Bubble sort (function)\n",
    "def bubble_sort(L):\n",
    "    # Keep track of no. of comparisons\n",
    "    no_comparisons = 0\n",
    "\n",
    "    # Bubble every (biggest) element up\n",
    "    for j in range(len(L)-1):\n",
    "        # Keep track of any swaps\n",
    "        swapped = False\n",
    "\n",
    "        # Compare all elements side by side\n",
    "        for i in range(len(L)-1 - j):\n",
    "            # Compare the ith element with the (i+1)th\n",
    "            if L[i] > L [i + 1]:\n",
    "                # Swap the elements\n",
    "                L[i], L[i+1] = L[i+1], L[i]    \n",
    "                # Keep track of swap\n",
    "                swapped = True\n",
    "\n",
    "            # Increment list\n",
    "            no_comparisons = no_comparisons + 1\n",
    "\n",
    "        # Quit if there were no swaps\n",
    "        if not swapped:\n",
    "            break\n",
    "    return no_comparisons"
   ]
  },
  {
   "cell_type": "code",
   "execution_count": 37,
   "id": "6e4e7417",
   "metadata": {},
   "outputs": [
    {
     "data": {
      "text/plain": [
       "[7, 4, 5, 9, 8, 3, 6, 2, 1, 10]"
      ]
     },
     "execution_count": 37,
     "metadata": {},
     "output_type": "execute_result"
    }
   ],
   "source": [
    "# Create a list\n",
    "L = list(range(1,11))\n",
    "\n",
    "# Shuffle it\n",
    "random.shuffle(L)\n",
    "\n",
    "# Look at it\n",
    "L"
   ]
  },
  {
   "cell_type": "code",
   "execution_count": 38,
   "id": "d91c56fa",
   "metadata": {},
   "outputs": [
    {
     "data": {
      "text/plain": [
       "45"
      ]
     },
     "execution_count": 38,
     "metadata": {},
     "output_type": "execute_result"
    }
   ],
   "source": [
    "bubble_sort(L)"
   ]
  },
  {
   "cell_type": "code",
   "execution_count": 39,
   "id": "56fdee48",
   "metadata": {},
   "outputs": [
    {
     "data": {
      "text/plain": [
       "[1, 2, 3, 4, 5, 6, 7, 8, 9, 10]"
      ]
     },
     "execution_count": 39,
     "metadata": {},
     "output_type": "execute_result"
    }
   ],
   "source": [
    "L"
   ]
  },
  {
   "cell_type": "code",
   "execution_count": 40,
   "id": "3fcce4d5",
   "metadata": {},
   "outputs": [
    {
     "data": {
      "text/plain": [
       "9"
      ]
     },
     "execution_count": 40,
     "metadata": {},
     "output_type": "execute_result"
    }
   ],
   "source": [
    "# Once the list is sorted, bubble sort is O(n)\n",
    "bubble_sort(L)"
   ]
  },
  {
   "cell_type": "code",
   "execution_count": 41,
   "id": "45e74e77",
   "metadata": {},
   "outputs": [
    {
     "data": {
      "text/plain": [
       "[10, 9, 8, 7, 6, 5, 4, 3, 2, 1]"
      ]
     },
     "execution_count": 41,
     "metadata": {},
     "output_type": "execute_result"
    }
   ],
   "source": [
    "# The worst case for bubble sort (reverse list)\n",
    "L[::-1]"
   ]
  },
  {
   "cell_type": "code",
   "execution_count": 42,
   "id": "9e723aa6",
   "metadata": {},
   "outputs": [
    {
     "data": {
      "text/plain": [
       "45"
      ]
     },
     "execution_count": 42,
     "metadata": {},
     "output_type": "execute_result"
    }
   ],
   "source": [
    "# Still O(n^2)\n",
    "bubble_sort(L[::-1])"
   ]
  },
  {
   "cell_type": "markdown",
   "id": "e2cc6f89",
   "metadata": {},
   "source": [
    "\n",
    "\n",
    "\n",
    "## Heap Sort\n",
    "***\n",
    "\n"
   ]
  },
  {
   "cell_type": "markdown",
   "id": "b70217a7",
   "metadata": {},
   "source": [
    "<img src=\"https://upload.wikimedia.org/wikipedia/commons/thumb/c/c4/Max-Heap-new.svg/854px-Max-Heap-new.svg.png\" width = \"300px\"></img>"
   ]
  },
  {
   "cell_type": "markdown",
   "id": "7ae2358d",
   "metadata": {},
   "source": [
    "#### Taken from Wikipedia\n",
    "https://en.wikipedia.org/wiki/Heapsort#Pseudocode"
   ]
  },
  {
   "cell_type": "code",
   "execution_count": 43,
   "id": "9a279c8e",
   "metadata": {},
   "outputs": [],
   "source": [
    "# Repair heap whose root element is index \"start\"\n",
    "# Assumes the heaps rooted at its children are valid\n",
    "def siftDown(L,parent,end):  \n",
    "    \"\"\"L[:end+1] should almost be a max haep.\n",
    "       siftDown repairs it so that it is one\"\"\"\n",
    "    \n",
    "    # Used to log comparisons\n",
    "    no_comparisons = 0\n",
    "    \n",
    "    # While the parent is actually a parent(has atleast a left child)\n",
    "    while(2 * parent + 1) <= end:\n",
    "        # The index of the children of the parent\n",
    "        lchild = (2 * parent + 1)\n",
    "        rchild = (2 * parent + 2)\n",
    "        \n",
    "        # Assume parent is larger than the children (what is swapped with the parent)\n",
    "        swap = parent\n",
    "        \n",
    "        # If: The left child (if present) is greater, swap them\n",
    "        if L[swap] < L[lchild]:\n",
    "            swap = lchild\n",
    "            no_comparisons = no_comparisons + 1\n",
    "        # Check if right child exists and is smaller than L[swap]\n",
    "        if rchild <= end and L[swap] < L[rchild]:\n",
    "            # Then swap is set to index of right child\n",
    "            swap = rchild\n",
    "            no_comparisons = no_comparisons + 1\n",
    "        # If the parent is bigger than the children, then it is a max heap\n",
    "        if swap == parent:\n",
    "            break\n",
    "        else:\n",
    "            # Swap the parent with the bigger child\n",
    "            L[parent], L[swap] = L[swap],L[parent]\n",
    "            # Set parent to bigger childs index\n",
    "            parent = swap\n",
    "            \n",
    "        # Repeats to continue sifting the child\n",
    "        \n",
    "    # Return number of comparisons\n",
    "    return no_comparisons"
   ]
  },
  {
   "cell_type": "code",
   "execution_count": 44,
   "id": "196fb57d",
   "metadata": {},
   "outputs": [],
   "source": [
    "def heapsort(L):\n",
    "    \"\"\"Sorts the list L in-place using Heap Sort.\"\"\"\n",
    "    \n",
    "    # Keep track of comparisons\n",
    "    no_comparisons = 0\n",
    "    \n",
    "    # Turn L into a max heap (a binary tree)\n",
    "    \n",
    "    # Index of last element\n",
    "    last_element = len(L) - 1\n",
    "    \n",
    "    # Find the last parent.\n",
    "    lastParent = (last_element - 1) // 2  #iParent(count -1)\n",
    "    \n",
    "    # Loop backwards through all the parents\n",
    "    for parent in range(lastParent,-1,-1):\n",
    "\n",
    "        # Sift down node at index[start] to it's proper place\n",
    "        # Done so all nodes below start index are in heap order\n",
    "        no_comparisons = no_comparisons + siftDown(L,parent,last_element)\n",
    "        \n",
    "    # Segregate the list L into two parts:\n",
    "    # 1. L[:end] is a max heap\n",
    "    # 2. Each element beyond end is greater than everything before it\n",
    "    # While there are elements in the heap\n",
    "    for end in range(last_element,0,-1):\n",
    "       \n",
    "        # Swap largest value in front of sorted elements\n",
    "        L[0],L[end]  = L[end], L[0]\n",
    "        no_comparisons = no_comparisons + siftDown(L,0,end - 1)\n",
    "        \n",
    "    # Return the number of comparisons\n",
    "    return no_comparisons"
   ]
  },
  {
   "cell_type": "code",
   "execution_count": 45,
   "id": "c63d44e1",
   "metadata": {},
   "outputs": [
    {
     "data": {
      "text/plain": [
       "[19, 100, 36, 25, 3, 17, 7, 1, 2]"
      ]
     },
     "execution_count": 45,
     "metadata": {},
     "output_type": "execute_result"
    }
   ],
   "source": [
    "L = [19,100,36,25,3,17,7,1,2]\n",
    "L"
   ]
  },
  {
   "cell_type": "code",
   "execution_count": 46,
   "id": "b4d74134",
   "metadata": {},
   "outputs": [],
   "source": [
    "end = len(L) - 1"
   ]
  },
  {
   "cell_type": "code",
   "execution_count": 47,
   "id": "8825d81d",
   "metadata": {},
   "outputs": [
    {
     "data": {
      "text/plain": [
       "[19, 100, 36, 25, 3, 17, 7, 1]"
      ]
     },
     "execution_count": 47,
     "metadata": {},
     "output_type": "execute_result"
    }
   ],
   "source": [
    "L[:end]"
   ]
  },
  {
   "cell_type": "code",
   "execution_count": 59,
   "id": "31f36344",
   "metadata": {},
   "outputs": [
    {
     "data": {
      "text/plain": [
       "[19, 100, 36, 25, 3, 17, 7, 1, 2]"
      ]
     },
     "execution_count": 59,
     "metadata": {},
     "output_type": "execute_result"
    }
   ],
   "source": [
    "L = [19,100,36,25,3,17,7,1,2]\n",
    "L"
   ]
  },
  {
   "cell_type": "code",
   "execution_count": 60,
   "id": "975101e8",
   "metadata": {},
   "outputs": [
    {
     "data": {
      "text/plain": [
       "[1, 2, 3, 7, 17, 19, 25, 36, 100]"
      ]
     },
     "execution_count": 60,
     "metadata": {},
     "output_type": "execute_result"
    }
   ],
   "source": [
    "heapsort(L)\n",
    "L"
   ]
  },
  {
   "cell_type": "markdown",
   "id": "5a9711d2",
   "metadata": {},
   "source": [
    "<br>\n",
    "\n",
    "## Comparing Algorithms\n",
    "***"
   ]
  },
  {
   "cell_type": "code",
   "execution_count": null,
   "id": "a7780287",
   "metadata": {},
   "outputs": [],
   "source": [
    "# Example list based on above diagram\n",
    "L = [19,100,36,25,3,17,7,1,2]\n",
    "L"
   ]
  },
  {
   "cell_type": "code",
   "execution_count": 61,
   "id": "77a27e73",
   "metadata": {},
   "outputs": [
    {
     "data": {
      "text/plain": [
       "([1, 2, 3, 7, 17, 19, 25, 36, 100], 25)"
      ]
     },
     "execution_count": 61,
     "metadata": {},
     "output_type": "execute_result"
    }
   ],
   "source": [
    "# Perform heap sort, show number of comparisons\n",
    "no_comparisons = heapsort(L)\n",
    "L, no_comparisons"
   ]
  },
  {
   "cell_type": "code",
   "execution_count": 62,
   "id": "08d7732e",
   "metadata": {},
   "outputs": [
    {
     "data": {
      "text/plain": [
       "([1, 2, 3, 7, 17, 19, 25, 36, 100], 36)"
      ]
     },
     "execution_count": 62,
     "metadata": {},
     "output_type": "execute_result"
    }
   ],
   "source": [
    "# Perform bubble sort, show number of comparisons\n",
    "L = [19,100,36,25,3,17,7,1,2]\n",
    "no_comparisons = bubble_sort(L)\n",
    "L, no_comparisons"
   ]
  },
  {
   "cell_type": "code",
   "execution_count": 63,
   "id": "19926344",
   "metadata": {},
   "outputs": [
    {
     "name": "stdout",
     "output_type": "stream",
     "text": [
      "(0, 1, 2, 3, 4)\t4\t8\n",
      "(0, 1, 2, 4, 3)\t7\t9\n",
      "(0, 1, 3, 2, 4)\t7\t7\n",
      "(0, 1, 3, 4, 2)\t9\t8\n",
      "(0, 1, 4, 2, 3)\t7\t8\n",
      "(0, 1, 4, 3, 2)\t9\t6\n",
      "(0, 2, 1, 3, 4)\t7\t6\n",
      "(0, 2, 1, 4, 3)\t7\t7\n",
      "(0, 2, 3, 1, 4)\t9\t8\n",
      "(0, 2, 3, 4, 1)\t10\t6\n",
      "(0, 2, 4, 1, 3)\t9\t6\n",
      "(0, 2, 4, 3, 1)\t10\t7\n",
      "(0, 3, 1, 2, 4)\t7\t7\n",
      "(0, 3, 1, 4, 2)\t9\t5\n",
      "(0, 3, 2, 1, 4)\t9\t9\n",
      "(0, 3, 2, 4, 1)\t10\t7\n",
      "(0, 3, 4, 1, 2)\t9\t5\n",
      "(0, 3, 4, 2, 1)\t10\t6\n",
      "(0, 4, 1, 2, 3)\t7\t6\n",
      "(0, 4, 1, 3, 2)\t9\t4\n",
      "(0, 4, 2, 1, 3)\t9\t8\n",
      "(0, 4, 2, 3, 1)\t10\t6\n",
      "(0, 4, 3, 1, 2)\t9\t7\n",
      "(0, 4, 3, 2, 1)\t10\t5\n",
      "(1, 0, 2, 3, 4)\t7\t9\n",
      "(1, 0, 2, 4, 3)\t7\t7\n",
      "(1, 0, 3, 2, 4)\t7\t8\n",
      "(1, 0, 3, 4, 2)\t9\t6\n",
      "(1, 0, 4, 2, 3)\t7\t7\n",
      "(1, 0, 4, 3, 2)\t9\t5\n",
      "(1, 2, 0, 3, 4)\t9\t7\n",
      "(1, 2, 0, 4, 3)\t9\t8\n",
      "(1, 2, 3, 0, 4)\t10\t6\n",
      "(1, 2, 3, 4, 0)\t10\t7\n",
      "(1, 2, 4, 0, 3)\t10\t5\n",
      "(1, 2, 4, 3, 0)\t10\t6\n",
      "(1, 3, 0, 2, 4)\t9\t8\n",
      "(1, 3, 0, 4, 2)\t9\t6\n",
      "(1, 3, 2, 0, 4)\t10\t7\n",
      "(1, 3, 2, 4, 0)\t10\t8\n",
      "(1, 3, 4, 0, 2)\t10\t4\n",
      "(1, 3, 4, 2, 0)\t10\t5\n",
      "(1, 4, 0, 2, 3)\t9\t7\n",
      "(1, 4, 0, 3, 2)\t9\t5\n",
      "(1, 4, 2, 0, 3)\t10\t6\n",
      "(1, 4, 2, 3, 0)\t10\t7\n",
      "(1, 4, 3, 0, 2)\t10\t5\n",
      "(1, 4, 3, 2, 0)\t10\t6\n",
      "(2, 0, 1, 3, 4)\t7\t7\n",
      "(2, 0, 1, 4, 3)\t7\t5\n",
      "(2, 0, 3, 1, 4)\t9\t7\n",
      "(2, 0, 3, 4, 1)\t10\t5\n",
      "(2, 0, 4, 1, 3)\t9\t9\n",
      "(2, 0, 4, 3, 1)\t10\t7\n",
      "(2, 1, 0, 3, 4)\t9\t8\n",
      "(2, 1, 0, 4, 3)\t9\t6\n",
      "(2, 1, 3, 0, 4)\t10\t5\n",
      "(2, 1, 3, 4, 0)\t10\t6\n",
      "(2, 1, 4, 0, 3)\t10\t7\n",
      "(2, 1, 4, 3, 0)\t10\t8\n",
      "(2, 3, 0, 1, 4)\t9\t6\n",
      "(2, 3, 0, 4, 1)\t10\t7\n",
      "(2, 3, 1, 0, 4)\t10\t5\n",
      "(2, 3, 1, 4, 0)\t10\t6\n",
      "(2, 3, 4, 0, 1)\t10\t6\n",
      "(2, 3, 4, 1, 0)\t10\t7\n",
      "(2, 4, 0, 1, 3)\t9\t5\n",
      "(2, 4, 0, 3, 1)\t10\t6\n",
      "(2, 4, 1, 0, 3)\t10\t4\n",
      "(2, 4, 1, 3, 0)\t10\t5\n",
      "(2, 4, 3, 0, 1)\t10\t4\n",
      "(2, 4, 3, 1, 0)\t10\t5\n",
      "(3, 0, 1, 2, 4)\t7\t6\n",
      "(3, 0, 1, 4, 2)\t9\t4\n",
      "(3, 0, 2, 1, 4)\t9\t8\n",
      "(3, 0, 2, 4, 1)\t10\t6\n",
      "(3, 0, 4, 1, 2)\t9\t7\n",
      "(3, 0, 4, 2, 1)\t10\t5\n",
      "(3, 1, 0, 2, 4)\t9\t7\n",
      "(3, 1, 0, 4, 2)\t9\t5\n",
      "(3, 1, 2, 0, 4)\t10\t6\n",
      "(3, 1, 2, 4, 0)\t10\t7\n",
      "(3, 1, 4, 0, 2)\t10\t5\n",
      "(3, 1, 4, 2, 0)\t10\t6\n",
      "(3, 2, 0, 1, 4)\t9\t5\n",
      "(3, 2, 0, 4, 1)\t10\t6\n",
      "(3, 2, 1, 0, 4)\t10\t4\n",
      "(3, 2, 1, 4, 0)\t10\t5\n",
      "(3, 2, 4, 0, 1)\t10\t4\n",
      "(3, 2, 4, 1, 0)\t10\t5\n",
      "(3, 4, 0, 1, 2)\t9\t4\n",
      "(3, 4, 0, 2, 1)\t10\t5\n",
      "(3, 4, 1, 0, 2)\t10\t3\n",
      "(3, 4, 1, 2, 0)\t10\t4\n",
      "(3, 4, 2, 0, 1)\t10\t5\n",
      "(3, 4, 2, 1, 0)\t10\t6\n",
      "(4, 0, 1, 2, 3)\t7\t5\n",
      "(4, 0, 1, 3, 2)\t9\t3\n",
      "(4, 0, 2, 1, 3)\t9\t7\n",
      "(4, 0, 2, 3, 1)\t10\t5\n",
      "(4, 0, 3, 1, 2)\t9\t6\n",
      "(4, 0, 3, 2, 1)\t10\t4\n",
      "(4, 1, 0, 2, 3)\t9\t6\n",
      "(4, 1, 0, 3, 2)\t9\t4\n",
      "(4, 1, 2, 0, 3)\t10\t5\n",
      "(4, 1, 2, 3, 0)\t10\t6\n",
      "(4, 1, 3, 0, 2)\t10\t4\n",
      "(4, 1, 3, 2, 0)\t10\t5\n",
      "(4, 2, 0, 1, 3)\t9\t4\n",
      "(4, 2, 0, 3, 1)\t10\t5\n",
      "(4, 2, 1, 0, 3)\t10\t3\n",
      "(4, 2, 1, 3, 0)\t10\t4\n",
      "(4, 2, 3, 0, 1)\t10\t3\n",
      "(4, 2, 3, 1, 0)\t10\t4\n",
      "(4, 3, 0, 1, 2)\t9\t3\n",
      "(4, 3, 0, 2, 1)\t10\t4\n",
      "(4, 3, 1, 0, 2)\t10\t2\n",
      "(4, 3, 1, 2, 0)\t10\t3\n",
      "(4, 3, 2, 0, 1)\t10\t4\n",
      "(4, 3, 2, 1, 0)\t10\t5\n"
     ]
    }
   ],
   "source": [
    "# Module containing combinatorial functions\n",
    "import itertools\n",
    "\n",
    "# Length of example list\n",
    "n = 5\n",
    "\n",
    "# Loop through all permutations of the list of integers from 0 to n\n",
    "for perm in itertools.permutations(range(n)):\n",
    "    L = list(perm)\n",
    "    bubble_comparisons = bubble_sort(L)\n",
    "    L = list(perm)\n",
    "    heap_comparisons = heapsort(L)\n",
    "    print(f'{str(perm)[1:-1]}\\t{bubble_comparisons}\\t{heap_comparisons}')"
   ]
  },
  {
   "cell_type": "code",
   "execution_count": 64,
   "id": "e14481dd",
   "metadata": {},
   "outputs": [],
   "source": [
    "# Like Excel for Python\n",
    "import pandas as pd"
   ]
  },
  {
   "cell_type": "code",
   "execution_count": 74,
   "id": "d4d23a29",
   "metadata": {},
   "outputs": [
    {
     "data": {
      "text/plain": [
       "[['0, 1, 2, 3, 4, 5, 6', 6, 15],\n",
       " ['0, 1, 2, 3, 4, 6, 5', 11, 16],\n",
       " ['0, 1, 2, 3, 5, 4, 6', 11, 15],\n",
       " ['0, 1, 2, 3, 5, 6, 4', 15, 15],\n",
       " ['0, 1, 2, 3, 6, 4, 5', 11, 15],\n",
       " ['0, 1, 2, 3, 6, 5, 4', 15, 12],\n",
       " ['0, 1, 2, 4, 3, 5, 6', 11, 16],\n",
       " ['0, 1, 2, 4, 3, 6, 5', 11, 17],\n",
       " ['0, 1, 2, 4, 5, 3, 6', 15, 14],\n",
       " ['0, 1, 2, 4, 5, 6, 3', 18, 13],\n",
       " ['0, 1, 2, 4, 6, 3, 5', 15, 13],\n",
       " ['0, 1, 2, 4, 6, 5, 3', 18, 11],\n",
       " ['0, 1, 2, 5, 3, 4, 6', 11, 13],\n",
       " ['0, 1, 2, 5, 3, 6, 4', 15, 16],\n",
       " ['0, 1, 2, 5, 4, 3, 6', 15, 15],\n",
       " ['0, 1, 2, 5, 4, 6, 3', 18, 14],\n",
       " ['0, 1, 2, 5, 6, 3, 4', 15, 11],\n",
       " ['0, 1, 2, 5, 6, 4, 3', 18, 12],\n",
       " ['0, 1, 2, 6, 3, 4, 5', 11, 16],\n",
       " ['0, 1, 2, 6, 3, 5, 4', 15, 13],\n",
       " ['0, 1, 2, 6, 4, 3, 5', 15, 14],\n",
       " ['0, 1, 2, 6, 4, 5, 3', 18, 12],\n",
       " ['0, 1, 2, 6, 5, 3, 4', 15, 12],\n",
       " ['0, 1, 2, 6, 5, 4, 3', 18, 13],\n",
       " ['0, 1, 3, 2, 4, 5, 6', 11, 14],\n",
       " ['0, 1, 3, 2, 4, 6, 5', 11, 15],\n",
       " ['0, 1, 3, 2, 5, 4, 6', 11, 14],\n",
       " ['0, 1, 3, 2, 5, 6, 4', 15, 13],\n",
       " ['0, 1, 3, 2, 6, 4, 5', 11, 12],\n",
       " ['0, 1, 3, 2, 6, 5, 4', 15, 10],\n",
       " ['0, 1, 3, 4, 2, 5, 6', 15, 15],\n",
       " ['0, 1, 3, 4, 2, 6, 5', 15, 16],\n",
       " ['0, 1, 3, 4, 5, 2, 6', 18, 13],\n",
       " ['0, 1, 3, 4, 5, 6, 2', 20, 13],\n",
       " ['0, 1, 3, 4, 6, 2, 5', 18, 11],\n",
       " ['0, 1, 3, 4, 6, 5, 2', 20, 12],\n",
       " ['0, 1, 3, 5, 2, 4, 6', 15, 12],\n",
       " ['0, 1, 3, 5, 2, 6, 4', 15, 14],\n",
       " ['0, 1, 3, 5, 4, 2, 6', 18, 14],\n",
       " ['0, 1, 3, 5, 4, 6, 2', 20, 14],\n",
       " ['0, 1, 3, 5, 6, 2, 4', 18, 12],\n",
       " ['0, 1, 3, 5, 6, 4, 2', 20, 10],\n",
       " ['0, 1, 3, 6, 2, 4, 5', 15, 13],\n",
       " ['0, 1, 3, 6, 2, 5, 4', 15, 11],\n",
       " ['0, 1, 3, 6, 4, 2, 5', 18, 12],\n",
       " ['0, 1, 3, 6, 4, 5, 2', 20, 13],\n",
       " ['0, 1, 3, 6, 5, 2, 4', 18, 13],\n",
       " ['0, 1, 3, 6, 5, 4, 2', 20, 11],\n",
       " ['0, 1, 4, 2, 3, 5, 6', 11, 14],\n",
       " ['0, 1, 4, 2, 3, 6, 5', 11, 16],\n",
       " ['0, 1, 4, 2, 5, 3, 6', 15, 13],\n",
       " ['0, 1, 4, 2, 5, 6, 3', 18, 13],\n",
       " ['0, 1, 4, 2, 6, 3, 5', 15, 10],\n",
       " ['0, 1, 4, 2, 6, 5, 3', 18, 11],\n",
       " ['0, 1, 4, 3, 2, 5, 6', 15, 12],\n",
       " ['0, 1, 4, 3, 2, 6, 5', 15, 14],\n",
       " ['0, 1, 4, 3, 5, 2, 6', 18, 15],\n",
       " ['0, 1, 4, 3, 5, 6, 2', 20, 14],\n",
       " ['0, 1, 4, 3, 6, 2, 5', 18, 12],\n",
       " ['0, 1, 4, 3, 6, 5, 2', 20, 14],\n",
       " ['0, 1, 4, 5, 2, 3, 6', 15, 14],\n",
       " ['0, 1, 4, 5, 2, 6, 3', 18, 11],\n",
       " ['0, 1, 4, 5, 3, 2, 6', 18, 16],\n",
       " ['0, 1, 4, 5, 3, 6, 2', 20, 12],\n",
       " ['0, 1, 4, 5, 6, 2, 3', 18, 11],\n",
       " ['0, 1, 4, 5, 6, 3, 2', 20, 9],\n",
       " ['0, 1, 4, 6, 2, 3, 5', 15, 11],\n",
       " ['0, 1, 4, 6, 2, 5, 3', 18, 12],\n",
       " ['0, 1, 4, 6, 3, 2, 5', 18, 13],\n",
       " ['0, 1, 4, 6, 3, 5, 2', 20, 15],\n",
       " ['0, 1, 4, 6, 5, 2, 3', 18, 12],\n",
       " ['0, 1, 4, 6, 5, 3, 2', 20, 10],\n",
       " ['0, 1, 5, 2, 3, 4, 6', 11, 16],\n",
       " ['0, 1, 5, 2, 3, 6, 4', 15, 13],\n",
       " ['0, 1, 5, 2, 4, 3, 6', 15, 15],\n",
       " ['0, 1, 5, 2, 4, 6, 3', 18, 13],\n",
       " ['0, 1, 5, 2, 6, 3, 4', 15, 9],\n",
       " ['0, 1, 5, 2, 6, 4, 3', 18, 10],\n",
       " ['0, 1, 5, 3, 2, 4, 6', 15, 14],\n",
       " ['0, 1, 5, 3, 2, 6, 4', 15, 11],\n",
       " ['0, 1, 5, 3, 4, 2, 6', 18, 16],\n",
       " ['0, 1, 5, 3, 4, 6, 2', 20, 14],\n",
       " ['0, 1, 5, 3, 6, 2, 4', 18, 11],\n",
       " ['0, 1, 5, 3, 6, 4, 2', 20, 13],\n",
       " ['0, 1, 5, 4, 2, 3, 6', 15, 16],\n",
       " ['0, 1, 5, 4, 2, 6, 3', 18, 14],\n",
       " ['0, 1, 5, 4, 3, 2, 6', 18, 17],\n",
       " ['0, 1, 5, 4, 3, 6, 2', 20, 15],\n",
       " ['0, 1, 5, 4, 6, 2, 3', 18, 10],\n",
       " ['0, 1, 5, 4, 6, 3, 2', 20, 11],\n",
       " ['0, 1, 5, 6, 2, 3, 4', 15, 10],\n",
       " ['0, 1, 5, 6, 2, 4, 3', 18, 11],\n",
       " ['0, 1, 5, 6, 3, 2, 4', 18, 12],\n",
       " ['0, 1, 5, 6, 3, 4, 2', 20, 14],\n",
       " ['0, 1, 5, 6, 4, 2, 3', 18, 11],\n",
       " ['0, 1, 5, 6, 4, 3, 2', 20, 12],\n",
       " ['0, 1, 6, 2, 3, 4, 5', 11, 15],\n",
       " ['0, 1, 6, 2, 3, 5, 4', 15, 12],\n",
       " ['0, 1, 6, 2, 4, 3, 5', 15, 14],\n",
       " ['0, 1, 6, 2, 4, 5, 3', 18, 12],\n",
       " ['0, 1, 6, 2, 5, 3, 4', 15, 12],\n",
       " ['0, 1, 6, 2, 5, 4, 3', 18, 12],\n",
       " ['0, 1, 6, 3, 2, 4, 5', 15, 13],\n",
       " ['0, 1, 6, 3, 2, 5, 4', 15, 10],\n",
       " ['0, 1, 6, 3, 4, 2, 5', 18, 15],\n",
       " ['0, 1, 6, 3, 4, 5, 2', 20, 13],\n",
       " ['0, 1, 6, 3, 5, 2, 4', 18, 14],\n",
       " ['0, 1, 6, 3, 5, 4, 2', 20, 13],\n",
       " ['0, 1, 6, 4, 2, 3, 5', 15, 15],\n",
       " ['0, 1, 6, 4, 2, 5, 3', 18, 13],\n",
       " ['0, 1, 6, 4, 3, 2, 5', 18, 16],\n",
       " ['0, 1, 6, 4, 3, 5, 2', 20, 14],\n",
       " ['0, 1, 6, 4, 5, 2, 3', 18, 12],\n",
       " ['0, 1, 6, 4, 5, 3, 2', 20, 12],\n",
       " ['0, 1, 6, 5, 2, 3, 4', 15, 13],\n",
       " ['0, 1, 6, 5, 2, 4, 3', 18, 10],\n",
       " ['0, 1, 6, 5, 3, 2, 4', 18, 15],\n",
       " ['0, 1, 6, 5, 3, 4, 2', 20, 11],\n",
       " ['0, 1, 6, 5, 4, 2, 3', 18, 13],\n",
       " ['0, 1, 6, 5, 4, 3, 2', 20, 13],\n",
       " ['0, 2, 1, 3, 4, 5, 6', 11, 13],\n",
       " ['0, 2, 1, 3, 4, 6, 5', 11, 14],\n",
       " ['0, 2, 1, 3, 5, 4, 6', 11, 14],\n",
       " ['0, 2, 1, 3, 5, 6, 4', 15, 13],\n",
       " ['0, 2, 1, 3, 6, 4, 5', 11, 13],\n",
       " ['0, 2, 1, 3, 6, 5, 4', 15, 10],\n",
       " ['0, 2, 1, 4, 3, 5, 6', 11, 14],\n",
       " ['0, 2, 1, 4, 3, 6, 5', 11, 15],\n",
       " ['0, 2, 1, 4, 5, 3, 6', 15, 16],\n",
       " ['0, 2, 1, 4, 5, 6, 3', 18, 14],\n",
       " ['0, 2, 1, 4, 6, 3, 5', 15, 14],\n",
       " ['0, 2, 1, 4, 6, 5, 3', 18, 12],\n",
       " ['0, 2, 1, 5, 3, 4, 6', 11, 15],\n",
       " ['0, 2, 1, 5, 3, 6, 4', 15, 14],\n",
       " ['0, 2, 1, 5, 4, 3, 6', 15, 14],\n",
       " ['0, 2, 1, 5, 4, 6, 3', 18, 15],\n",
       " ['0, 2, 1, 5, 6, 3, 4', 15, 12],\n",
       " ['0, 2, 1, 5, 6, 4, 3', 18, 10],\n",
       " ['0, 2, 1, 6, 3, 4, 5', 11, 14],\n",
       " ['0, 2, 1, 6, 3, 5, 4', 15, 11],\n",
       " ['0, 2, 1, 6, 4, 3, 5', 15, 15],\n",
       " ['0, 2, 1, 6, 4, 5, 3', 18, 13],\n",
       " ['0, 2, 1, 6, 5, 3, 4', 15, 13],\n",
       " ['0, 2, 1, 6, 5, 4, 3', 18, 11],\n",
       " ['0, 2, 3, 1, 4, 5, 6', 15, 15],\n",
       " ['0, 2, 3, 1, 4, 6, 5', 15, 16],\n",
       " ['0, 2, 3, 1, 5, 4, 6', 15, 12],\n",
       " ['0, 2, 3, 1, 5, 6, 4', 15, 14],\n",
       " ['0, 2, 3, 1, 6, 4, 5', 15, 13],\n",
       " ['0, 2, 3, 1, 6, 5, 4', 15, 11],\n",
       " ['0, 2, 3, 4, 1, 5, 6', 18, 13],\n",
       " ['0, 2, 3, 4, 1, 6, 5', 18, 14],\n",
       " ['0, 2, 3, 4, 5, 1, 6', 20, 14],\n",
       " ['0, 2, 3, 4, 5, 6, 1', 21, 15],\n",
       " ['0, 2, 3, 4, 6, 1, 5', 20, 12],\n",
       " ['0, 2, 3, 4, 6, 5, 1', 21, 13],\n",
       " ['0, 2, 3, 5, 1, 4, 6', 18, 13],\n",
       " ['0, 2, 3, 5, 1, 6, 4', 18, 12],\n",
       " ['0, 2, 3, 5, 4, 1, 6', 20, 15],\n",
       " ['0, 2, 3, 5, 4, 6, 1', 21, 13],\n",
       " ['0, 2, 3, 5, 6, 1, 4', 20, 10],\n",
       " ['0, 2, 3, 5, 6, 4, 1', 21, 11],\n",
       " ['0, 2, 3, 6, 1, 4, 5', 18, 11],\n",
       " ['0, 2, 3, 6, 1, 5, 4', 18, 9],\n",
       " ['0, 2, 3, 6, 4, 1, 5', 20, 13],\n",
       " ['0, 2, 3, 6, 4, 5, 1', 21, 14],\n",
       " ['0, 2, 3, 6, 5, 1, 4', 20, 11],\n",
       " ['0, 2, 3, 6, 5, 4, 1', 21, 12],\n",
       " ['0, 2, 4, 1, 3, 5, 6', 15, 12],\n",
       " ['0, 2, 4, 1, 3, 6, 5', 15, 14],\n",
       " ['0, 2, 4, 1, 5, 3, 6', 15, 14],\n",
       " ['0, 2, 4, 1, 5, 6, 3', 18, 11],\n",
       " ['0, 2, 4, 1, 6, 3, 5', 15, 11],\n",
       " ['0, 2, 4, 1, 6, 5, 3', 18, 12],\n",
       " ['0, 2, 4, 3, 1, 5, 6', 18, 13],\n",
       " ['0, 2, 4, 3, 1, 6, 5', 18, 15],\n",
       " ['0, 2, 4, 3, 5, 1, 6', 20, 13],\n",
       " ['0, 2, 4, 3, 5, 6, 1', 21, 13],\n",
       " ['0, 2, 4, 3, 6, 1, 5', 20, 10],\n",
       " ['0, 2, 4, 3, 6, 5, 1', 21, 12],\n",
       " ['0, 2, 4, 5, 1, 3, 6', 18, 12],\n",
       " ['0, 2, 4, 5, 1, 6, 3', 18, 12],\n",
       " ['0, 2, 4, 5, 3, 1, 6', 20, 14],\n",
       " ['0, 2, 4, 5, 3, 6, 1', 21, 14],\n",
       " ['0, 2, 4, 5, 6, 1, 3', 20, 9],\n",
       " ['0, 2, 4, 5, 6, 3, 1', 21, 10],\n",
       " ['0, 2, 4, 6, 1, 3, 5', 18, 9],\n",
       " ['0, 2, 4, 6, 1, 5, 3', 18, 10],\n",
       " ['0, 2, 4, 6, 3, 1, 5', 20, 11],\n",
       " ['0, 2, 4, 6, 3, 5, 1', 21, 13],\n",
       " ['0, 2, 4, 6, 5, 1, 3', 20, 10],\n",
       " ['0, 2, 4, 6, 5, 3, 1', 21, 11],\n",
       " ['0, 2, 5, 1, 3, 4, 6', 15, 14],\n",
       " ['0, 2, 5, 1, 3, 6, 4', 15, 11],\n",
       " ['0, 2, 5, 1, 4, 3, 6', 15, 16],\n",
       " ['0, 2, 5, 1, 4, 6, 3', 18, 14],\n",
       " ['0, 2, 5, 1, 6, 3, 4', 15, 10],\n",
       " ['0, 2, 5, 1, 6, 4, 3', 18, 11],\n",
       " ['0, 2, 5, 3, 1, 4, 6', 18, 15],\n",
       " ['0, 2, 5, 3, 1, 6, 4', 18, 12],\n",
       " ['0, 2, 5, 3, 4, 1, 6', 20, 14],\n",
       " ['0, 2, 5, 3, 4, 6, 1', 21, 12],\n",
       " ['0, 2, 5, 3, 6, 1, 4', 20, 9],\n",
       " ['0, 2, 5, 3, 6, 4, 1', 21, 11],\n",
       " ['0, 2, 5, 4, 1, 3, 6', 18, 14],\n",
       " ['0, 2, 5, 4, 1, 6, 3', 18, 12],\n",
       " ['0, 2, 5, 4, 3, 1, 6', 20, 15],\n",
       " ['0, 2, 5, 4, 3, 6, 1', 21, 13],\n",
       " ['0, 2, 5, 4, 6, 1, 3', 20, 11],\n",
       " ['0, 2, 5, 4, 6, 3, 1', 21, 12],\n",
       " ['0, 2, 5, 6, 1, 3, 4', 18, 8],\n",
       " ['0, 2, 5, 6, 1, 4, 3', 18, 9],\n",
       " ['0, 2, 5, 6, 3, 1, 4', 20, 10],\n",
       " ['0, 2, 5, 6, 3, 4, 1', 21, 12],\n",
       " ['0, 2, 5, 6, 4, 1, 3', 20, 12],\n",
       " ['0, 2, 5, 6, 4, 3, 1', 21, 13],\n",
       " ['0, 2, 6, 1, 3, 4, 5', 15, 13],\n",
       " ['0, 2, 6, 1, 3, 5, 4', 15, 10],\n",
       " ['0, 2, 6, 1, 4, 3, 5', 15, 15],\n",
       " ['0, 2, 6, 1, 4, 5, 3', 18, 13],\n",
       " ['0, 2, 6, 1, 5, 3, 4', 15, 13],\n",
       " ['0, 2, 6, 1, 5, 4, 3', 18, 10],\n",
       " ['0, 2, 6, 3, 1, 4, 5', 18, 14],\n",
       " ['0, 2, 6, 3, 1, 5, 4', 18, 11],\n",
       " ['0, 2, 6, 3, 4, 1, 5', 20, 13],\n",
       " ['0, 2, 6, 3, 4, 5, 1', 21, 11],\n",
       " ['0, 2, 6, 3, 5, 1, 4', 20, 12],\n",
       " ['0, 2, 6, 3, 5, 4, 1', 21, 12],\n",
       " ['0, 2, 6, 4, 1, 3, 5', 18, 13],\n",
       " ['0, 2, 6, 4, 1, 5, 3', 18, 11],\n",
       " ['0, 2, 6, 4, 3, 1, 5', 20, 14],\n",
       " ['0, 2, 6, 4, 3, 5, 1', 21, 12],\n",
       " ['0, 2, 6, 4, 5, 1, 3', 20, 13],\n",
       " ['0, 2, 6, 4, 5, 3, 1', 21, 14],\n",
       " ['0, 2, 6, 5, 1, 3, 4', 18, 11],\n",
       " ['0, 2, 6, 5, 1, 4, 3', 18, 11],\n",
       " ['0, 2, 6, 5, 3, 1, 4', 20, 13],\n",
       " ['0, 2, 6, 5, 3, 4, 1', 21, 13],\n",
       " ['0, 2, 6, 5, 4, 1, 3', 20, 14],\n",
       " ['0, 2, 6, 5, 4, 3, 1', 21, 12],\n",
       " ['0, 3, 1, 2, 4, 5, 6', 11, 14],\n",
       " ['0, 3, 1, 2, 4, 6, 5', 11, 15],\n",
       " ['0, 3, 1, 2, 5, 4, 6', 11, 15],\n",
       " ['0, 3, 1, 2, 5, 6, 4', 15, 14],\n",
       " ['0, 3, 1, 2, 6, 4, 5', 11, 14],\n",
       " ['0, 3, 1, 2, 6, 5, 4', 15, 11],\n",
       " ['0, 3, 1, 4, 2, 5, 6', 15, 12],\n",
       " ['0, 3, 1, 4, 2, 6, 5', 15, 13],\n",
       " ['0, 3, 1, 4, 5, 2, 6', 18, 17],\n",
       " ['0, 3, 1, 4, 5, 6, 2', 20, 15],\n",
       " ['0, 3, 1, 4, 6, 2, 5', 18, 15],\n",
       " ['0, 3, 1, 4, 6, 5, 2', 20, 13],\n",
       " ['0, 3, 1, 5, 2, 4, 6', 15, 13],\n",
       " ['0, 3, 1, 5, 2, 6, 4', 15, 12],\n",
       " ['0, 3, 1, 5, 4, 2, 6', 18, 15],\n",
       " ['0, 3, 1, 5, 4, 6, 2', 20, 16],\n",
       " ['0, 3, 1, 5, 6, 2, 4', 18, 14],\n",
       " ['0, 3, 1, 5, 6, 4, 2', 20, 11],\n",
       " ['0, 3, 1, 6, 2, 4, 5', 15, 12],\n",
       " ['0, 3, 1, 6, 2, 5, 4', 15, 9],\n",
       " ['0, 3, 1, 6, 4, 2, 5', 18, 16],\n",
       " ['0, 3, 1, 6, 4, 5, 2', 20, 14],\n",
       " ['0, 3, 1, 6, 5, 2, 4', 18, 15],\n",
       " ['0, 3, 1, 6, 5, 4, 2', 20, 12],\n",
       " ['0, 3, 2, 1, 4, 5, 6', 15, 16],\n",
       " ['0, 3, 2, 1, 4, 6, 5', 15, 17],\n",
       " ['0, 3, 2, 1, 5, 4, 6', 15, 13],\n",
       " ['0, 3, 2, 1, 5, 6, 4', 15, 16],\n",
       " ['0, 3, 2, 1, 6, 4, 5', 15, 16],\n",
       " ['0, 3, 2, 1, 6, 5, 4', 15, 13],\n",
       " ['0, 3, 2, 4, 1, 5, 6', 18, 14],\n",
       " ['0, 3, 2, 4, 1, 6, 5', 18, 15],\n",
       " ['0, 3, 2, 4, 5, 1, 6', 20, 15],\n",
       " ['0, 3, 2, 4, 5, 6, 1', 21, 16],\n",
       " ['0, 3, 2, 4, 6, 1, 5', 20, 13],\n",
       " ['0, 3, 2, 4, 6, 5, 1', 21, 14],\n",
       " ['0, 3, 2, 5, 1, 4, 6', 18, 14],\n",
       " ['0, 3, 2, 5, 1, 6, 4', 18, 14],\n",
       " ['0, 3, 2, 5, 4, 1, 6', 20, 16],\n",
       " ['0, 3, 2, 5, 4, 6, 1', 21, 14],\n",
       " ['0, 3, 2, 5, 6, 1, 4', 20, 11],\n",
       " ['0, 3, 2, 5, 6, 4, 1', 21, 13],\n",
       " ['0, 3, 2, 6, 1, 4, 5', 18, 14],\n",
       " ['0, 3, 2, 6, 1, 5, 4', 18, 11],\n",
       " ['0, 3, 2, 6, 4, 1, 5', 20, 14],\n",
       " ['0, 3, 2, 6, 4, 5, 1', 21, 15],\n",
       " ['0, 3, 2, 6, 5, 1, 4', 20, 12],\n",
       " ['0, 3, 2, 6, 5, 4, 1', 21, 14],\n",
       " ['0, 3, 4, 1, 2, 5, 6', 15, 11],\n",
       " ['0, 3, 4, 1, 2, 6, 5', 15, 13],\n",
       " ['0, 3, 4, 1, 5, 2, 6', 18, 16],\n",
       " ['0, 3, 4, 1, 5, 6, 2', 20, 12],\n",
       " ['0, 3, 4, 1, 6, 2, 5', 18, 13],\n",
       " ['0, 3, 4, 1, 6, 5, 2', 20, 15],\n",
       " ['0, 3, 4, 2, 1, 5, 6', 18, 12],\n",
       " ['0, 3, 4, 2, 1, 6, 5', 18, 14],\n",
       " ['0, 3, 4, 2, 5, 1, 6', 20, 14],\n",
       " ['0, 3, 4, 2, 5, 6, 1', 21, 14],\n",
       " ['0, 3, 4, 2, 6, 1, 5', 20, 11],\n",
       " ['0, 3, 4, 2, 6, 5, 1', 21, 13],\n",
       " ['0, 3, 4, 5, 1, 2, 6', 18, 14],\n",
       " ['0, 3, 4, 5, 1, 6, 2', 20, 13],\n",
       " ['0, 3, 4, 5, 2, 1, 6', 20, 12],\n",
       " ['0, 3, 4, 5, 2, 6, 1', 21, 12],\n",
       " ['0, 3, 4, 5, 6, 1, 2', 20, 10],\n",
       " ['0, 3, 4, 5, 6, 2, 1', 21, 12],\n",
       " ['0, 3, 4, 6, 1, 2, 5', 18, 11],\n",
       " ['0, 3, 4, 6, 1, 5, 2', 20, 13],\n",
       " ['0, 3, 4, 6, 2, 1, 5', 20, 9],\n",
       " ['0, 3, 4, 6, 2, 5, 1', 21, 11],\n",
       " ['0, 3, 4, 6, 5, 1, 2', 20, 11],\n",
       " ['0, 3, 4, 6, 5, 2, 1', 21, 13],\n",
       " ['0, 3, 5, 1, 2, 4, 6', 15, 13],\n",
       " ['0, 3, 5, 1, 2, 6, 4', 15, 10],\n",
       " ['0, 3, 5, 1, 4, 2, 6', 18, 17],\n",
       " ['0, 3, 5, 1, 4, 6, 2', 20, 15],\n",
       " ['0, 3, 5, 1, 6, 2, 4', 18, 12],\n",
       " ['0, 3, 5, 1, 6, 4, 2', 20, 14],\n",
       " ['0, 3, 5, 2, 1, 4, 6', 18, 14],\n",
       " ['0, 3, 5, 2, 1, 6, 4', 18, 11],\n",
       " ['0, 3, 5, 2, 4, 1, 6', 20, 15],\n",
       " ['0, 3, 5, 2, 4, 6, 1', 21, 13],\n",
       " ['0, 3, 5, 2, 6, 1, 4', 20, 10],\n",
       " ['0, 3, 5, 2, 6, 4, 1', 21, 12],\n",
       " ['0, 3, 5, 4, 1, 2, 6', 18, 15],\n",
       " ['0, 3, 5, 4, 1, 6, 2', 20, 13],\n",
       " ['0, 3, 5, 4, 2, 1, 6', 20, 13],\n",
       " ['0, 3, 5, 4, 2, 6, 1', 21, 11],\n",
       " ['0, 3, 5, 4, 6, 1, 2', 20, 12],\n",
       " ['0, 3, 5, 4, 6, 2, 1', 21, 13],\n",
       " ['0, 3, 5, 6, 1, 2, 4', 18, 10],\n",
       " ['0, 3, 5, 6, 1, 4, 2', 20, 12],\n",
       " ['0, 3, 5, 6, 2, 1, 4', 20, 8],\n",
       " ['0, 3, 5, 6, 2, 4, 1', 21, 10],\n",
       " ['0, 3, 5, 6, 4, 1, 2', 20, 13],\n",
       " ['0, 3, 5, 6, 4, 2, 1', 21, 14],\n",
       " ['0, 3, 6, 1, 2, 4, 5', 15, 12],\n",
       " ['0, 3, 6, 1, 2, 5, 4', 15, 9],\n",
       " ['0, 3, 6, 1, 4, 2, 5', 18, 16],\n",
       " ['0, 3, 6, 1, 4, 5, 2', 20, 14],\n",
       " ['0, 3, 6, 1, 5, 2, 4', 18, 15],\n",
       " ['0, 3, 6, 1, 5, 4, 2', 20, 11],\n",
       " ['0, 3, 6, 2, 1, 4, 5', 18, 13],\n",
       " ['0, 3, 6, 2, 1, 5, 4', 18, 10],\n",
       " ['0, 3, 6, 2, 4, 1, 5', 20, 14],\n",
       " ['0, 3, 6, 2, 4, 5, 1', 21, 12],\n",
       " ['0, 3, 6, 2, 5, 1, 4', 20, 13],\n",
       " ['0, 3, 6, 2, 5, 4, 1', 21, 13],\n",
       " ['0, 3, 6, 4, 1, 2, 5', 18, 14],\n",
       " ['0, 3, 6, 4, 1, 5, 2', 20, 12],\n",
       " ['0, 3, 6, 4, 2, 1, 5', 20, 12],\n",
       " ['0, 3, 6, 4, 2, 5, 1', 21, 10],\n",
       " ['0, 3, 6, 4, 5, 1, 2', 20, 14],\n",
       " ['0, 3, 6, 4, 5, 2, 1', 21, 15],\n",
       " ['0, 3, 6, 5, 1, 2, 4', 18, 13],\n",
       " ['0, 3, 6, 5, 1, 4, 2', 20, 12],\n",
       " ['0, 3, 6, 5, 2, 1, 4', 20, 11],\n",
       " ['0, 3, 6, 5, 2, 4, 1', 21, 11],\n",
       " ['0, 3, 6, 5, 4, 1, 2', 20, 15],\n",
       " ['0, 3, 6, 5, 4, 2, 1', 21, 13],\n",
       " ['0, 4, 1, 2, 3, 5, 6', 11, 13],\n",
       " ['0, 4, 1, 2, 3, 6, 5', 11, 14],\n",
       " ['0, 4, 1, 2, 5, 3, 6', 15, 14],\n",
       " ['0, 4, 1, 2, 5, 6, 3', 18, 15],\n",
       " ['0, 4, 1, 2, 6, 3, 5', 15, 15],\n",
       " ['0, 4, 1, 2, 6, 5, 3', 18, 13],\n",
       " ['0, 4, 1, 3, 2, 5, 6', 15, 11],\n",
       " ['0, 4, 1, 3, 2, 6, 5', 15, 12],\n",
       " ['0, 4, 1, 3, 5, 2, 6', 18, 15],\n",
       " ['0, 4, 1, 3, 5, 6, 2', 20, 16],\n",
       " ['0, 4, 1, 3, 6, 2, 5', 18, 16],\n",
       " ['0, 4, 1, 3, 6, 5, 2', 20, 14],\n",
       " ['0, 4, 1, 5, 2, 3, 6', 15, 15],\n",
       " ['0, 4, 1, 5, 2, 6, 3', 18, 13],\n",
       " ['0, 4, 1, 5, 3, 2, 6', 18, 16],\n",
       " ['0, 4, 1, 5, 3, 6, 2', 20, 14],\n",
       " ['0, 4, 1, 5, 6, 2, 3', 18, 12],\n",
       " ['0, 4, 1, 5, 6, 3, 2', 20, 12],\n",
       " ['0, 4, 1, 6, 2, 3, 5', 15, 13],\n",
       " ['0, 4, 1, 6, 2, 5, 3', 18, 11],\n",
       " ['0, 4, 1, 6, 3, 2, 5', 18, 14],\n",
       " ['0, 4, 1, 6, 3, 5, 2', 20, 12],\n",
       " ['0, 4, 1, 6, 5, 2, 3', 18, 13],\n",
       " ['0, 4, 1, 6, 5, 3, 2', 20, 13],\n",
       " ['0, 4, 2, 1, 3, 5, 6', 15, 15],\n",
       " ['0, 4, 2, 1, 3, 6, 5', 15, 16],\n",
       " ['0, 4, 2, 1, 5, 3, 6', 15, 15],\n",
       " ['0, 4, 2, 1, 5, 6, 3', 18, 14],\n",
       " ['0, 4, 2, 1, 6, 3, 5', 15, 14],\n",
       " ['0, 4, 2, 1, 6, 5, 3', 18, 12],\n",
       " ['0, 4, 2, 3, 1, 5, 6', 18, 13],\n",
       " ['0, 4, 2, 3, 1, 6, 5', 18, 14],\n",
       " ['0, 4, 2, 3, 5, 1, 6', 20, 16],\n",
       " ['0, 4, 2, 3, 5, 6, 1', 21, 14],\n",
       " ['0, 4, 2, 3, 6, 1, 5', 20, 14],\n",
       " ['0, 4, 2, 3, 6, 5, 1', 21, 15],\n",
       " ['0, 4, 2, 5, 1, 3, 6', 18, 13],\n",
       " ['0, 4, 2, 5, 1, 6, 3', 18, 12],\n",
       " ['0, 4, 2, 5, 3, 1, 6', 20, 14],\n",
       " ['0, 4, 2, 5, 3, 6, 1', 21, 15],\n",
       " ['0, 4, 2, 5, 6, 1, 3', 20, 12],\n",
       " ['0, 4, 2, 5, 6, 3, 1', 21, 11],\n",
       " ['0, 4, 2, 6, 1, 3, 5', 18, 12],\n",
       " ['0, 4, 2, 6, 1, 5, 3', 18, 10],\n",
       " ['0, 4, 2, 6, 3, 1, 5', 20, 12],\n",
       " ['0, 4, 2, 6, 3, 5, 1', 21, 13],\n",
       " ['0, 4, 2, 6, 5, 1, 3', 20, 13],\n",
       " ['0, 4, 2, 6, 5, 3, 1', 21, 12],\n",
       " ['0, 4, 3, 1, 2, 5, 6', 15, 14],\n",
       " ['0, 4, 3, 1, 2, 6, 5', 15, 15],\n",
       " ['0, 4, 3, 1, 5, 2, 6', 18, 14],\n",
       " ['0, 4, 3, 1, 5, 6, 2', 20, 14],\n",
       " ['0, 4, 3, 1, 6, 2, 5', 18, 12],\n",
       " ['0, 4, 3, 1, 6, 5, 2', 20, 13],\n",
       " ['0, 4, 3, 2, 1, 5, 6', 18, 12],\n",
       " ['0, 4, 3, 2, 1, 6, 5', 18, 13],\n",
       " ['0, 4, 3, 2, 5, 1, 6', 20, 15],\n",
       " ['0, 4, 3, 2, 5, 6, 1', 21, 13],\n",
       " ['0, 4, 3, 2, 6, 1, 5', 20, 13],\n",
       " ['0, 4, 3, 2, 6, 5, 1', 21, 14],\n",
       " ['0, 4, 3, 5, 1, 2, 6', 18, 12],\n",
       " ['0, 4, 3, 5, 1, 6, 2', 20, 12],\n",
       " ['0, 4, 3, 5, 2, 1, 6', 20, 13],\n",
       " ['0, 4, 3, 5, 2, 6, 1', 21, 14],\n",
       " ['0, 4, 3, 5, 6, 1, 2', 20, 11],\n",
       " ['0, 4, 3, 5, 6, 2, 1', 21, 10],\n",
       " ['0, 4, 3, 6, 1, 2, 5', 18, 10],\n",
       " ['0, 4, 3, 6, 1, 5, 2', 20, 11],\n",
       " ['0, 4, 3, 6, 2, 1, 5', 20, 11],\n",
       " ['0, 4, 3, 6, 2, 5, 1', 21, 12],\n",
       " ['0, 4, 3, 6, 5, 1, 2', 20, 12],\n",
       " ['0, 4, 3, 6, 5, 2, 1', 21, 11],\n",
       " ['0, 4, 5, 1, 2, 3, 6', 15, 15],\n",
       " ['0, 4, 5, 1, 2, 6, 3', 18, 13],\n",
       " ['0, 4, 5, 1, 3, 2, 6', 18, 16],\n",
       " ['0, 4, 5, 1, 3, 6, 2', 20, 14],\n",
       " ['0, 4, 5, 1, 6, 2, 3', 18, 11],\n",
       " ['0, 4, 5, 1, 6, 3, 2', 20, 12],\n",
       " ['0, 4, 5, 2, 1, 3, 6', 18, 13],\n",
       " ['0, 4, 5, 2, 1, 6, 3', 18, 11],\n",
       " ['0, 4, 5, 2, 3, 1, 6', 20, 14],\n",
       " ['0, 4, 5, 2, 3, 6, 1', 21, 12],\n",
       " ['0, 4, 5, 2, 6, 1, 3', 20, 12],\n",
       " ['0, 4, 5, 2, 6, 3, 1', 21, 13],\n",
       " ['0, 4, 5, 3, 1, 2, 6', 18, 14],\n",
       " ['0, 4, 5, 3, 1, 6, 2', 20, 12],\n",
       " ['0, 4, 5, 3, 2, 1, 6', 20, 12],\n",
       " ['0, 4, 5, 3, 2, 6, 1', 21, 10],\n",
       " ['0, 4, 5, 3, 6, 1, 2', 20, 13],\n",
       " ['0, 4, 5, 3, 6, 2, 1', 21, 14],\n",
       " ['0, 4, 5, 6, 1, 2, 3', 18, 9],\n",
       " ['0, 4, 5, 6, 1, 3, 2', 20, 10],\n",
       " ['0, 4, 5, 6, 2, 1, 3', 20, 10],\n",
       " ['0, 4, 5, 6, 2, 3, 1', 21, 11],\n",
       " ['0, 4, 5, 6, 3, 1, 2', 20, 11],\n",
       " ['0, 4, 5, 6, 3, 2, 1', 21, 12],\n",
       " ['0, 4, 6, 1, 2, 3, 5', 15, 14],\n",
       " ['0, 4, 6, 1, 2, 5, 3', 18, 12],\n",
       " ['0, 4, 6, 1, 3, 2, 5', 18, 15],\n",
       " ['0, 4, 6, 1, 3, 5, 2', 20, 13],\n",
       " ['0, 4, 6, 1, 5, 2, 3', 18, 13],\n",
       " ['0, 4, 6, 1, 5, 3, 2', 20, 13],\n",
       " ['0, 4, 6, 2, 1, 3, 5', 18, 12],\n",
       " ['0, 4, 6, 2, 1, 5, 3', 18, 10],\n",
       " ['0, 4, 6, 2, 3, 1, 5', 20, 13],\n",
       " ['0, 4, 6, 2, 3, 5, 1', 21, 11],\n",
       " ['0, 4, 6, 2, 5, 1, 3', 20, 14],\n",
       " ['0, 4, 6, 2, 5, 3, 1', 21, 12],\n",
       " ['0, 4, 6, 3, 1, 2, 5', 18, 13],\n",
       " ['0, 4, 6, 3, 1, 5, 2', 20, 11],\n",
       " ['0, 4, 6, 3, 2, 1, 5', 20, 11],\n",
       " ['0, 4, 6, 3, 2, 5, 1', 21, 9],\n",
       " ['0, 4, 6, 3, 5, 1, 2', 20, 15],\n",
       " ['0, 4, 6, 3, 5, 2, 1', 21, 13],\n",
       " ['0, 4, 6, 5, 1, 2, 3', 18, 11],\n",
       " ['0, 4, 6, 5, 1, 3, 2', 20, 11],\n",
       " ['0, 4, 6, 5, 2, 1, 3', 20, 12],\n",
       " ['0, 4, 6, 5, 2, 3, 1', 21, 13],\n",
       " ['0, 4, 6, 5, 3, 1, 2', 20, 13],\n",
       " ['0, 4, 6, 5, 3, 2, 1', 21, 14],\n",
       " ['0, 5, 1, 2, 3, 4, 6', 11, 14],\n",
       " ['0, 5, 1, 2, 3, 6, 4', 15, 13],\n",
       " ['0, 5, 1, 2, 4, 3, 6', 15, 13],\n",
       " ['0, 5, 1, 2, 4, 6, 3', 18, 14],\n",
       " ['0, 5, 1, 2, 6, 3, 4', 15, 13],\n",
       " ['0, 5, 1, 2, 6, 4, 3', 18, 11],\n",
       " ['0, 5, 1, 3, 2, 4, 6', 15, 12],\n",
       " ['0, 5, 1, 3, 2, 6, 4', 15, 11],\n",
       " ['0, 5, 1, 3, 4, 2, 6', 18, 14],\n",
       " ['0, 5, 1, 3, 4, 6, 2', 20, 15],\n",
       " ['0, 5, 1, 3, 6, 2, 4', 18, 15],\n",
       " ['0, 5, 1, 3, 6, 4, 2', 20, 12],\n",
       " ['0, 5, 1, 4, 2, 3, 6', 15, 14],\n",
       " ['0, 5, 1, 4, 2, 6, 3', 18, 12],\n",
       " ['0, 5, 1, 4, 3, 2, 6', 18, 15],\n",
       " ['0, 5, 1, 4, 3, 6, 2', 20, 13],\n",
       " ['0, 5, 1, 4, 6, 2, 3', 18, 13],\n",
       " ['0, 5, 1, 4, 6, 3, 2', 20, 13],\n",
       " ['0, 5, 1, 6, 2, 3, 4', 15, 11],\n",
       " ['0, 5, 1, 6, 2, 4, 3', 18, 9],\n",
       " ['0, 5, 1, 6, 3, 2, 4', 18, 13],\n",
       " ['0, 5, 1, 6, 3, 4, 2', 20, 10],\n",
       " ['0, 5, 1, 6, 4, 2, 3', 18, 11],\n",
       " ['0, 5, 1, 6, 4, 3, 2', 20, 11],\n",
       " ['0, 5, 2, 1, 3, 4, 6', 15, 12],\n",
       " ['0, 5, 2, 1, 3, 6, 4', 15, 15],\n",
       " ['0, 5, 2, 1, 4, 3, 6', 15, 14],\n",
       " ['0, 5, 2, 1, 4, 6, 3', 18, 13],\n",
       " ['0, 5, 2, 1, 6, 3, 4', 15, 12],\n",
       " ['0, 5, 2, 1, 6, 4, 3', 18, 13],\n",
       " ['0, 5, 2, 3, 1, 4, 6', 18, 13],\n",
       " ['0, 5, 2, 3, 1, 6, 4', 18, 13],\n",
       " ['0, 5, 2, 3, 4, 1, 6', 20, 15],\n",
       " ['0, 5, 2, 3, 4, 6, 1', 21, 13],\n",
       " ['0, 5, 2, 3, 6, 1, 4', 20, 12],\n",
       " ['0, 5, 2, 3, 6, 4, 1', 21, 14],\n",
       " ['0, 5, 2, 4, 1, 3, 6', 18, 12],\n",
       " ['0, 5, 2, 4, 1, 6, 3', 18, 11],\n",
       " ['0, 5, 2, 4, 3, 1, 6', 20, 13],\n",
       " ['0, 5, 2, 4, 3, 6, 1', 21, 14],\n",
       " ['0, 5, 2, 4, 6, 1, 3', 20, 13],\n",
       " ['0, 5, 2, 4, 6, 3, 1', 21, 12],\n",
       " ['0, 5, 2, 6, 1, 3, 4', 18, 10],\n",
       " ['0, 5, 2, 6, 1, 4, 3', 18, 11],\n",
       " ['0, 5, 2, 6, 3, 1, 4', 20, 10],\n",
       " ['0, 5, 2, 6, 3, 4, 1', 21, 12],\n",
       " ['0, 5, 2, 6, 4, 1, 3', 20, 11],\n",
       " ['0, 5, 2, 6, 4, 3, 1', 21, 10],\n",
       " ['0, 5, 3, 1, 2, 4, 6', 15, 11],\n",
       " ['0, 5, 3, 1, 2, 6, 4', 15, 13],\n",
       " ['0, 5, 3, 1, 4, 2, 6', 18, 13],\n",
       " ['0, 5, 3, 1, 4, 6, 2', 20, 13],\n",
       " ['0, 5, 3, 1, 6, 2, 4', 18, 13],\n",
       " ['0, 5, 3, 1, 6, 4, 2', 20, 11],\n",
       " ['0, 5, 3, 2, 1, 4, 6', 18, 12],\n",
       " ['0, 5, 3, 2, 1, 6, 4', 18, 11],\n",
       " ['0, 5, 3, 2, 4, 1, 6', 20, 14],\n",
       " ['0, 5, 3, 2, 4, 6, 1', 21, 12],\n",
       " ['0, 5, 3, 2, 6, 1, 4', 20, 11],\n",
       " ['0, 5, 3, 2, 6, 4, 1', 21, 12],\n",
       " ['0, 5, 3, 4, 1, 2, 6', 18, 11],\n",
       " ['0, 5, 3, 4, 1, 6, 2', 20, 11],\n",
       " ['0, 5, 3, 4, 2, 1, 6', 20, 12],\n",
       " ['0, 5, 3, 4, 2, 6, 1', 21, 13],\n",
       " ['0, 5, 3, 4, 6, 1, 2', 20, 12],\n",
       " ['0, 5, 3, 4, 6, 2, 1', 21, 11],\n",
       " ['0, 5, 3, 6, 1, 2, 4', 18, 11],\n",
       " ['0, 5, 3, 6, 1, 4, 2', 20, 9],\n",
       " ['0, 5, 3, 6, 2, 1, 4', 20, 9],\n",
       " ['0, 5, 3, 6, 2, 4, 1', 21, 10],\n",
       " ['0, 5, 3, 6, 4, 1, 2', 20, 10],\n",
       " ['0, 5, 3, 6, 4, 2, 1', 21, 9],\n",
       " ['0, 5, 4, 1, 2, 3, 6', 15, 13],\n",
       " ['0, 5, 4, 1, 2, 6, 3', 18, 10],\n",
       " ['0, 5, 4, 1, 3, 2, 6', 18, 15],\n",
       " ['0, 5, 4, 1, 3, 6, 2', 20, 11],\n",
       " ['0, 5, 4, 1, 6, 2, 3', 18, 12],\n",
       " ['0, 5, 4, 1, 6, 3, 2', 20, 10],\n",
       " ['0, 5, 4, 2, 1, 3, 6', 18, 11],\n",
       " ['0, 5, 4, 2, 1, 6, 3', 18, 11],\n",
       " ['0, 5, 4, 2, 3, 1, 6', 20, 13],\n",
       " ['0, 5, 4, 2, 3, 6, 1', 21, 13],\n",
       " ['0, 5, 4, 2, 6, 1, 3', 20, 10],\n",
       " ['0, 5, 4, 2, 6, 3, 1', 21, 11],\n",
       " ['0, 5, 4, 3, 1, 2, 6', 18, 13],\n",
       " ['0, 5, 4, 3, 1, 6, 2', 20, 12],\n",
       " ['0, 5, 4, 3, 2, 1, 6', 20, 11],\n",
       " ['0, 5, 4, 3, 2, 6, 1', 21, 11],\n",
       " ['0, 5, 4, 3, 6, 1, 2', 20, 11],\n",
       " ['0, 5, 4, 3, 6, 2, 1', 21, 13],\n",
       " ['0, 5, 4, 6, 1, 2, 3', 18, 10],\n",
       " ['0, 5, 4, 6, 1, 3, 2', 20, 8],\n",
       " ['0, 5, 4, 6, 2, 1, 3', 20, 8],\n",
       " ['0, 5, 4, 6, 2, 3, 1', 21, 9],\n",
       " ['0, 5, 4, 6, 3, 1, 2', 20, 9],\n",
       " ['0, 5, 4, 6, 3, 2, 1', 21, 11],\n",
       " ['0, 5, 6, 1, 2, 3, 4', 15, 12],\n",
       " ['0, 5, 6, 1, 2, 4, 3', 18, 9],\n",
       " ['0, 5, 6, 1, 3, 2, 4', 18, 14],\n",
       " ['0, 5, 6, 1, 3, 4, 2', 20, 10],\n",
       " ['0, 5, 6, 1, 4, 2, 3', 18, 12],\n",
       " ['0, 5, 6, 1, 4, 3, 2', 20, 12],\n",
       " ['0, 5, 6, 2, 1, 3, 4', 18, 10],\n",
       " ['0, 5, 6, 2, 1, 4, 3', 18, 10],\n",
       " ['0, 5, 6, 2, 3, 1, 4', 20, 12],\n",
       " ['0, 5, 6, 2, 3, 4, 1', 21, 12],\n",
       " ['0, 5, 6, 2, 4, 1, 3', 20, 13],\n",
       " ['0, 5, 6, 2, 4, 3, 1', 21, 11],\n",
       " ['0, 5, 6, 3, 1, 2, 4', 18, 12],\n",
       " ['0, 5, 6, 3, 1, 4, 2', 20, 11],\n",
       " ['0, 5, 6, 3, 2, 1, 4', 20, 10],\n",
       " ['0, 5, 6, 3, 2, 4, 1', 21, 10],\n",
       " ['0, 5, 6, 3, 4, 1, 2', 20, 14],\n",
       " ['0, 5, 6, 3, 4, 2, 1', 21, 12],\n",
       " ['0, 5, 6, 4, 1, 2, 3', 18, 10],\n",
       " ['0, 5, 6, 4, 1, 3, 2', 20, 10],\n",
       " ['0, 5, 6, 4, 2, 1, 3', 20, 11],\n",
       " ['0, 5, 6, 4, 2, 3, 1', 21, 12],\n",
       " ['0, 5, 6, 4, 3, 1, 2', 20, 12],\n",
       " ['0, 5, 6, 4, 3, 2, 1', 21, 13],\n",
       " ['0, 6, 1, 2, 3, 4, 5', 11, 13],\n",
       " ['0, 6, 1, 2, 3, 5, 4', 15, 10],\n",
       " ['0, 6, 1, 2, 4, 3, 5', 15, 14],\n",
       " ['0, 6, 1, 2, 4, 5, 3', 18, 12],\n",
       " ['0, 6, 1, 2, 5, 3, 4', 15, 12],\n",
       " ['0, 6, 1, 2, 5, 4, 3', 18, 10],\n",
       " ['0, 6, 1, 3, 2, 4, 5', 15, 11],\n",
       " ['0, 6, 1, 3, 2, 5, 4', 15, 8],\n",
       " ['0, 6, 1, 3, 4, 2, 5', 18, 15],\n",
       " ['0, 6, 1, 3, 4, 5, 2', 20, 13],\n",
       " ['0, 6, 1, 3, 5, 2, 4', 18, 14],\n",
       " ['0, 6, 1, 3, 5, 4, 2', 20, 11],\n",
       " ['0, 6, 1, 4, 2, 3, 5', 15, 12],\n",
       " ['0, 6, 1, 4, 2, 5, 3', 18, 10],\n",
       " ['0, 6, 1, 4, 3, 2, 5', 18, 13],\n",
       " ['0, 6, 1, 4, 3, 5, 2', 20, 11],\n",
       " ['0, 6, 1, 4, 5, 2, 3', 18, 12],\n",
       " ['0, 6, 1, 4, 5, 3, 2', 20, 12],\n",
       " ['0, 6, 1, 5, 2, 3, 4', 15, 10],\n",
       " ['0, 6, 1, 5, 2, 4, 3', 18, 8],\n",
       " ['0, 6, 1, 5, 3, 2, 4', 18, 12],\n",
       " ['0, 6, 1, 5, 3, 4, 2', 20, 9],\n",
       " ['0, 6, 1, 5, 4, 2, 3', 18, 10],\n",
       " ['0, 6, 1, 5, 4, 3, 2', 20, 10],\n",
       " ['0, 6, 2, 1, 3, 4, 5', 15, 15],\n",
       " ['0, 6, 2, 1, 3, 5, 4', 15, 12],\n",
       " ['0, 6, 2, 1, 4, 3, 5', 15, 13],\n",
       " ['0, 6, 2, 1, 4, 5, 3', 18, 11],\n",
       " ['0, 6, 2, 1, 5, 3, 4', 15, 11],\n",
       " ['0, 6, 2, 1, 5, 4, 3', 18, 12],\n",
       " ['0, 6, 2, 3, 1, 4, 5', 18, 13],\n",
       " ['0, 6, 2, 3, 1, 5, 4', 18, 10],\n",
       " ['0, 6, 2, 3, 4, 1, 5', 20, 13],\n",
       " ['0, 6, 2, 3, 4, 5, 1', 21, 14],\n",
       " ['0, 6, 2, 3, 5, 1, 4', 20, 11],\n",
       " ['0, 6, 2, 3, 5, 4, 1', 21, 13],\n",
       " ['0, 6, 2, 4, 1, 3, 5', 18, 11],\n",
       " ['0, 6, 2, 4, 1, 5, 3', 18, 9],\n",
       " ['0, 6, 2, 4, 3, 1, 5', 20, 11],\n",
       " ['0, 6, 2, 4, 3, 5, 1', 21, 12],\n",
       " ['0, 6, 2, 4, 5, 1, 3', 20, 12],\n",
       " ['0, 6, 2, 4, 5, 3, 1', 21, 11],\n",
       " ['0, 6, 2, 5, 1, 3, 4', 18, 9],\n",
       " ['0, 6, 2, 5, 1, 4, 3', 18, 10],\n",
       " ['0, 6, 2, 5, 3, 1, 4', 20, 9],\n",
       " ['0, 6, 2, 5, 3, 4, 1', 21, 11],\n",
       " ['0, 6, 2, 5, 4, 1, 3', 20, 10],\n",
       " ['0, 6, 2, 5, 4, 3, 1', 21, 9],\n",
       " ['0, 6, 3, 1, 2, 4, 5', 15, 12],\n",
       " ['0, 6, 3, 1, 2, 5, 4', 15, 10],\n",
       " ['0, 6, 3, 1, 4, 2, 5', 18, 11],\n",
       " ['0, 6, 3, 1, 4, 5, 2', 20, 12],\n",
       " ['0, 6, 3, 1, 5, 2, 4', 18, 12],\n",
       " ['0, 6, 3, 1, 5, 4, 2', 20, 10],\n",
       " ['0, 6, 3, 2, 1, 4, 5', 18, 10],\n",
       " ['0, 6, 3, 2, 1, 5, 4', 18, 8],\n",
       " ['0, 6, 3, 2, 4, 1, 5', 20, 12],\n",
       " ['0, 6, 3, 2, 4, 5, 1', 21, 13],\n",
       " ['0, 6, 3, 2, 5, 1, 4', 20, 10],\n",
       " ['0, 6, 3, 2, 5, 4, 1', 21, 11],\n",
       " ['0, 6, 3, 4, 1, 2, 5', 18, 9],\n",
       " ['0, 6, 3, 4, 1, 5, 2', 20, 10],\n",
       " ['0, 6, 3, 4, 2, 1, 5', 20, 10],\n",
       " ['0, 6, 3, 4, 2, 5, 1', 21, 11],\n",
       " ['0, 6, 3, 4, 5, 1, 2', 20, 11],\n",
       " ['0, 6, 3, 4, 5, 2, 1', 21, 10],\n",
       " ['0, 6, 3, 5, 1, 2, 4', 18, 10],\n",
       " ['0, 6, 3, 5, 1, 4, 2', 20, 8],\n",
       " ['0, 6, 3, 5, 2, 1, 4', 20, 8],\n",
       " ['0, 6, 3, 5, 2, 4, 1', 21, 9],\n",
       " ['0, 6, 3, 5, 4, 1, 2', 20, 9],\n",
       " ['0, 6, 3, 5, 4, 2, 1', 21, 8],\n",
       " ['0, 6, 4, 1, 2, 3, 5', 15, 10],\n",
       " ['0, 6, 4, 1, 2, 5, 3', 18, 11],\n",
       " ['0, 6, 4, 1, 3, 2, 5', 18, 12],\n",
       " ['0, 6, 4, 1, 3, 5, 2', 20, 14],\n",
       " ['0, 6, 4, 1, 5, 2, 3', 18, 11],\n",
       " ['0, 6, 4, 1, 5, 3, 2', 20, 9],\n",
       " ['0, 6, 4, 2, 1, 3, 5', 18, 8],\n",
       " ['0, 6, 4, 2, 1, 5, 3', 18, 9],\n",
       " ['0, 6, 4, 2, 3, 1, 5', 20, 10],\n",
       " ['0, 6, 4, 2, 3, 5, 1', 21, 12],\n",
       " ['0, 6, 4, 2, 5, 1, 3', 20, 9],\n",
       " ['0, 6, 4, 2, 5, 3, 1', 21, 10],\n",
       " ['0, 6, 4, 3, 1, 2, 5', 18, 10],\n",
       " ['0, 6, 4, 3, 1, 5, 2', 20, 12],\n",
       " ['0, 6, 4, 3, 2, 1, 5', 20, 8],\n",
       " ['0, 6, 4, 3, 2, 5, 1', 21, 10],\n",
       " ['0, 6, 4, 3, 5, 1, 2', 20, 10],\n",
       " ['0, 6, 4, 3, 5, 2, 1', 21, 12],\n",
       " ['0, 6, 4, 5, 1, 2, 3', 18, 9],\n",
       " ['0, 6, 4, 5, 1, 3, 2', 20, 7],\n",
       " ['0, 6, 4, 5, 2, 1, 3', 20, 7],\n",
       " ['0, 6, 4, 5, 2, 3, 1', 21, 8],\n",
       " ['0, 6, 4, 5, 3, 1, 2', 20, 8],\n",
       " ['0, 6, 4, 5, 3, 2, 1', 21, 10],\n",
       " ['0, 6, 5, 1, 2, 3, 4', 15, 9],\n",
       " ['0, 6, 5, 1, 2, 4, 3', 18, 10],\n",
       " ['0, 6, 5, 1, 3, 2, 4', 18, 11],\n",
       " ['0, 6, 5, 1, 3, 4, 2', 20, 13],\n",
       " ['0, 6, 5, 1, 4, 2, 3', 18, 10],\n",
       " ['0, 6, 5, 1, 4, 3, 2', 20, 11],\n",
       " ['0, 6, 5, 2, 1, 3, 4', 18, 7],\n",
       " ['0, 6, 5, 2, 1, 4, 3', 18, 8],\n",
       " ['0, 6, 5, 2, 3, 1, 4', 20, 9],\n",
       " ['0, 6, 5, 2, 3, 4, 1', 21, 11],\n",
       " ['0, 6, 5, 2, 4, 1, 3', 20, 11],\n",
       " ['0, 6, 5, 2, 4, 3, 1', 21, 12],\n",
       " ['0, 6, 5, 3, 1, 2, 4', 18, 9],\n",
       " ['0, 6, 5, 3, 1, 4, 2', 20, 11],\n",
       " ['0, 6, 5, 3, 2, 1, 4', 20, 7],\n",
       " ['0, 6, 5, 3, 2, 4, 1', 21, 9],\n",
       " ['0, 6, 5, 3, 4, 1, 2', 20, 12],\n",
       " ['0, 6, 5, 3, 4, 2, 1', 21, 13],\n",
       " ['0, 6, 5, 4, 1, 2, 3', 18, 8],\n",
       " ['0, 6, 5, 4, 1, 3, 2', 20, 9],\n",
       " ['0, 6, 5, 4, 2, 1, 3', 20, 9],\n",
       " ['0, 6, 5, 4, 2, 3, 1', 21, 10],\n",
       " ['0, 6, 5, 4, 3, 1, 2', 20, 10],\n",
       " ['0, 6, 5, 4, 3, 2, 1', 21, 11],\n",
       " ['1, 0, 2, 3, 4, 5, 6', 11, 16],\n",
       " ['1, 0, 2, 3, 4, 6, 5', 11, 17],\n",
       " ['1, 0, 2, 3, 5, 4, 6', 11, 14],\n",
       " ['1, 0, 2, 3, 5, 6, 4', 15, 16],\n",
       " ['1, 0, 2, 3, 6, 4, 5', 11, 16],\n",
       " ['1, 0, 2, 3, 6, 5, 4', 15, 13],\n",
       " ['1, 0, 2, 4, 3, 5, 6', 11, 14],\n",
       " ['1, 0, 2, 4, 3, 6, 5', 11, 15],\n",
       " ['1, 0, 2, 4, 5, 3, 6', 15, 15],\n",
       " ['1, 0, 2, 4, 5, 6, 3', 18, 14],\n",
       " ['1, 0, 2, 4, 6, 3, 5', 15, 14],\n",
       " ['1, 0, 2, 4, 6, 5, 3', 18, 12],\n",
       " ['1, 0, 2, 5, 3, 4, 6', 11, 12],\n",
       " ['1, 0, 2, 5, 3, 6, 4', 15, 14],\n",
       " ['1, 0, 2, 5, 4, 3, 6', 15, 13],\n",
       " ['1, 0, 2, 5, 4, 6, 3', 18, 12],\n",
       " ['1, 0, 2, 5, 6, 3, 4', 15, 12],\n",
       " ['1, 0, 2, 5, 6, 4, 3', 18, 13],\n",
       " ['1, 0, 2, 6, 3, 4, 5', 11, 14],\n",
       " ['1, 0, 2, 6, 3, 5, 4', 15, 11],\n",
       " ['1, 0, 2, 6, 4, 3, 5', 15, 12],\n",
       " ['1, 0, 2, 6, 4, 5, 3', 18, 10],\n",
       " ['1, 0, 2, 6, 5, 3, 4', 15, 10],\n",
       " ['1, 0, 2, 6, 5, 4, 3', 18, 11],\n",
       " ['1, 0, 3, 2, 4, 5, 6', 11, 15],\n",
       " ['1, 0, 3, 2, 4, 6, 5', 11, 16],\n",
       " ['1, 0, 3, 2, 5, 4, 6', 11, 13],\n",
       " ['1, 0, 3, 2, 5, 6, 4', 15, 14],\n",
       " ['1, 0, 3, 2, 6, 4, 5', 11, 13],\n",
       " ['1, 0, 3, 2, 6, 5, 4', 15, 11],\n",
       " ['1, 0, 3, 4, 2, 5, 6', 15, 13],\n",
       " ['1, 0, 3, 4, 2, 6, 5', 15, 14],\n",
       " ['1, 0, 3, 4, 5, 2, 6', 18, 14],\n",
       " ['1, 0, 3, 4, 5, 6, 2', 20, 14],\n",
       " ['1, 0, 3, 4, 6, 2, 5', 18, 12],\n",
       " ['1, 0, 3, 4, 6, 5, 2', 20, 13],\n",
       " ['1, 0, 3, 5, 2, 4, 6', 15, 11],\n",
       " ['1, 0, 3, 5, 2, 6, 4', 15, 12],\n",
       " ['1, 0, 3, 5, 4, 2, 6', 18, 12],\n",
       " ['1, 0, 3, 5, 4, 6, 2', 20, 12],\n",
       " ['1, 0, 3, 5, 6, 2, 4', 18, 13],\n",
       " ['1, 0, 3, 5, 6, 4, 2', 20, 11],\n",
       " ['1, 0, 3, 6, 2, 4, 5', 15, 11],\n",
       " ['1, 0, 3, 6, 2, 5, 4', 15, 9],\n",
       " ['1, 0, 3, 6, 4, 2, 5', 18, 10],\n",
       " ['1, 0, 3, 6, 4, 5, 2', 20, 11],\n",
       " ['1, 0, 3, 6, 5, 2, 4', 18, 11],\n",
       " ['1, 0, 3, 6, 5, 4, 2', 20, 9],\n",
       " ['1, 0, 4, 2, 3, 5, 6', 11, 13],\n",
       " ['1, 0, 4, 2, 3, 6, 5', 11, 15],\n",
       " ['1, 0, 4, 2, 5, 3, 6', 15, 14],\n",
       " ['1, 0, 4, 2, 5, 6, 3', 18, 12],\n",
       " ['1, 0, 4, 2, 6, 3, 5', 15, 11],\n",
       " ['1, 0, 4, 2, 6, 5, 3', 18, 12],\n",
       " ['1, 0, 4, 3, 2, 5, 6', 15, 11],\n",
       " ['1, 0, 4, 3, 2, 6, 5', 15, 13],\n",
       " ['1, 0, 4, 3, 5, 2, 6', 18, 16],\n",
       " ['1, 0, 4, 3, 5, 6, 2', 20, 13],\n",
       " ['1, 0, 4, 3, 6, 2, 5', 18, 13],\n",
       " ['1, 0, 4, 3, 6, 5, 2', 20, 15],\n",
       " ['1, 0, 4, 5, 2, 3, 6', 15, 12],\n",
       " ['1, 0, 4, 5, 2, 6, 3', 18, 10],\n",
       " ['1, 0, 4, 5, 3, 2, 6', 18, 14],\n",
       " ['1, 0, 4, 5, 3, 6, 2', 20, 11],\n",
       " ['1, 0, 4, 5, 6, 2, 3', 18, 12],\n",
       " ['1, 0, 4, 5, 6, 3, 2', 20, 10],\n",
       " ['1, 0, 4, 6, 2, 3, 5', 15, 9],\n",
       " ['1, 0, 4, 6, 2, 5, 3', 18, 10],\n",
       " ['1, 0, 4, 6, 3, 2, 5', 18, 11],\n",
       " ['1, 0, 4, 6, 3, 5, 2', 20, 13],\n",
       " ['1, 0, 4, 6, 5, 2, 3', 18, 10],\n",
       " ['1, 0, 4, 6, 5, 3, 2', 20, 8],\n",
       " ['1, 0, 5, 2, 3, 4, 6', 11, 15],\n",
       " ['1, 0, 5, 2, 3, 6, 4', 15, 12],\n",
       " ['1, 0, 5, 2, 4, 3, 6', 15, 16],\n",
       " ['1, 0, 5, 2, 4, 6, 3', 18, 14],\n",
       " ['1, 0, 5, 2, 6, 3, 4', 15, 10],\n",
       " ['1, 0, 5, 2, 6, 4, 3', 18, 11],\n",
       " ['1, 0, 5, 3, 2, 4, 6', 15, 13],\n",
       " ['1, 0, 5, 3, 2, 6, 4', 15, 10],\n",
       " ['1, 0, 5, 3, 4, 2, 6', 18, 17],\n",
       " ['1, 0, 5, 3, 4, 6, 2', 20, 15],\n",
       " ['1, 0, 5, 3, 6, 2, 4', 18, 12],\n",
       " ['1, 0, 5, 3, 6, 4, 2', 20, 14],\n",
       " ['1, 0, 5, 4, 2, 3, 6', 15, 14],\n",
       " ['1, 0, 5, 4, 2, 6, 3', 18, 12],\n",
       " ['1, 0, 5, 4, 3, 2, 6', 18, 15],\n",
       " ['1, 0, 5, 4, 3, 6, 2', 20, 13],\n",
       " ['1, 0, 5, 4, 6, 2, 3', 18, 11],\n",
       " ['1, 0, 5, 4, 6, 3, 2', 20, 12],\n",
       " ['1, 0, 5, 6, 2, 3, 4', 15, 8],\n",
       " ['1, 0, 5, 6, 2, 4, 3', 18, 9],\n",
       " ['1, 0, 5, 6, 3, 2, 4', 18, 10],\n",
       " ['1, 0, 5, 6, 3, 4, 2', 20, 12],\n",
       " ['1, 0, 5, 6, 4, 2, 3', 18, 9],\n",
       " ['1, 0, 5, 6, 4, 3, 2', 20, 10],\n",
       " ['1, 0, 6, 2, 3, 4, 5', 11, 14],\n",
       " ['1, 0, 6, 2, 3, 5, 4', 15, 11],\n",
       " ['1, 0, 6, 2, 4, 3, 5', 15, 15],\n",
       " ['1, 0, 6, 2, 4, 5, 3', 18, 13],\n",
       " ['1, 0, 6, 2, 5, 3, 4', 15, 13],\n",
       " ['1, 0, 6, 2, 5, 4, 3', 18, 11],\n",
       " ['1, 0, 6, 3, 2, 4, 5', 15, 12],\n",
       " ['1, 0, 6, 3, 2, 5, 4', 15, 9],\n",
       " ['1, 0, 6, 3, 4, 2, 5', 18, 16],\n",
       " ['1, 0, 6, 3, 4, 5, 2', 20, 14],\n",
       " ['1, 0, 6, 3, 5, 2, 4', 18, 15],\n",
       " ['1, 0, 6, 3, 5, 4, 2', 20, 12],\n",
       " ['1, 0, 6, 4, 2, 3, 5', 15, 13],\n",
       " ['1, 0, 6, 4, 2, 5, 3', 18, 11],\n",
       " ['1, 0, 6, 4, 3, 2, 5', 18, 14],\n",
       " ['1, 0, 6, 4, 3, 5, 2', 20, 12],\n",
       " ['1, 0, 6, 4, 5, 2, 3', 18, 13],\n",
       " ['1, 0, 6, 4, 5, 3, 2', 20, 13],\n",
       " ['1, 0, 6, 5, 2, 3, 4', 15, 11],\n",
       " ['1, 0, 6, 5, 2, 4, 3', 18, 9],\n",
       " ['1, 0, 6, 5, 3, 2, 4', 18, 13],\n",
       " ['1, 0, 6, 5, 3, 4, 2', 20, 10],\n",
       " ['1, 0, 6, 5, 4, 2, 3', 18, 11],\n",
       " ['1, 0, 6, 5, 4, 3, 2', 20, 11],\n",
       " ['1, 2, 0, 3, 4, 5, 6', 15, 14],\n",
       " ['1, 2, 0, 3, 4, 6, 5', 15, 12],\n",
       " ['1, 2, 0, 3, 5, 4, 6', 15, 13],\n",
       " ['1, 2, 0, 3, 5, 6, 4', 15, 13],\n",
       " ['1, 2, 0, 3, 6, 4, 5', 15, 14],\n",
       " ['1, 2, 0, 3, 6, 5, 4', 15, 11],\n",
       " ['1, 2, 0, 4, 3, 5, 6', 15, 15],\n",
       " ['1, 2, 0, 4, 3, 6, 5', 15, 13],\n",
       " ['1, 2, 0, 4, 5, 3, 6', 15, 14],\n",
       " ['1, 2, 0, 4, 5, 6, 3', 18, 15],\n",
       " ['1, 2, 0, 4, 6, 3, 5', 15, 16],\n",
       " ['1, 2, 0, 4, 6, 5, 3', 18, 14],\n",
       " ['1, 2, 0, 5, 3, 4, 6', 15, 14],\n",
       " ['1, 2, 0, 5, 3, 6, 4', 15, 14],\n",
       " ['1, 2, 0, 5, 4, 3, 6', 15, 15],\n",
       " ['1, 2, 0, 5, 4, 6, 3', 18, 13],\n",
       " ['1, 2, 0, 5, 6, 3, 4', 15, 14],\n",
       " ['1, 2, 0, 5, 6, 4, 3', 18, 11],\n",
       " ['1, 2, 0, 6, 3, 4, 5', 15, 15],\n",
       " ['1, 2, 0, 6, 3, 5, 4', 15, 12],\n",
       " ['1, 2, 0, 6, 4, 3, 5', 15, 14],\n",
       " ['1, 2, 0, 6, 4, 5, 3', 18, 12],\n",
       " ['1, 2, 0, 6, 5, 3, 4', 15, 12],\n",
       " ['1, 2, 0, 6, 5, 4, 3', 18, 12],\n",
       " ['1, 2, 3, 0, 4, 5, 6', 18, 13],\n",
       " ['1, 2, 3, 0, 4, 6, 5', 18, 14],\n",
       " ['1, 2, 3, 0, 5, 4, 6', 18, 11],\n",
       " ['1, 2, 3, 0, 5, 6, 4', 18, 12],\n",
       " ['1, 2, 3, 0, 6, 4, 5', 18, 11],\n",
       " ['1, 2, 3, 0, 6, 5, 4', 18, 9],\n",
       " ['1, 2, 3, 4, 0, 5, 6', 20, 14],\n",
       " ['1, 2, 3, 4, 0, 6, 5', 20, 15],\n",
       " ['1, 2, 3, 4, 5, 0, 6', 21, 15],\n",
       " ['1, 2, 3, 4, 5, 6, 0', 21, 13],\n",
       " ['1, 2, 3, 4, 6, 0, 5', 21, 14],\n",
       " ['1, 2, 3, 4, 6, 5, 0', 21, 15],\n",
       " ['1, 2, 3, 5, 0, 4, 6', 20, 12],\n",
       " ['1, 2, 3, 5, 0, 6, 4', 20, 13],\n",
       " ['1, 2, 3, 5, 4, 0, 6', 21, 13],\n",
       " ['1, 2, 3, 5, 4, 6, 0', 21, 14],\n",
       " ['1, 2, 3, 5, 6, 0, 4', 21, 11],\n",
       " ['1, 2, 3, 5, 6, 4, 0', 21, 13],\n",
       " ['1, 2, 3, 6, 0, 4, 5', 20, 12],\n",
       " ['1, 2, 3, 6, 0, 5, 4', 20, 10],\n",
       " ['1, 2, 3, 6, 4, 0, 5', 21, 12],\n",
       " ['1, 2, 3, 6, 4, 5, 0', 21, 13],\n",
       " ['1, 2, 3, 6, 5, 0, 4', 21, 12],\n",
       " ['1, 2, 3, 6, 5, 4, 0', 21, 11],\n",
       " ['1, 2, 4, 0, 3, 5, 6', 18, 11],\n",
       " ['1, 2, 4, 0, 3, 6, 5', 18, 13],\n",
       " ['1, 2, 4, 0, 5, 3, 6', 18, 12],\n",
       " ['1, 2, 4, 0, 5, 6, 3', 18, 10],\n",
       " ['1, 2, 4, 0, 6, 3, 5', 18, 9],\n",
       " ['1, 2, 4, 0, 6, 5, 3', 18, 10],\n",
       " ['1, 2, 4, 3, 0, 5, 6', 20, 12],\n",
       " ['1, 2, 4, 3, 0, 6, 5', 20, 14],\n",
       " ['1, 2, 4, 3, 5, 0, 6', 21, 13],\n",
       " ['1, 2, 4, 3, 5, 6, 0', 21, 12],\n",
       " ['1, 2, 4, 3, 6, 0, 5', 21, 11],\n",
       " ['1, 2, 4, 3, 6, 5, 0', 21, 13],\n",
       " ['1, 2, 4, 5, 0, 3, 6', 20, 13],\n",
       " ['1, 2, 4, 5, 0, 6, 3', 20, 11],\n",
       " ['1, 2, 4, 5, 3, 0, 6', 21, 14],\n",
       " ['1, 2, 4, 5, 3, 6, 0', 21, 13],\n",
       " ['1, 2, 4, 5, 6, 0, 3', 21, 10],\n",
       " ['1, 2, 4, 5, 6, 3, 0', 21, 12],\n",
       " ['1, 2, 4, 6, 0, 3, 5', 20, 10],\n",
       " ['1, 2, 4, 6, 0, 5, 3', 20, 11],\n",
       " ['1, 2, 4, 6, 3, 0, 5', 21, 12],\n",
       " ['1, 2, 4, 6, 3, 5, 0', 21, 14],\n",
       " ['1, 2, 4, 6, 5, 0, 3', 21, 11],\n",
       " ['1, 2, 4, 6, 5, 3, 0', 21, 10],\n",
       " ['1, 2, 5, 0, 3, 4, 6', 18, 13],\n",
       " ['1, 2, 5, 0, 3, 6, 4', 18, 10],\n",
       " ['1, 2, 5, 0, 4, 3, 6', 18, 14],\n",
       " ['1, 2, 5, 0, 4, 6, 3', 18, 12],\n",
       " ['1, 2, 5, 0, 6, 3, 4', 18, 8],\n",
       " ['1, 2, 5, 0, 6, 4, 3', 18, 9],\n",
       " ['1, 2, 5, 3, 0, 4, 6', 20, 14],\n",
       " ['1, 2, 5, 3, 0, 6, 4', 20, 11],\n",
       " ['1, 2, 5, 3, 4, 0, 6', 21, 12],\n",
       " ['1, 2, 5, 3, 4, 6, 0', 21, 13],\n",
       " ['1, 2, 5, 3, 6, 0, 4', 21, 10],\n",
       " ['1, 2, 5, 3, 6, 4, 0', 21, 12],\n",
       " ['1, 2, 5, 4, 0, 3, 6', 20, 15],\n",
       " ['1, 2, 5, 4, 0, 6, 3', 20, 13],\n",
       " ['1, 2, 5, 4, 3, 0, 6', 21, 13],\n",
       " ['1, 2, 5, 4, 3, 6, 0', 21, 14],\n",
       " ['1, 2, 5, 4, 6, 0, 3', 21, 13],\n",
       " ['1, 2, 5, 4, 6, 3, 0', 21, 14],\n",
       " ['1, 2, 5, 6, 0, 3, 4', 20, 9],\n",
       " ['1, 2, 5, 6, 0, 4, 3', 20, 10],\n",
       " ['1, 2, 5, 6, 3, 0, 4', 21, 11],\n",
       " ['1, 2, 5, 6, 3, 4, 0', 21, 13],\n",
       " ['1, 2, 5, 6, 4, 0, 3', 21, 11],\n",
       " ['1, 2, 5, 6, 4, 3, 0', 21, 12],\n",
       " ['1, 2, 6, 0, 3, 4, 5', 18, 12],\n",
       " ['1, 2, 6, 0, 3, 5, 4', 18, 9],\n",
       " ['1, 2, 6, 0, 4, 3, 5', 18, 13],\n",
       " ['1, 2, 6, 0, 4, 5, 3', 18, 11],\n",
       " ['1, 2, 6, 0, 5, 3, 4', 18, 11],\n",
       " ['1, 2, 6, 0, 5, 4, 3', 18, 9],\n",
       " ['1, 2, 6, 3, 0, 4, 5', 20, 13],\n",
       " ['1, 2, 6, 3, 0, 5, 4', 20, 10],\n",
       " ['1, 2, 6, 3, 4, 0, 5', 21, 11],\n",
       " ['1, 2, 6, 3, 4, 5, 0', 21, 12],\n",
       " ['1, 2, 6, 3, 5, 0, 4', 21, 12],\n",
       " ['1, 2, 6, 3, 5, 4, 0', 21, 11],\n",
       " ['1, 2, 6, 4, 0, 3, 5', 20, 14],\n",
       " ['1, 2, 6, 4, 0, 5, 3', 20, 12],\n",
       " ['1, 2, 6, 4, 3, 0, 5', 21, 12],\n",
       " ['1, 2, 6, 4, 3, 5, 0', 21, 13],\n",
       " ['1, 2, 6, 4, 5, 0, 3', 21, 14],\n",
       " ['1, 2, 6, 4, 5, 3, 0', 21, 12],\n",
       " ['1, 2, 6, 5, 0, 3, 4', 20, 12],\n",
       " ['1, 2, 6, 5, 0, 4, 3', 20, 10],\n",
       " ['1, 2, 6, 5, 3, 0, 4', 21, 13],\n",
       " ['1, 2, 6, 5, 3, 4, 0', 21, 12],\n",
       " ['1, 2, 6, 5, 4, 0, 3', 21, 12],\n",
       " ['1, 2, 6, 5, 4, 3, 0', 21, 13],\n",
       " ['1, 3, 0, 2, 4, 5, 6', 15, 15],\n",
       " ['1, 3, 0, 2, 4, 6, 5', 15, 13],\n",
       " ['1, 3, 0, 2, 5, 4, 6', 15, 14],\n",
       " ['1, 3, 0, 2, 5, 6, 4', 15, 14],\n",
       " ['1, 3, 0, 2, 6, 4, 5', 15, 15],\n",
       " ['1, 3, 0, 2, 6, 5, 4', 15, 12],\n",
       " ['1, 3, 0, 4, 2, 5, 6', 15, 13],\n",
       " ['1, 3, 0, 4, 2, 6, 5', 15, 11],\n",
       " ['1, 3, 0, 4, 5, 2, 6', 18, 15],\n",
       " ['1, 3, 0, 4, 5, 6, 2', 20, 16],\n",
       " ['1, 3, 0, 4, 6, 2, 5', 18, 17],\n",
       " ['1, 3, 0, 4, 6, 5, 2', 20, 15],\n",
       " ['1, 3, 0, 5, 2, 4, 6', 15, 12],\n",
       " ['1, 3, 0, 5, 2, 6, 4', 15, 12],\n",
       " ['1, 3, 0, 5, 4, 2, 6', 18, 16],\n",
       " ['1, 3, 0, 5, 4, 6, 2', 20, 14],\n",
       " ['1, 3, 0, 5, 6, 2, 4', 18, 16],\n",
       " ['1, 3, 0, 5, 6, 4, 2', 20, 12],\n",
       " ['1, 3, 0, 6, 2, 4, 5', 15, 13],\n",
       " ['1, 3, 0, 6, 2, 5, 4', 15, 10],\n",
       " ['1, 3, 0, 6, 4, 2, 5', 18, 15],\n",
       " ['1, 3, 0, 6, 4, 5, 2', 20, 13],\n",
       " ['1, 3, 0, 6, 5, 2, 4', 18, 14],\n",
       " ['1, 3, 0, 6, 5, 4, 2', 20, 13],\n",
       " ['1, 3, 2, 0, 4, 5, 6', 18, 14],\n",
       " ['1, 3, 2, 0, 4, 6, 5', 18, 15],\n",
       " ['1, 3, 2, 0, 5, 4, 6', 18, 12],\n",
       " ['1, 3, 2, 0, 5, 6, 4', 18, 14],\n",
       " ['1, 3, 2, 0, 6, 4, 5', 18, 14],\n",
       " ['1, 3, 2, 0, 6, 5, 4', 18, 11],\n",
       " ['1, 3, 2, 4, 0, 5, 6', 20, 15],\n",
       " ['1, 3, 2, 4, 0, 6, 5', 20, 16],\n",
       " ['1, 3, 2, 4, 5, 0, 6', 21, 16],\n",
       " ['1, 3, 2, 4, 5, 6, 0', 21, 14],\n",
       " ['1, 3, 2, 4, 6, 0, 5', 21, 15],\n",
       " ['1, 3, 2, 4, 6, 5, 0', 21, 16],\n",
       " ['1, 3, 2, 5, 0, 4, 6', 20, 13],\n",
       " ['1, 3, 2, 5, 0, 6, 4', 20, 15],\n",
       " ['1, 3, 2, 5, 4, 0, 6', 21, 14],\n",
       " ['1, 3, 2, 5, 4, 6, 0', 21, 15],\n",
       " ...]"
      ]
     },
     "execution_count": 74,
     "metadata": {},
     "output_type": "execute_result"
    }
   ],
   "source": [
    "# Length of example list\n",
    "n = 7\n",
    "\n",
    "results=[[str(perm)[1:-1], bubble_sort(list(perm)), heapsort(list(perm))] for perm in itertools.permutations(range(n))]\n",
    "\n",
    "# Peak at results\n",
    "results"
   ]
  },
  {
   "cell_type": "code",
   "execution_count": 75,
   "id": "8d52fe55",
   "metadata": {},
   "outputs": [
    {
     "data": {
      "text/html": [
       "<div>\n",
       "<style scoped>\n",
       "    .dataframe tbody tr th:only-of-type {\n",
       "        vertical-align: middle;\n",
       "    }\n",
       "\n",
       "    .dataframe tbody tr th {\n",
       "        vertical-align: top;\n",
       "    }\n",
       "\n",
       "    .dataframe thead th {\n",
       "        text-align: right;\n",
       "    }\n",
       "</style>\n",
       "<table border=\"1\" class=\"dataframe\">\n",
       "  <thead>\n",
       "    <tr style=\"text-align: right;\">\n",
       "      <th></th>\n",
       "      <th>list</th>\n",
       "      <th>bubble</th>\n",
       "      <th>heap</th>\n",
       "    </tr>\n",
       "  </thead>\n",
       "  <tbody>\n",
       "    <tr>\n",
       "      <th>0</th>\n",
       "      <td>0, 1, 2, 3, 4, 5, 6</td>\n",
       "      <td>6</td>\n",
       "      <td>15</td>\n",
       "    </tr>\n",
       "    <tr>\n",
       "      <th>1</th>\n",
       "      <td>0, 1, 2, 3, 4, 6, 5</td>\n",
       "      <td>11</td>\n",
       "      <td>16</td>\n",
       "    </tr>\n",
       "    <tr>\n",
       "      <th>2</th>\n",
       "      <td>0, 1, 2, 3, 5, 4, 6</td>\n",
       "      <td>11</td>\n",
       "      <td>15</td>\n",
       "    </tr>\n",
       "    <tr>\n",
       "      <th>3</th>\n",
       "      <td>0, 1, 2, 3, 5, 6, 4</td>\n",
       "      <td>15</td>\n",
       "      <td>15</td>\n",
       "    </tr>\n",
       "    <tr>\n",
       "      <th>4</th>\n",
       "      <td>0, 1, 2, 3, 6, 4, 5</td>\n",
       "      <td>11</td>\n",
       "      <td>15</td>\n",
       "    </tr>\n",
       "  </tbody>\n",
       "</table>\n",
       "</div>"
      ],
      "text/plain": [
       "                  list  bubble  heap\n",
       "0  0, 1, 2, 3, 4, 5, 6       6    15\n",
       "1  0, 1, 2, 3, 4, 6, 5      11    16\n",
       "2  0, 1, 2, 3, 5, 4, 6      11    15\n",
       "3  0, 1, 2, 3, 5, 6, 4      15    15\n",
       "4  0, 1, 2, 3, 6, 4, 5      11    15"
      ]
     },
     "execution_count": 75,
     "metadata": {},
     "output_type": "execute_result"
    }
   ],
   "source": [
    "df = pd.DataFrame(results, columns=['list','bubble','heap'])\n",
    "df.head()"
   ]
  },
  {
   "cell_type": "code",
   "execution_count": 77,
   "id": "4edbdb6a",
   "metadata": {},
   "outputs": [
    {
     "data": {
      "text/html": [
       "<div>\n",
       "<style scoped>\n",
       "    .dataframe tbody tr th:only-of-type {\n",
       "        vertical-align: middle;\n",
       "    }\n",
       "\n",
       "    .dataframe tbody tr th {\n",
       "        vertical-align: top;\n",
       "    }\n",
       "\n",
       "    .dataframe thead th {\n",
       "        text-align: right;\n",
       "    }\n",
       "</style>\n",
       "<table border=\"1\" class=\"dataframe\">\n",
       "  <thead>\n",
       "    <tr style=\"text-align: right;\">\n",
       "      <th></th>\n",
       "      <th>bubble</th>\n",
       "      <th>heap</th>\n",
       "    </tr>\n",
       "  </thead>\n",
       "  <tbody>\n",
       "    <tr>\n",
       "      <th>count</th>\n",
       "      <td>5040.000000</td>\n",
       "      <td>5040.000000</td>\n",
       "    </tr>\n",
       "    <tr>\n",
       "      <th>mean</th>\n",
       "      <td>19.454167</td>\n",
       "      <td>11.184524</td>\n",
       "    </tr>\n",
       "    <tr>\n",
       "      <th>std</th>\n",
       "      <td>2.021290</td>\n",
       "      <td>2.065527</td>\n",
       "    </tr>\n",
       "    <tr>\n",
       "      <th>min</th>\n",
       "      <td>6.000000</td>\n",
       "      <td>5.000000</td>\n",
       "    </tr>\n",
       "    <tr>\n",
       "      <th>25%</th>\n",
       "      <td>18.000000</td>\n",
       "      <td>10.000000</td>\n",
       "    </tr>\n",
       "    <tr>\n",
       "      <th>50%</th>\n",
       "      <td>20.000000</td>\n",
       "      <td>11.000000</td>\n",
       "    </tr>\n",
       "    <tr>\n",
       "      <th>75%</th>\n",
       "      <td>21.000000</td>\n",
       "      <td>13.000000</td>\n",
       "    </tr>\n",
       "    <tr>\n",
       "      <th>max</th>\n",
       "      <td>21.000000</td>\n",
       "      <td>17.000000</td>\n",
       "    </tr>\n",
       "  </tbody>\n",
       "</table>\n",
       "</div>"
      ],
      "text/plain": [
       "            bubble         heap\n",
       "count  5040.000000  5040.000000\n",
       "mean     19.454167    11.184524\n",
       "std       2.021290     2.065527\n",
       "min       6.000000     5.000000\n",
       "25%      18.000000    10.000000\n",
       "50%      20.000000    11.000000\n",
       "75%      21.000000    13.000000\n",
       "max      21.000000    17.000000"
      ]
     },
     "execution_count": 77,
     "metadata": {},
     "output_type": "execute_result"
    }
   ],
   "source": [
    "df.describe()"
   ]
  },
  {
   "cell_type": "markdown",
   "id": "792fcf5c",
   "metadata": {},
   "source": [
    "## Extras\n",
    "***"
   ]
  },
  {
   "cell_type": "code",
   "execution_count": 52,
   "id": "22ab1712",
   "metadata": {},
   "outputs": [
    {
     "name": "stdout",
     "output_type": "stream",
     "text": [
      "1\n"
     ]
    }
   ],
   "source": [
    "# Ints are passed by value (copy of variable made)(most primitives as well are)\n",
    "\n",
    "a = 1\n",
    "\n",
    "# Function: b is a value\n",
    "def change(b):\n",
    "    b = 2\n",
    "\n",
    "# a is passed by value\n",
    "change(a)\n",
    "\n",
    "# a has not changed\n",
    "print(a)"
   ]
  },
  {
   "cell_type": "code",
   "execution_count": 53,
   "id": "a6c290ca",
   "metadata": {},
   "outputs": [
    {
     "name": "stdout",
     "output_type": "stream",
     "text": [
      "[1, 2, 100, 4]\n"
     ]
    }
   ],
   "source": [
    "# Lists are passed by reference (pointer to location in memory)\n",
    "\n",
    "# List\n",
    "a = [1,2,3,4]\n",
    "\n",
    "# Function: a is a reference\n",
    "def change(b):\n",
    "    # Change an element\n",
    "    b[2] = 100\n",
    "    \n",
    "# Pass list to change\n",
    "change(a)\n",
    "\n",
    "# a has changed\n",
    "print(a)"
   ]
  },
  {
   "cell_type": "markdown",
   "id": "270691d0",
   "metadata": {},
   "source": [
    "***\n",
    "## End of Work"
   ]
  }
 ],
 "metadata": {
  "kernelspec": {
   "display_name": "Python 3 (ipykernel)",
   "language": "python",
   "name": "python3"
  },
  "language_info": {
   "codemirror_mode": {
    "name": "ipython",
    "version": 3
   },
   "file_extension": ".py",
   "mimetype": "text/x-python",
   "name": "python",
   "nbconvert_exporter": "python",
   "pygments_lexer": "ipython3",
   "version": "3.9.7"
  }
 },
 "nbformat": 4,
 "nbformat_minor": 5
}
